{
 "cells": [
  {
   "cell_type": "markdown",
   "id": "c0155926-d629-4d61-8bc0-1ae63b0aa8fd",
   "metadata": {},
   "source": [
    "# Working with AI models\n",
    "\n",
    "In this tutorial, we will guide you through basic steps of how to download\n",
    "\n",
    "1) Download external datasets\n",
    "2) Prepare, process and train data\n",
    "3) Predict your own dataset (query)\n",
    "4) Extend the model with additional data"
   ]
  },
  {
   "cell_type": "code",
   "execution_count": null,
   "id": "0932b15a-f40e-45e1-9b58-2cc4e8166cf8",
   "metadata": {},
   "outputs": [],
   "source": [
    "!pip install --quiet scvi-colab\n",
    "from scvi_colab import install\n",
    "\n",
    "install()"
   ]
  },
  {
   "cell_type": "code",
   "execution_count": null,
   "id": "7f824425-63d6-4918-ab8e-6ecbda38206e",
   "metadata": {},
   "outputs": [],
   "source": [
    "import scvi\n",
    "import torch\n",
    "import anndata\n",
    "\n",
    "import seaborn as sns\n",
    "import matplotlib.pyplot as plt"
   ]
  },
  {
   "cell_type": "code",
   "execution_count": null,
   "id": "a6525b8c-a138-4c75-bad9-3b4b90715601",
   "metadata": {},
   "outputs": [],
   "source": [
    "scvi.settings.seed = 0\n",
    "print(\"Last run with scvi-tools version:\", scvi.__version__)"
   ]
  },
  {
   "cell_type": "code",
   "execution_count": null,
   "id": "e55a91cd-da55-455c-9b42-128c4b40cda7",
   "metadata": {},
   "outputs": [],
   "source": [
    "sc.set_figure_params(figsize=(6, 6), frameon=False)\n",
    "sns.set_theme()\n",
    "torch.set_float32_matmul_precision(\"high\")\n",
    "save_dir = tempfile.TemporaryDirectory()\n",
    "\n",
    "%config InlineBackend.print_figure_kwargs={\"facecolor\": \"w\"}\n",
    "%config InlineBackend.figure_format=\"retina\""
   ]
  },
  {
   "cell_type": "markdown",
   "id": "0c68c986-a6d8-405f-9279-aeae7db1e5fa",
   "metadata": {},
   "source": [
    "## 1. Download public datasets\n",
    "\n",
    "To download dataset we suggest using automated pipelines from [nf-core](https://nf-co.re). \n",
    "\n",
    "In order to to download publicly available datasets, you can execute:\n",
    "\n",
    "```bash\n",
    "nextflow run nf-core/fetchngs -profile test,docker --input ./ids.csv --output ./results\n",
    "```\n",
    "\n",
    "Next, alignment to reference genome is required. In our model we have used the following genomes:\n",
    "\n",
    "- **Mouse (GRCm38 v102)**\n",
    "    - `Mus_musculus.GRCm38.dna_sm.primary_assembly.fa`\n",
    "    - `Mus_musculus.GRCm38.102.gtf`\n",
    "- **Human (GRCh38 v110)**\n",
    "    - `Homo_sapiens.GRCh38.dna_sm.primary_assembly.fa`\n",
    "    - `Homo_sapiens.GRCh38.110.gtf`\n",
    "\n",
    "### For SMART-seq experiments run:`\n",
    "\n",
    "```bash\n",
    "nextflow run brickmanlab/scrnaseq -r feature/smartseq -c smartseq.human.config --input ./results/samplesheet/samplesheet.csv\n",
    "```\n",
    "\n",
    "with `smartseq.human.config`:\n",
    "\n",
    "```groovy\n",
    "process {\n",
    "    withName: STAR_ALIGN {\n",
    "        ext.args = \"--readFilesCommand zcat --soloUMIdedup NoDedup --soloStrand Unstranded\"\n",
    "    }\n",
    "}\n",
    "```\n",
    "\n",
    "### For 10X Chromium datasets run:\n",
    "\n",
    "```bash\n",
    "nextflow run brickmanlab/scrnaseq -c 10X.human.config --input ./results/samplesheet/samplesheet.csv\n",
    "```\n",
    "\n",
    "with `10X.human.config`:\n",
    "\n",
    "```groovy\n",
    "process {\n",
    "    aligner = \"star\"\n",
    "    protocol = \"10XV3\" # or \"10XV2\"\n",
    "}\n",
    "```\n",
    "\n",
    "If everything went correct, you should see your raw count matrix in `results/star/mtx_conversions/combined_matrix.h5ad`.\n",
    "\n",
    "Repeat the same process for all the wanted datasets. If in doubt, please see our notebooks [01_fetchngs_mouse.ipynb](../notebooks/01_fetchngs_mouse.ipynb) and [01_fetchngs_human.ipynb](../notebooks/01_fetchngs_human.ipynb) for inspiration. "
   ]
  },
  {
   "cell_type": "markdown",
   "id": "c37238f3-11b8-4a47-b863-b2e09954fbc1",
   "metadata": {},
   "source": [
    "## 2. Prepare, process and train data"
   ]
  },
  {
   "cell_type": "code",
   "execution_count": null,
   "id": "6ab7a395-b71a-4760-b3cc-95c7a0f24e05",
   "metadata": {},
   "outputs": [],
   "source": [
    "import anndata\n",
    "\n",
    "\n",
    "# concat all datasets into one\n",
    "adata = anndata.concat([...])\n",
    "\n",
    "# make sure cells and gene names are unique\n",
    "adata.obs_names_make_unique()\n",
    "adata.var_names_make_unique()"
   ]
  },
  {
   "cell_type": "code",
   "execution_count": null,
   "id": "7b1d7a09-7dc6-4948-9a39-f67b861d1f3a",
   "metadata": {},
   "outputs": [],
   "source": [
    "adata.var[\"mt\"] = adata.var_names.str.startswith(\"mt-\")\n",
    "# or for human\n",
    "# adata.var[\"mt\"] = adata.var_names.str.startswith(\"MT-\")\n",
    "\n",
    "sc.pp.calculate_qc_metrics(adata, qc_vars=[\"mt\"], percent_top=None, log1p=False, inplace=True)"
   ]
  },
  {
   "cell_type": "code",
   "execution_count": null,
   "id": "4c713913-754e-441c-bb70-e07e6b261ddb",
   "metadata": {},
   "outputs": [],
   "source": [
    "sc.pl.violin(adata, ['n_genes_by_counts', 'total_counts', 'pct_counts_mt'], jitter=0.4, multi_panel=True)"
   ]
  },
  {
   "cell_type": "code",
   "execution_count": null,
   "id": "a07d40a3-f779-49af-a5f9-f0aaf565a25b",
   "metadata": {},
   "outputs": [],
   "source": [
    "adata.layers[\"counts\"] = adata.X.copy()\n",
    "\n",
    "sc.pp.normalize_total(adata)\n",
    "sc.pp.log1p(adata)\n",
    "adata.raw = adata\n",
    "\n",
    "adata"
   ]
  },
  {
   "cell_type": "code",
   "execution_count": null,
   "id": "79f1ccfd-0354-4f52-9d20-9dd492ad2ec0",
   "metadata": {},
   "outputs": [],
   "source": [
    "sc.tl.pca(adata, svd_solver='arpack')\n",
    "sc.pl.pca(adata, color=['batch'], frameon=False, wspace=0.4, ncols=2)"
   ]
  },
  {
   "cell_type": "code",
   "execution_count": null,
   "id": "eb4b9b90-7a8f-4a31-9b80-a6fe283f7d2c",
   "metadata": {},
   "outputs": [],
   "source": [
    "adata.write(\"adata_raw.h5ad\")"
   ]
  },
  {
   "cell_type": "markdown",
   "id": "745fde95-c971-45a5-aa43-64ace1c860a4",
   "metadata": {
    "jp-MarkdownHeadingCollapsed": true
   },
   "source": [
    "### 2.1. Train model\n",
    "\n",
    "We use scvi-tool to build our models which are build using variational encoder. For detailed information refer to [scvi-tools](http://scvi-tools.org). "
   ]
  },
  {
   "cell_type": "code",
   "execution_count": null,
   "id": "6aa5b205-6802-4839-9927-c188e1a476f2",
   "metadata": {},
   "outputs": [],
   "source": [
    "adata.uns['log1p'][\"base\"] = None\n",
    "sc.pp.highly_variable_genes(\n",
    "    adata,\n",
    "    flavor=\"cell_ranger\",\n",
    "    n_top_genes=3_000,\n",
    "    batch_key=\"batch\",\n",
    "    subset=True,\n",
    ")\n",
    "adata.shape"
   ]
  },
  {
   "cell_type": "markdown",
   "id": "02e6d0d1-297b-45c8-b4be-191e2c577910",
   "metadata": {},
   "source": [
    "Figuring out correct parameters for the training can be quite tricky. There are few options, either testing few parameters and see if the training improved, or using the scvi's [autone](https://docs.scvi-tools.org/en/stable/tutorials/notebooks/tuning/autotune_new_model.html) tutorial.\n",
    "\n",
    "From our experience, the biggest difference can be immediatelly seen by adjusting:\n",
    "\n",
    "- `n_layers`: 2 .. 5\n",
    "- `gene_likelihood`: `nb` or `zinb`"
   ]
  },
  {
   "cell_type": "code",
   "execution_count": null,
   "id": "65122cbf-8953-4396-a017-53931ac8640a",
   "metadata": {},
   "outputs": [],
   "source": [
    "vae = scvi.model.SCVI(adata, n_layers=2, gene_likelihood='nb')"
   ]
  },
  {
   "cell_type": "markdown",
   "id": "afeec4cc-1997-4e6d-bb2f-b848f84c3300",
   "metadata": {},
   "source": [
    "We recommend using `early_stopping` flag"
   ]
  },
  {
   "cell_type": "code",
   "execution_count": null,
   "id": "b531e047-929b-4c6b-9ecd-6f5255232c78",
   "metadata": {},
   "outputs": [],
   "source": [
    "vae.train(early_stopping=True)"
   ]
  },
  {
   "cell_type": "markdown",
   "id": "2812a975-fbf9-4c38-a452-ecf2917145df",
   "metadata": {},
   "source": [
    "Make sure to next inspect the train/test ELBO validation plot. Both metrics should converge into a specific value. If that's not the case, try training for longer period or adjust the parameters."
   ]
  },
  {
   "cell_type": "code",
   "execution_count": null,
   "id": "e6b74022-3325-41e5-adf6-e14cd0d1e04e",
   "metadata": {},
   "outputs": [],
   "source": [
    "pd.concat([vae.history['elbo_train'], vae.history['elbo_validation']], axis=1).plot.line(marker='o')"
   ]
  },
  {
   "cell_type": "code",
   "execution_count": null,
   "id": "da7e93d8-0278-424d-bfe0-46ae6fd35992",
   "metadata": {},
   "outputs": [],
   "source": [
    "adata.obsm[\"X_scVI\"] = vae.get_latent_representation(adata)\n",
    "adata.obsm[\"X_mde_scVI\"] = mde(adata.obsm[\"X_scVI\"])\n",
    "\n",
    "adata.layers['scVI_normalized'] = vae.get_normalized_expression(return_numpy=True)\n",
    "\n",
    "# Save the model\n",
    "vae.save(\"../results/scvi\", overwrite=True, save_anndata=True)"
   ]
  },
  {
   "cell_type": "markdown",
   "id": "6a4c1bc5-3ef1-43f7-89e0-1155767449f1",
   "metadata": {},
   "source": [
    "### 2.2. Classifier\n",
    "\n",
    "To train classifier, your cells have to be labeled by cell types. This has to be determined in advance. **Remember**, the classifier is only as good as the actual data it is trained on.\n",
    "\n",
    "In case you training is not performing well or you have small number of cells try setting `linear_classifier=True` in the code below."
   ]
  },
  {
   "cell_type": "code",
   "execution_count": null,
   "id": "67abf80e-fc0a-48a3-83d6-a2dd77a43475",
   "metadata": {},
   "outputs": [],
   "source": [
    "lvae = scvi.model.SCANVI.from_scvi_model(vae, adata=adata, labels_key=\"annotations\", unlabeled_category=\"Unknown\")\n",
    "# lvae = scvi.model.SCANVI.from_scvi_model(vae, adata=adata, labels_key=\"annotations\", unlabeled_category=\"Unknown\", linear_classifier=True)\n",
    "lvae"
   ]
  },
  {
   "cell_type": "code",
   "execution_count": null,
   "id": "d41a45f8-246f-4dcc-b95c-75a8e3a8ee7d",
   "metadata": {},
   "outputs": [],
   "source": [
    "max_epochs_scanvi = int(np.min([10, np.max([2, round(200 / 3.0)])]))\n",
    "print(max_epochs_scanvi)"
   ]
  },
  {
   "cell_type": "markdown",
   "id": "9809dfcb-0ac8-4c17-be37-c339c9b545dc",
   "metadata": {},
   "source": [
    "In case of smaller number of cells increasing the sampling size (`n_samples_per_label`) helps with increasing the overall performance."
   ]
  },
  {
   "cell_type": "code",
   "execution_count": null,
   "id": "fe919bab-1dc9-451e-90e2-cb917f5784eb",
   "metadata": {},
   "outputs": [],
   "source": [
    "lvae.train(max_epochs=15)\n",
    "# lvae.train(max_epochs=15, n_samples_per_label=15)"
   ]
  },
  {
   "cell_type": "code",
   "execution_count": null,
   "id": "de71d883-9f29-44ab-bddf-65bead4a8b2f",
   "metadata": {},
   "outputs": [],
   "source": [
    "# Inspect the training\n",
    "\n",
    "fig, ax = plt.subplots(3, 3, figsize=[20, 14])\n",
    "for idx, key in enumerate(lvae.history.keys()):\n",
    "    lvae.history[key].plot(title=key, ax=ax[idx // 3 , idx % 3])"
   ]
  },
  {
   "cell_type": "code",
   "execution_count": null,
   "id": "14e2fef7-33e4-4293-a8ef-aaab25d549f3",
   "metadata": {},
   "outputs": [],
   "source": [
    "adata.obsm[\"X_scANVI\"] = lvae.get_latent_representation(adata)\n",
    "adata.obsm[\"X_mde_scANVI\"] = mde(adata.obsm[\"X_scANVI\"])\n",
    "\n",
    "adata.layers['scANVI_normalized'] = lvae.get_normalized_expression(return_numpy=True)\n",
    "\n",
    "# Save the classifier model\n",
    "lvae.save(\"../results/scanvi\", overwrite=True, save_anndata=True)"
   ]
  },
  {
   "cell_type": "markdown",
   "id": "0fc067c6-4c5e-4abf-98b5-c63e7e8b98d9",
   "metadata": {},
   "source": [
    "## 3. Predict your dataset\n",
    "\n",
    "Either use your own trained classifier for prediction"
   ]
  },
  {
   "cell_type": "code",
   "execution_count": null,
   "id": "f35e45cb-7ccb-476d-9ff1-052a6b011d4a",
   "metadata": {},
   "outputs": [],
   "source": [
    "lvae = scvi.model.SCANVI.load(\"../results/scanvi/\")"
   ]
  },
  {
   "cell_type": "markdown",
   "id": "3ce57160-58bb-4c2f-9237-1a0225259282",
   "metadata": {},
   "source": [
    "or use our pre-made one from the publication"
   ]
  },
  {
   "cell_type": "code",
   "execution_count": null,
   "id": "6b09802c-e371-4f52-bcfd-1e845ea37113",
   "metadata": {},
   "outputs": [],
   "source": [
    "from scvi.hub import HubModel\n",
    "\n",
    "\n",
    "lvae = HubModel.pull_from_huggingface_hub(\n",
    "    repo_name=\"brickmanlab/human-scanvi\",\n",
    "    cache_dir=\"./human_scanvi_model_downloaded/\",\n",
    "    revision=\"main\",\n",
    ")"
   ]
  },
  {
   "cell_type": "code",
   "execution_count": null,
   "id": "bb5a1c8f-a1bb-4660-8ba7-7c13af9fcda2",
   "metadata": {},
   "outputs": [],
   "source": [
    "query = anndata.read_h5ad('./query.h5ad')"
   ]
  },
  {
   "cell_type": "code",
   "execution_count": null,
   "id": "8f65475c-a9c5-44ef-a1ad-a4a2daf3556c",
   "metadata": {},
   "outputs": [],
   "source": [
    "scvi.model.SCANVI.prepare_query_anndata(nned, lvae)\n",
    "\n",
    "lvae_q = scvi.model.SCANVI.load_query_data(query, lvae)\n",
    "lvae_q.train(max_epochs=100, plan_kwargs=dict(weight_decay=0.0), check_val_every_n_epoch=10)"
   ]
  },
  {
   "cell_type": "code",
   "execution_count": null,
   "id": "c4be6648-f4f2-4e06-a5c0-06fa96a69b37",
   "metadata": {},
   "outputs": [],
   "source": [
    "query.obs['prediction'] = lvae_q.predict()\n",
    "query.obs['entropy'] = 1 - lvae_q.predict(soft=True).max(axis=1)"
   ]
  },
  {
   "cell_type": "code",
   "execution_count": null,
   "id": "af972493-9357-492a-b5ca-549bc0ba329f",
   "metadata": {},
   "outputs": [],
   "source": [
    "sc.pl.pca(query, color=['batch', 'prediction', 'entropy'])"
   ]
  },
  {
   "cell_type": "code",
   "execution_count": null,
   "id": "3bdacb79-4a38-41a4-80fd-25d1d125237e",
   "metadata": {},
   "outputs": [],
   "source": [
    "query.save('../results/query.predicted.h5ad')"
   ]
  },
  {
   "cell_type": "markdown",
   "id": "f65ae255-81cb-43ba-a513-efc695ff8965",
   "metadata": {},
   "source": [
    "## 4. Extend your model with new data"
   ]
  },
  {
   "cell_type": "code",
   "execution_count": null,
   "id": "68f4858e-fb30-4594-9b8a-b15f2620976a",
   "metadata": {},
   "outputs": [],
   "source": [
    "adata_newds = sc.read_h5ad('./adata_newds.h5ad')"
   ]
  },
  {
   "cell_type": "code",
   "execution_count": null,
   "id": "ac5474ea-9768-4320-88c6-40c0477fac38",
   "metadata": {},
   "outputs": [],
   "source": [
    "extended_adata = ad.concat([lvae.adata, adata_newds])"
   ]
  },
  {
   "cell_type": "code",
   "execution_count": null,
   "id": "729ba22e-67b8-41bc-be7c-cdf38cbf6f36",
   "metadata": {},
   "outputs": [],
   "source": [
    "scvi.model.SCVI.setup_anndata(extended_adata, layer=\"counts\", batch_key=\"batch\",)\n",
    "extended_vae = scvi.model.SCVI(extended_adata, n_layers=2, gene_likelihood='nb')"
   ]
  },
  {
   "cell_type": "code",
   "execution_count": null,
   "id": "dd6eac9c-ccfe-46df-9b6f-3d982a3cbe34",
   "metadata": {},
   "outputs": [],
   "source": [
    "extended_vae.train()"
   ]
  },
  {
   "cell_type": "code",
   "execution_count": null,
   "id": "4e23b7b3-677a-489d-882e-de9265ee433b",
   "metadata": {},
   "outputs": [],
   "source": [
    "extended_adata.obsm[\"X_scVI\"] = extended_vae.get_latent_representation(extended_adata)\n",
    "extended_adata.layers['scVI_normalized'] = extended_vae.get_normalized_expression(return_numpy=True)"
   ]
  },
  {
   "cell_type": "markdown",
   "id": "38f83507-21dd-4638-9e27-6866bb217583",
   "metadata": {},
   "source": [
    "### 4.1. Analysis"
   ]
  },
  {
   "cell_type": "code",
   "execution_count": null,
   "id": "b51a25aa-44d2-48a6-9a1b-692c6e5d2fc5",
   "metadata": {},
   "outputs": [],
   "source": [
    "USE_REP = 'X_scVI'\n",
    "\n",
    "sc.pp.neighbors(extended_adata, use_rep=USE_REP)\n",
    "sc.tl.leiden(extended_adata)\n",
    "sc.tl.pca(extended_adata)\n",
    "sc.tl.draw_graph(extended_adata, n_jobs=8, random_state=3)\n",
    "\n",
    "sc.pp.neighbors(extended_adata, use_rep=USE_REP)\n",
    "sc.tl.diffmap(extended_adata)\n",
    "\n",
    "sc.tl.paga(extended_adata, groups='prediction')\n",
    "sc.pl.paga(extended_adata, color=['prediction'], frameon=False, fontoutline=True)\n",
    "sc.tl.draw_graph(extended_adata, init_pos='paga', n_jobs=10)"
   ]
  },
  {
   "cell_type": "code",
   "execution_count": null,
   "id": "1d354883-4f10-4297-ac1c-b80194728613",
   "metadata": {},
   "outputs": [],
   "source": [
    "# Save the dataset\n",
    "extended_adata.write('./results/extended_adata.h5ad')"
   ]
  }
 ],
 "metadata": {
  "kernelspec": {
   "display_name": "Python [conda env:fdb589-scvi-0.20.1]",
   "language": "python",
   "name": "conda-env-fdb589-scvi-0.20.1-py"
  },
  "language_info": {
   "codemirror_mode": {
    "name": "ipython",
    "version": 3
   },
   "file_extension": ".py",
   "mimetype": "text/x-python",
   "name": "python",
   "nbconvert_exporter": "python",
   "pygments_lexer": "ipython3",
   "version": "3.8.16"
  }
 },
 "nbformat": 4,
 "nbformat_minor": 5
}
