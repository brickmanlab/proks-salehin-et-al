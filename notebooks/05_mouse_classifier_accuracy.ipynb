{
 "cells": [
  {
   "cell_type": "markdown",
   "id": "72e84b59-2864-467f-bdb6-15025c14e454",
   "metadata": {},
   "source": [
    "---\n",
    "title: 05 - mouse classifier accuracy\n",
    "author: Martin Proks\n",
    "date: 20-09-2023\n",
    "---\n",
    "\n",
    "Measure classifier accuracies"
   ]
  },
  {
   "cell_type": "code",
   "execution_count": 1,
   "id": "5629c63f-b7e4-4c32-aa83-e2107893d8c0",
   "metadata": {},
   "outputs": [
    {
     "name": "stdout",
     "output_type": "stream",
     "text": [
      "/projects/dan1/data/Brickman/conda/envs/scvi-1.0.0/bin/pip\n"
     ]
    }
   ],
   "source": [
    "!which pip"
   ]
  },
  {
   "cell_type": "code",
   "execution_count": 2,
   "id": "183dbdbc-328b-4b2a-bdd5-6ceec5bd86eb",
   "metadata": {},
   "outputs": [
    {
     "name": "stderr",
     "output_type": "stream",
     "text": [
      "/projects/dan1/data/Brickman/conda/envs/scvi-1.0.0/lib/python3.10/site-packages/scvi/_settings.py:63: UserWarning: Since v1.0.0, scvi-tools no longer uses a random seed by default. Run `scvi.settings.seed = 0` to reproduce results from previous versions.\n",
      "  self.seed = seed\n",
      "/projects/dan1/data/Brickman/conda/envs/scvi-1.0.0/lib/python3.10/site-packages/scvi/_settings.py:70: UserWarning: Setting `dl_pin_memory_gpu_training` is deprecated in v1.0 and will be removed in v1.1. Please pass in `pin_memory` to the data loaders instead.\n",
      "  self.dl_pin_memory_gpu_training = (\n",
      "[rank: 0] Global seed set to 0\n"
     ]
    }
   ],
   "source": [
    "%matplotlib inline\n",
    "\n",
    "import scvi\n",
    "import squarify\n",
    "import scgen\n",
    "import scanpy as sc\n",
    "import xgboost as xgb\n",
    "import pandas as pd\n",
    "import numpy as np\n",
    "import seaborn as sns\n",
    "import matplotlib.pyplot as plt\n",
    "\n",
    "from typing import Tuple\n",
    "from sklearn.metrics import accuracy_score, balanced_accuracy_score, f1_score\n",
    "\n",
    "from numba.core.errors import NumbaDeprecationWarning, NumbaPendingDeprecationWarning\n",
    "import warnings\n",
    "\n",
    "warnings.simplefilter('ignore', category=NumbaDeprecationWarning)\n",
    "warnings.simplefilter('ignore', category=NumbaPendingDeprecationWarning)\n",
    "warnings.simplefilter('ignore', category=FutureWarning)\n",
    "warnings.simplefilter('ignore', category=UserWarning)\n",
    "\n",
    "scvi.settings.seed = 0\n",
    "\n",
    "import os\n",
    "os.environ['CUDA_VISIBLE_DEVICES'] = '1,2'"
   ]
  },
  {
   "cell_type": "code",
   "execution_count": 3,
   "id": "c9dde576-5e89-4188-93df-21bab5b95829",
   "metadata": {},
   "outputs": [],
   "source": [
    "# %run ../scripts/helpers.py"
   ]
  },
  {
   "cell_type": "code",
   "execution_count": 4,
   "id": "2e28f71d-6502-4c05-9338-c924dce9b734",
   "metadata": {},
   "outputs": [],
   "source": [
    "mouse_ct_colors = {\n",
    "    'Zygote': '#7985A5',\n",
    "    '2C': '#B3C81E',\n",
    "    '4C': '#67BB30',\n",
    "    '8C': '#028A46',\n",
    "    '16C': '#657cbd',\n",
    "    'E3.25-ICM': '#fadc8f',\n",
    "    'E3.25-TE': '#5185b9',\n",
    "    'E3.5-ICM': '#f8d06a',\n",
    "    'E3.5-TE': '#7ba9d8',\n",
    "    'E3.5-EPI': '#c38cb0',\n",
    "    'E3.5-PrE': '#d97c81',\n",
    "    'E3.75-ICM': '#F6C445',\n",
    "    'E4.5-TE': '#5a94ce',\n",
    "    'E4.5-EPI': '#B46F9C',\n",
    "    'E4.5-PrE': '#D05B61'\n",
    "}"
   ]
  },
  {
   "cell_type": "markdown",
   "id": "87e86490-292c-4a93-a2db-83475043e604",
   "metadata": {},
   "source": [
    "## Overall accuracy"
   ]
  },
  {
   "cell_type": "code",
   "execution_count": 5,
   "id": "5d511072-649a-4b1c-a097-39d5894f49c6",
   "metadata": {},
   "outputs": [],
   "source": [
    "import scgen\n",
    "import squarify\n",
    "import xgboost as xgb\n",
    "import matplotlib.cm as cm\n",
    "\n",
    "\n",
    "from matplotlib.colors import Normalize\n",
    "from sklearn.metrics import accuracy_score, balanced_accuracy_score, f1_score"
   ]
  },
  {
   "cell_type": "code",
   "execution_count": 6,
   "id": "17203169-8c5b-4f0e-9cb9-73bbc1a3deef",
   "metadata": {},
   "outputs": [],
   "source": [
    "mouse = sc.read(\"../results/03_mouse.processed.h5ad\")\n",
    "mouse.obs.stage = mouse.obs.stage.astype('category').cat.reorder_categories(['Zygote', '2C', '4C', '8C', '16C', 'ICM', 'TE', 'EPI', 'PrE'])"
   ]
  },
  {
   "cell_type": "code",
   "execution_count": 7,
   "id": "d0c1145c-e7a7-4a41-93eb-17b227843bd9",
   "metadata": {},
   "outputs": [
    {
     "data": {
      "text/plain": [
       "E3.5-ICM     459\n",
       "E3.5-PrE     254\n",
       "E4.5-PrE     207\n",
       "16C          198\n",
       "E3.5-EPI     175\n",
       "8C           115\n",
       "4C           114\n",
       "E4.5-EPI     108\n",
       "E3.5-TE      107\n",
       "2C            86\n",
       "E3.75-ICM     48\n",
       "E3.25-TE      47\n",
       "E3.25-ICM     40\n",
       "E4.5-TE       28\n",
       "Zygote        18\n",
       "Name: ct, dtype: int64"
      ]
     },
     "execution_count": 7,
     "metadata": {},
     "output_type": "execute_result"
    }
   ],
   "source": [
    "mouse.obs.ct.value_counts()"
   ]
  },
  {
   "cell_type": "code",
   "execution_count": 8,
   "id": "b5c108c7-c349-423a-8fe0-7182c6fa1860",
   "metadata": {},
   "outputs": [],
   "source": [
    "CLFS_ORDER = ['xg_scVI', 'xg_scANVI', 'xg_scGEN', 'scANVI', 'scANVI_ns15']"
   ]
  },
  {
   "cell_type": "code",
   "execution_count": 9,
   "id": "7302d3bd-0290-49c5-8c9b-cccc31f9ce57",
   "metadata": {},
   "outputs": [
    {
     "name": "stdout",
     "output_type": "stream",
     "text": [
      "\u001b[34mINFO    \u001b[0m File ..\u001b[35m/results/02_mouse_integration/scanvi/\u001b[0m\u001b[95mmodel.pt\u001b[0m already downloaded                                   \n",
      "\u001b[34mINFO    \u001b[0m File ..\u001b[35m/results/02_mouse_integration/scanvi_ns_15/\u001b[0m\u001b[95mmodel.pt\u001b[0m already downloaded                             \n",
      "\u001b[34mINFO    \u001b[0m File ..\u001b[35m/results/02_mouse_integration/scvi/\u001b[0m\u001b[95mmodel.pt\u001b[0m already downloaded                                     \n",
      "\u001b[34mINFO    \u001b[0m File ..\u001b[35m/results/02_mouse_integration/scanvi/\u001b[0m\u001b[95mmodel.pt\u001b[0m already downloaded                                   \n",
      "\u001b[34mINFO    \u001b[0m File ..\u001b[35m/results/02_mouse_integration/scgen/\u001b[0m\u001b[95mmodel.pt\u001b[0m already downloaded                                    \n"
     ]
    }
   ],
   "source": [
    "predictions = mouse.obs[['ct']].copy()\n",
    "xg_clf = xgb.XGBClassifier()\n",
    "\n",
    "lvae = scvi.model.SCANVI.load(\"../results/02_mouse_integration/scanvi/\")\n",
    "predictions['scANVI'] = lvae.predict()\n",
    "\n",
    "lvae = scvi.model.SCANVI.load(\"../results/02_mouse_integration/scanvi_ns_15/\")\n",
    "predictions['scANVI_ns15'] = lvae.predict()\n",
    "\n",
    "vae = scvi.model.SCVI.load(\"../results/02_mouse_integration/scvi/\")\n",
    "xg_clf.load_model(\"../results/05_scVI_xgboost.json\")\n",
    "predictions['xg_scVI'] = predictions.ct.cat.categories[xg_clf.predict(vae.get_normalized_expression(return_mean=True, return_numpy=True))]\n",
    "\n",
    "lvae = scvi.model.SCANVI.load(\"../results/02_mouse_integration/scanvi/\")\n",
    "xg_clf.load_model(\"../results/05_scANVI_xgboost.json\")\n",
    "predictions['xg_scANVI'] = predictions.ct.cat.categories[xg_clf.predict(lvae.get_normalized_expression(return_mean=True, return_numpy=True))]\n",
    "\n",
    "mscgen = scgen.SCGEN.load(\"../results/02_mouse_integration/scgen/\")\n",
    "xg_clf.load_model(\"../results/05_scGEN_xgboost.json\")\n",
    "predictions['xg_scGEN'] = predictions.ct.cat.categories[xg_clf.predict(mscgen.get_decoded_expression())]"
   ]
  },
  {
   "cell_type": "code",
   "execution_count": 10,
   "id": "e8cba013-5e7d-41eb-aeb4-143254399902",
   "metadata": {},
   "outputs": [
    {
     "data": {
      "text/html": [
       "<div>\n",
       "<style scoped>\n",
       "    .dataframe tbody tr th:only-of-type {\n",
       "        vertical-align: middle;\n",
       "    }\n",
       "\n",
       "    .dataframe tbody tr th {\n",
       "        vertical-align: top;\n",
       "    }\n",
       "\n",
       "    .dataframe thead th {\n",
       "        text-align: right;\n",
       "    }\n",
       "</style>\n",
       "<table border=\"1\" class=\"dataframe\">\n",
       "  <thead>\n",
       "    <tr style=\"text-align: right;\">\n",
       "      <th></th>\n",
       "      <th>Accuracy</th>\n",
       "      <th>Bal. Accuracy</th>\n",
       "      <th>F1 (micro)</th>\n",
       "      <th>F1 (macro)</th>\n",
       "    </tr>\n",
       "  </thead>\n",
       "  <tbody>\n",
       "    <tr>\n",
       "      <th>xg_scVI</th>\n",
       "      <td>0.955090</td>\n",
       "      <td>0.969146</td>\n",
       "      <td>0.955090</td>\n",
       "      <td>0.970610</td>\n",
       "    </tr>\n",
       "    <tr>\n",
       "      <th>xg_scANVI</th>\n",
       "      <td>0.944611</td>\n",
       "      <td>0.959064</td>\n",
       "      <td>0.944611</td>\n",
       "      <td>0.961897</td>\n",
       "    </tr>\n",
       "    <tr>\n",
       "      <th>xg_scGEN</th>\n",
       "      <td>0.984531</td>\n",
       "      <td>0.988347</td>\n",
       "      <td>0.984531</td>\n",
       "      <td>0.988487</td>\n",
       "    </tr>\n",
       "    <tr>\n",
       "      <th>scANVI</th>\n",
       "      <td>0.830339</td>\n",
       "      <td>0.649818</td>\n",
       "      <td>0.830339</td>\n",
       "      <td>0.634290</td>\n",
       "    </tr>\n",
       "    <tr>\n",
       "      <th>scANVI_ns15</th>\n",
       "      <td>0.793413</td>\n",
       "      <td>0.879503</td>\n",
       "      <td>0.793413</td>\n",
       "      <td>0.777624</td>\n",
       "    </tr>\n",
       "  </tbody>\n",
       "</table>\n",
       "</div>"
      ],
      "text/plain": [
       "             Accuracy  Bal. Accuracy  F1 (micro)  F1 (macro)\n",
       "xg_scVI      0.955090       0.969146    0.955090    0.970610\n",
       "xg_scANVI    0.944611       0.959064    0.944611    0.961897\n",
       "xg_scGEN     0.984531       0.988347    0.984531    0.988487\n",
       "scANVI       0.830339       0.649818    0.830339    0.634290\n",
       "scANVI_ns15  0.793413       0.879503    0.793413    0.777624"
      ]
     },
     "execution_count": 10,
     "metadata": {},
     "output_type": "execute_result"
    }
   ],
   "source": [
    "mouse_accuracy = pd.DataFrame([\n",
    "    [\n",
    "        accuracy_score(predictions.ct.tolist(), predictions[clf].tolist()), \n",
    "        balanced_accuracy_score(predictions.ct.tolist(), predictions[clf].tolist()),\n",
    "        f1_score(predictions.ct.tolist(), predictions[clf].tolist(), average=\"micro\"),\n",
    "        f1_score(predictions.ct.tolist(), predictions[clf].tolist(), average=\"macro\")\n",
    "    ] for clf in predictions.columns[1:]\n",
    "], index=predictions.columns[1:], columns=['Accuracy', 'Bal. Accuracy', 'F1 (micro)', 'F1 (macro)'])\n",
    "\n",
    "mouse_accuracy.loc[CLFS_ORDER]"
   ]
  },
  {
   "cell_type": "code",
   "execution_count": 11,
   "id": "c25c3fce-566e-4ca8-a273-d52d1cbc73b9",
   "metadata": {},
   "outputs": [
    {
     "data": {
      "text/plain": [
       "<matplotlib.legend.Legend at 0x7fd1db6a5b40>"
      ]
     },
     "execution_count": 11,
     "metadata": {},
     "output_type": "execute_result"
    },
    {
     "data": {
      "image/png": "[encoded data removed]",
      "text/plain": [
       "<Figure size 640x480 with 1 Axes>"
      ]
     },
     "metadata": {},
     "output_type": "display_data"
    }
   ],
   "source": [
    "mouse_accuracy.loc[CLFS_ORDER[::-1]].plot(kind='barh')\n",
    "plt.gca().spines[['right', 'top']].set_visible(False)\n",
    "plt.gca().legend(title='Metrics', bbox_to_anchor=(0.99, 1.02), loc='upper left')"
   ]
  },
  {
   "cell_type": "code",
   "execution_count": null,
   "id": "9e40216c-fff1-46b4-b8d9-95c9408d21f6",
   "metadata": {},
   "outputs": [],
   "source": [
    "icm_accuracy = (sc.metrics.confusion_matrix('ct', 'scANVI_ns15', data=predictions).loc['E3.5-ICM'] * 100).round()\n",
    "icm_accuracy = icm_accuracy[icm_accuracy != 0].sort_values()\n",
    "\n",
    "fig = plt.figure(figsize=[4.5,4.5])\n",
    "ax = fig.add_subplot(111)\n",
    "squarify.plot(sizes=icm_accuracy, \n",
    "              label=icm_accuracy.index + '\\n(' + icm_accuracy.values.astype(str) + ')%', \n",
    "              color=[mouse_ct_colors[ct] for ct in icm_accuracy.index],\n",
    "              text_kwargs={'fontsize': '10'}, ax=ax\n",
    "             )\n",
    "_ = plt.axis(\"off\")\n",
    "plt.title('ICM prediction composition')\n",
    "fig.savefig(\"../figures/mouse/05_ICM_prediction_zoom.svg\")"
   ]
  },
  {
   "cell_type": "code",
   "execution_count": null,
   "id": "1e994fe1-d420-4381-a74b-dbda73adf045",
   "metadata": {},
   "outputs": [],
   "source": [
    "mouse_subset = mouse[predictions[(predictions.ct == \"E3.5-ICM\") & (predictions.scANVI_ns15.isin(icm_accuracy.index))].index].copy()\n",
    "mouse_subset.obs['scANVI_ns15'] = predictions.loc[mouse_subset.obs_names, 'scANVI_ns15']\n",
    "sc.pl.dotplot(mouse_subset, ['gata6', 'nanog', 'sox2', 'pou5f1', 'cdx2', 'pdgfra'], groupby='scANVI_ns15', use_raw=True, standard_scale='var')"
   ]
  },
  {
   "cell_type": "code",
   "execution_count": null,
   "id": "b430fc0d-0e7f-4c8c-b19c-3472e8f78152",
   "metadata": {},
   "outputs": [],
   "source": [
    "fig, ax = plt.subplots(1, 5, figsize=[20, 6], sharey=True, sharex=False)\n",
    "for idx, clf in enumerate(CLFS_ORDER):\n",
    "    conf_df = pd.DataFrame(0, index=predictions.ct.cat.categories, columns=predictions.ct.cat.categories) + sc.metrics.confusion_matrix('ct', clf, data=predictions)\n",
    "    conf_df = conf_df.fillna(0)[predictions.ct.cat.categories]\n",
    "    sns.heatmap(conf_df, linewidths=0.2, cmap='viridis', ax=ax[idx], square=True, cbar=None)\n",
    "    ax[idx].set_title(clf)\n",
    "    ax[idx].set_xticklabels(predictions.ct.cat.categories.tolist(), rotation=45, ha=\"right\", rotation_mode=\"anchor\")\n",
    "\n",
    "fig.colorbar(cm.ScalarMappable(norm=Normalize(0,1), cmap='viridis'), ax=ax.ravel(), fraction=0.048)\n",
    "fig.supxlabel('Predicted')\n",
    "fig.supylabel('Observed')\n",
    "fig.tight_layout()\n",
    "fig.savefig(\"../figures/mouse/05_clf_confusion_mat.svg\")"
   ]
  },
  {
   "cell_type": "markdown",
   "id": "7a7ce2b3-80f1-4a61-bc81-de4a3ff58a3b",
   "metadata": {},
   "source": [
    "## Suppl. Table 2"
   ]
  },
  {
   "cell_type": "code",
   "execution_count": null,
   "id": "413fb118-734f-41ea-ba53-98f225bf5d84",
   "metadata": {},
   "outputs": [],
   "source": [
    "writer = pd.ExcelWriter(\"../results/suppl-tab-2.xlsx\", engine=\"xlsxwriter\")\n",
    "\n",
    "pd.read_csv(\"../results/05_mouse_classifier_stats.csv\", index_col=0).to_excel(writer, sheet_name=\"mouse_overall\")\n",
    "for clf in mouse_accuracy.index:\n",
    "    df = pd.DataFrame(0, index=predictions.ct.cat.categories, columns=predictions.ct.cat.categories) + sc.metrics.confusion_matrix('ct', clf, data=predictions)\n",
    "    df = df.fillna(0)[predictions.ct.cat.categories]\n",
    "    df.to_excel(writer, sheet_name=f\"mouse_{clf}\")\n",
    "writer.close()"
   ]
  }
 ],
 "metadata": {
  "kernelspec": {
   "display_name": "Python [conda env:conda-scvi-1.0.0-2]",
   "language": "python",
   "name": "conda-env-conda-scvi-1.0.0-2-py"
  },
  "language_info": {
   "codemirror_mode": {
    "name": "ipython",
    "version": 3
   },
   "file_extension": ".py",
   "mimetype": "text/x-python",
   "name": "python",
   "nbconvert_exporter": "python",
   "pygments_lexer": "ipython3",
   "version": "3.10.11"
  }
 },
 "nbformat": 4,
 "nbformat_minor": 5
}
