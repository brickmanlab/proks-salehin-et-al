{
 "cells": [
  {
   "cell_type": "markdown",
   "id": "b1a2eb51-9437-47cf-ae43-049d4e035a75",
   "metadata": {},
   "source": [
    "---\n",
    "title: 01 - NGS collection [human]\n",
    "author: Martin Proks\n",
    "date: 16-08-2023\n",
    "---"
   ]
  },
  {
   "cell_type": "code",
   "execution_count": 2,
   "id": "1fa18631-343c-4835-8b4b-c93e657e8465",
   "metadata": {},
   "outputs": [],
   "source": [
    "import pandas as pd"
   ]
  },
  {
   "cell_type": "markdown",
   "id": "34eae5a5-b59b-4c8b-b2e7-59dff255d2b8",
   "metadata": {},
   "source": [
    "## Datasets\n",
    "\n",
    "| Dataset | Stages | Technology |\n",
    "|---|---|---|\n",
    "| [Meistermann2021]  | E0,E2,E2.5,E3.25,E3.5,E3.75,E4.5  | SMART-seq2 |\n",
    "| [Petropoulos2016](https://www.sciencedirect.com/science/article/pii/S009286741630280X)  | E3,E4,E5,E6,E7 | SMART-Seq2 |\n",
    "| [Yan2013](https://www.nature.com/articles/nsmb.2660) | MII-Oocyte, Zygote, 2C,4C,8C,morula,blastocyst | SMART-seq |\n",
    "| [Yanagida](https://www.sciencedirect.com/science/article/pii/S1934590921002071) | E6,E7 | SMART-seq |\n",
    "| [Nakamura](https://www.nature.com/articles/sdata201767) | **Cynomolgus Monkey** E6 onwards | SC3-seq |\n",
    "| [Blakeley](https://journals.biologists.com/dev/article/142/18/3151/46887/Defining-the-three-cell-lineages-of-the-human) | E6/7 | SMARTer-seq |\n",
    "| [Hang](https://www.nature.com/articles/s41586-019-1875-y) | E6,7,8,9,10,12,14 | SMART-seq2 |\n",
    "| [Xue](https://www.nature.com/articles/nature12364#Sec3) | | Tang et al. method |\n",
    "\n",
    "| Root Dataset | Dataset   | Technology | Download | Notes |\n",
    "| -- | -- | -- | -- | -- |\n",
    "| Radley et al., 2022 | | | | |\n",
    "| X | [Meistermann et al, 2021](https://www.sciencedirect.com/science/article/pii/S1934590921001855) | SMART-SEQ2 | [PRJEB30442](https://www.ebi.ac.uk/ena/browser/view/PRJEB30442) | |\n",
    "| X | [Petropoulos et al, 2016](https://www.sciencedirect.com/science/article/pii/S009286741630280X) | SMART-SEQ2 | [E-MTAB-3929]| [SCPORTAL](https://single-cell.riken.jp/SCPortalen_Database/DatasetTable/E-MTAB-3929/) | \n",
    "| X | [Yan et al, 2013](https://www.nature.com/articles/nsmb.2660) | SMART-SEQ  | [GSE36552](https://www.ncbi.nlm.nih.gov/geo/query/acc.cgi?acc=GSE36552) | [SCPORTAL](https://single-cell.riken.jp/SCPortalen_Database/DatasetTable/GSE36552/) |\n",
    "| X | [Yanagida et al, 2021](https://www.sciencedirect.com/science/article/pii/S1934590921002071) | SMART-SEQ2 | [GSE171820](https://www.ncbi.nlm.nih.gov/geo/query/acc.cgi?acc=GSE171820) | |\n",
    "| X | [Nakamura et al, 2017](https://www.nature.com/articles/sdata201767) | SMART-SEQ2 | | | \n",
    "| [Blakeley et al, 2015](https://journals.biologists.com/dev/article/142/18/3151/46887/Defining-the-three-cell-lineages-of-the-human) |  | SMARTer Ultra Low RNA Kit | [GSE66507](https://www.ncbi.nlm.nih.gov/geo/query/acc.cgi?acc=GSE66507) | |\n",
    "| [Tysen et al, 2021](https://www.nature.com/articles/s41586-021-04158-y) | SMARTSEQ2  | [Portal](http://www.human-gastrula.net/) | GASTRULATION (CS7) | | \n",
    "| [Hang et al, 2019](https://www.nature.com/articles/s41586-019-1875-y) | SMART-SEQ2 | [GSE136447](https://www.ncbi.nlm.nih.gov/geo/query/acc.cgi?acc=GSE136447) | | | | \n",
    "| [Xue](https://www.nature.com/articles/nature12364#Sec3) | Tang et al. method | [GSE44183](https://www.ncbi.nlm.nih.gov/geo/query/acc.cgi?acc=GSE44183)\n",
    "\n",
    "[Meistermann2021]: https://www.sciencedirect.com/science/article/pii/S1934590921001855\n",
    "[PRJEB30442]: https://www.ebi.ac.uk/ena/browser/view/PRJEB30442\n",
    "[E-MTAB-3929]: https://www.ebi.ac.uk/arrayexpress/experiments/E-MTAB-3929/)"
   ]
  },
  {
   "cell_type": "markdown",
   "id": "7647e31b-87a7-4e66-9559-c0c97b86c03c",
   "metadata": {},
   "source": [
    "- [X] Meistermann 2021\n",
    "- [X] Petropoulos 2016\n",
    "- [X] Xiang 2020\n",
    "- [X] Yan 2013\n",
    "- [X] Yanagida 2021\n",
    "- [X] Xue 2013"
   ]
  },
  {
   "cell_type": "markdown",
   "id": "57ae5ed5-6ee1-4e80-be11-973e8cc3f0c8",
   "metadata": {},
   "source": [
    "## Meistermann et al., 2021 [PRJEB30442]"
   ]
  },
  {
   "cell_type": "code",
   "execution_count": 10,
   "id": "c9fb2891-29c7-4174-bd39-7b7a2c2a883f",
   "metadata": {},
   "outputs": [],
   "source": [
    "MEISTERMANN_ENA_URL = \"https://www.ebi.ac.uk/ena/portal/api/filereport?accession=PRJEB30442&result=read_run&fields=study_accession,sample_accession,experiment_accession,run_accession,tax_id,scientific_name,fastq_ftp,submitted_ftp,sra_ftp,sample_alias&format=tsv&limit=0\"\n",
    "meistermann_metadata = pd.read_table(MEISTERMANN_ENA_URL)"
   ]
  },
  {
   "cell_type": "code",
   "execution_count": 11,
   "id": "86a3556f-1aa2-45ab-9331-fbc94c09c9c5",
   "metadata": {},
   "outputs": [],
   "source": [
    "meistermann_sample_annotation = pd.read_csv(\"../data/external/human/Meistermann_et_al_2021/sampleAnnot.tsv\", index_col=0, sep=\"\\t\")"
   ]
  },
  {
   "cell_type": "code",
   "execution_count": 18,
   "id": "45a21c5c-6125-4e58-9304-5f64b32bfac3",
   "metadata": {},
   "outputs": [],
   "source": [
    "meistermann_sample_annotation = meistermann_sample_annotation[meistermann_sample_annotation['Dataset'] == 'ThisPaper']"
   ]
  },
  {
   "cell_type": "code",
   "execution_count": 23,
   "id": "4fc15b8a-73eb-461d-845c-5f10f3def3a4",
   "metadata": {},
   "outputs": [],
   "source": [
    "meistermann_sample_annotation = meistermann_sample_annotation.merge(meistermann_metadata, left_on = 'Name', right_on = 'sample_alias')"
   ]
  },
  {
   "cell_type": "code",
   "execution_count": 27,
   "id": "924b2c9c-d42b-4993-ab6f-d6068028da9d",
   "metadata": {},
   "outputs": [],
   "source": [
    "meistermann_sample_annotation.run_accession.to_csv(\"../pipeline/fetchngs/human_PRJEB30442.txt\", index=None, header=None)"
   ]
  },
  {
   "cell_type": "markdown",
   "id": "455f6cf6-528e-4238-8e60-7c49e851c4d9",
   "metadata": {},
   "source": [
    "```bash\n",
    "nf-core_tower.sh \\\n",
    "    Meistermann_2021 \\\n",
    "    nextflow run nf-core/fetchngs \\\n",
    "    -r 1.10.0 \\\n",
    "    --input /projects/dan1/data/Brickman/projects/proks-salehin-et-al-2023/pipeline/fetchngs/human_PRJEB30442.txt\n",
    "```"
   ]
  },
  {
   "cell_type": "markdown",
   "id": "2d5f44e2-eff6-487a-aff3-db1073c9b864",
   "metadata": {},
   "source": [
    "```bash\n",
    "nf-core_tower.sh Meistermann_2021 nextflow run brickmanlab/scrnaseq \\\n",
    "    -r feature/smartseq \\\n",
    "    -c /projects/dan1/data/Brickman/projects/proks-salehin-et-al-2023/pipeline/smartseq.human.config \\\n",
    "    --input /scratch/Brickman/pipelines/Meistermann_2021/results/samplesheet/samplesheet.csv\n",
    "```"
   ]
  },
  {
   "cell_type": "markdown",
   "id": "9ef3677f-d41c-441d-a9bd-71db9ac4c679",
   "metadata": {},
   "source": [
    "## Petropoulos et al., 2016 [E-MTAB-3929]"
   ]
  },
  {
   "cell_type": "code",
   "execution_count": 40,
   "id": "5693d908-62c6-4dec-aa62-f1afffa09f53",
   "metadata": {},
   "outputs": [],
   "source": [
    "PETROPOULOS_URL = \"https://www.ebi.ac.uk/ena/portal/api/filereport?accession=PRJEB11202&result=read_run&fields=study_accession,sample_accession,experiment_accession,run_accession,tax_id,scientific_name,fastq_ftp,submitted_ftp,sra_ftp,sample_alias&format=tsv&limit=0\"\n",
    "petropoulos_metadata = pd.read_table(PETROPOULOS_URL)"
   ]
  },
  {
   "cell_type": "code",
   "execution_count": 54,
   "id": "c877f9e8-afb5-4d9a-967e-cff204885576",
   "metadata": {},
   "outputs": [],
   "source": [
    "petropoulos_metadata.sample_alias = petropoulos_metadata.sample_alias.str.extract(\"(E[0-9].*$)\")"
   ]
  },
  {
   "cell_type": "code",
   "execution_count": 57,
   "id": "0cb874e3-8ab5-440a-ba3b-93143b2be7b8",
   "metadata": {},
   "outputs": [],
   "source": [
    "petropoulos_metadata_short = petropoulos_metadata[['run_accession', 'sample_alias']]"
   ]
  },
  {
   "cell_type": "code",
   "execution_count": 30,
   "id": "754d8e95-1b99-4b93-84cf-d3630c248686",
   "metadata": {},
   "outputs": [],
   "source": [
    "petropoulos_sample_annotation = pd.read_csv(\"../data/external/human/Meistermann_et_al_2021/sampleAnnot.tsv\", index_col=0, sep=\"\\t\")"
   ]
  },
  {
   "cell_type": "code",
   "execution_count": 58,
   "id": "24218020-f4f0-446b-987d-5c00567aa084",
   "metadata": {},
   "outputs": [],
   "source": [
    "petropoulos_sample_annotation = petropoulos_sample_annotation.loc[petropoulos_sample_annotation.Dataset == 'Petropoulos2016']"
   ]
  },
  {
   "cell_type": "code",
   "execution_count": 61,
   "id": "0a4e577a-8d65-4f49-890b-100631871f28",
   "metadata": {},
   "outputs": [],
   "source": [
    "petropoulos_sample_annotation = petropoulos_sample_annotation.merge(petropoulos_metadata_short, left_on = 'Name', right_on = 'sample_alias')"
   ]
  },
  {
   "cell_type": "code",
   "execution_count": 62,
   "id": "3bfb6439-063d-4f8b-8d8e-6629d3ce1ca0",
   "metadata": {},
   "outputs": [],
   "source": [
    "petropoulos_sample_annotation.run_accession.to_csv(\"../pipeline/fetchngs/human_E-MTAB-3929.txt\", index=None, header=None)"
   ]
  },
  {
   "cell_type": "markdown",
   "id": "3d68de97-e9c4-4efd-a439-5779493ba4b8",
   "metadata": {},
   "source": [
    "```bash\n",
    "nf-core_tower.sh \\\n",
    "    Petropoulos_2016 \\\n",
    "    nextflow run nf-core/fetchngs \\\n",
    "    -r 1.10.0 \\\n",
    "    --input /projects/dan1/data/Brickman/projects/proks-salehin-et-al-2023/pipeline/fetchngs/human_E-MTAB-3929.txt\n",
    "```"
   ]
  },
  {
   "cell_type": "markdown",
   "id": "3ef95ee6-6128-4a30-bfb6-a6aab7d72e29",
   "metadata": {},
   "source": [
    "```bash\n",
    "nf-core_tower.sh Petropoulos_2016 nextflow run brickmanlab/scrnaseq \\\n",
    "    -r feature/smartseq \\\n",
    "    -c /projects/dan1/data/Brickman/projects/proks-salehin-et-al-2023/pipeline/smartseq.human.config \\\n",
    "    --input /scratch/Brickman/pipelines/Petropoulos_2016/results/samplesheet/samplesheet.csv\n",
    "```"
   ]
  },
  {
   "cell_type": "markdown",
   "id": "a8630d94-23b4-47e5-9dce-0d1a7ed5283a",
   "metadata": {},
   "source": [
    "## Xiang et al., 2020 [GSE136447]"
   ]
  },
  {
   "cell_type": "code",
   "execution_count": 34,
   "id": "8c7ccc0c-8dcd-4d1b-bf6c-c266141d6396",
   "metadata": {},
   "outputs": [],
   "source": [
    "xiang_metadata_1 = pd.read_table(\"https://ftp.ncbi.nlm.nih.gov/geo/series/GSE136nnn/GSE136447/matrix/GSE136447-GPL20795_series_matrix.txt.gz\", \n",
    "                              skiprows=29, nrows=1, index_col = 0).T"
   ]
  },
  {
   "cell_type": "code",
   "execution_count": 33,
   "id": "4bf21174-7292-489d-a5da-cf0ef38cc7de",
   "metadata": {},
   "outputs": [],
   "source": [
    "xiang_metadata_2 = pd.read_table(\"https://ftp.ncbi.nlm.nih.gov/geo/series/GSE136nnn/GSE136447/matrix/GSE136447-GPL23227_series_matrix.txt.gz\", \n",
    "                              skiprows=29, nrows=1, index_col = 0).T"
   ]
  },
  {
   "cell_type": "code",
   "execution_count": 35,
   "id": "18dd65f1-3838-4c01-8114-17b8945a3d7a",
   "metadata": {},
   "outputs": [],
   "source": [
    "xiang_metadata = pd.concat([xiang_metadata_1, xiang_metadata_2])"
   ]
  },
  {
   "cell_type": "code",
   "execution_count": 42,
   "id": "b962970c-2d31-450f-b813-97ead13fa485",
   "metadata": {},
   "outputs": [],
   "source": [
    "xiang_metadata['Sample_name'] = xiang_metadata.index.to_list()"
   ]
  },
  {
   "cell_type": "code",
   "execution_count": 45,
   "id": "c5f4c897-9c1c-4da7-bf3f-f0f0c8fe637e",
   "metadata": {},
   "outputs": [],
   "source": [
    "xiang_metadata['Sample_name'] = xiang_metadata['Sample_name'].str.extract(\"_(.*$)\")"
   ]
  },
  {
   "cell_type": "code",
   "execution_count": 46,
   "id": "9e56cfb2-3820-4bc0-98a5-0ac0ad9a7a38",
   "metadata": {},
   "outputs": [
    {
     "data": {
      "text/html": [
       "<div>\n",
       "<style scoped>\n",
       "    .dataframe tbody tr th:only-of-type {\n",
       "        vertical-align: middle;\n",
       "    }\n",
       "\n",
       "    .dataframe tbody tr th {\n",
       "        vertical-align: top;\n",
       "    }\n",
       "\n",
       "    .dataframe thead th {\n",
       "        text-align: right;\n",
       "    }\n",
       "</style>\n",
       "<table border=\"1\" class=\"dataframe\">\n",
       "  <thead>\n",
       "    <tr style=\"text-align: right;\">\n",
       "      <th>!Sample_title</th>\n",
       "      <th>!Sample_geo_accession</th>\n",
       "      <th>Sample_name</th>\n",
       "    </tr>\n",
       "  </thead>\n",
       "  <tbody>\n",
       "    <tr>\n",
       "      <th>Embryo_D6A1S1</th>\n",
       "      <td>GSM4050122</td>\n",
       "      <td>D6A1S1</td>\n",
       "    </tr>\n",
       "    <tr>\n",
       "      <th>Embryo_D6A1S2</th>\n",
       "      <td>GSM4050123</td>\n",
       "      <td>D6A1S2</td>\n",
       "    </tr>\n",
       "    <tr>\n",
       "      <th>Embryo_D6A1S3</th>\n",
       "      <td>GSM4050124</td>\n",
       "      <td>D6A1S3</td>\n",
       "    </tr>\n",
       "    <tr>\n",
       "      <th>Embryo_D6A1S4</th>\n",
       "      <td>GSM4050125</td>\n",
       "      <td>D6A1S4</td>\n",
       "    </tr>\n",
       "    <tr>\n",
       "      <th>Embryo_D6A1B1</th>\n",
       "      <td>GSM4050126</td>\n",
       "      <td>D6A1B1</td>\n",
       "    </tr>\n",
       "    <tr>\n",
       "      <th>...</th>\n",
       "      <td>...</td>\n",
       "      <td>...</td>\n",
       "    </tr>\n",
       "    <tr>\n",
       "      <th>Embryo_D14A1S5</th>\n",
       "      <td>GSM4050628</td>\n",
       "      <td>D14A1S5</td>\n",
       "    </tr>\n",
       "    <tr>\n",
       "      <th>Embryo_D14A1S6</th>\n",
       "      <td>GSM4050634</td>\n",
       "      <td>D14A1S6</td>\n",
       "    </tr>\n",
       "    <tr>\n",
       "      <th>Embryo_D14A1S7</th>\n",
       "      <td>GSM4050635</td>\n",
       "      <td>D14A1S7</td>\n",
       "    </tr>\n",
       "    <tr>\n",
       "      <th>Embryo_D14A1S8</th>\n",
       "      <td>GSM4050636</td>\n",
       "      <td>D14A1S8</td>\n",
       "    </tr>\n",
       "    <tr>\n",
       "      <th>Embryo_D14A1S9</th>\n",
       "      <td>GSM4050637</td>\n",
       "      <td>D14A1S9</td>\n",
       "    </tr>\n",
       "  </tbody>\n",
       "</table>\n",
       "<p>555 rows × 2 columns</p>\n",
       "</div>"
      ],
      "text/plain": [
       "!Sample_title  !Sample_geo_accession Sample_name\n",
       "Embryo_D6A1S1             GSM4050122      D6A1S1\n",
       "Embryo_D6A1S2             GSM4050123      D6A1S2\n",
       "Embryo_D6A1S3             GSM4050124      D6A1S3\n",
       "Embryo_D6A1S4             GSM4050125      D6A1S4\n",
       "Embryo_D6A1B1             GSM4050126      D6A1B1\n",
       "...                              ...         ...\n",
       "Embryo_D14A1S5            GSM4050628     D14A1S5\n",
       "Embryo_D14A1S6            GSM4050634     D14A1S6\n",
       "Embryo_D14A1S7            GSM4050635     D14A1S7\n",
       "Embryo_D14A1S8            GSM4050636     D14A1S8\n",
       "Embryo_D14A1S9            GSM4050637     D14A1S9\n",
       "\n",
       "[555 rows x 2 columns]"
      ]
     },
     "execution_count": 46,
     "metadata": {},
     "output_type": "execute_result"
    }
   ],
   "source": [
    "xiang_metadata"
   ]
  },
  {
   "cell_type": "code",
   "execution_count": 47,
   "id": "dd7041aa-6a3e-4d54-8755-b4afc96e468d",
   "metadata": {},
   "outputs": [],
   "source": [
    "xiang_sample_annotation = pd.read_excel(\"../data/external/human/Xiang_et_al_2019/41586_2019_1875_MOESM10_ESM.xlsx\", skiprows=2, index_col=0)"
   ]
  },
  {
   "cell_type": "code",
   "execution_count": 50,
   "id": "7573287e-60cb-4384-a0c9-7320da8cd860",
   "metadata": {},
   "outputs": [],
   "source": [
    "xiang_sample_annotation = xiang_sample_annotation.merge(xiang_metadata, left_on='Sample ID', right_on = 'Sample_name')"
   ]
  },
  {
   "cell_type": "code",
   "execution_count": 52,
   "id": "3b6aa822-299d-4dc3-8c92-0de5ed0ed931",
   "metadata": {},
   "outputs": [],
   "source": [
    "xiang_sample_annotation.columns = ['Day', 'Embryo ID', 'Group', 'GEO_accession', 'Sample_name']"
   ]
  },
  {
   "cell_type": "code",
   "execution_count": 54,
   "id": "0cb5bb30-a6b4-40e6-8eeb-179bc6582b8c",
   "metadata": {},
   "outputs": [],
   "source": [
    "xiang_sample_annotation.GEO_accession.to_csv(\"../pipeline/fetchngs/human_GSE136447.txt\", index=None, header=None)"
   ]
  },
  {
   "cell_type": "markdown",
   "id": "359a4ca3-0089-4ce2-bbfd-628c0670a644",
   "metadata": {},
   "source": [
    "```bash\n",
    "nf-core_tower.sh \\\n",
    "    Xiang_2020 \\\n",
    "    nextflow run nf-core/fetchngs \\\n",
    "    -r 1.10.0 \\\n",
    "    --input /projects/dan1/data/Brickman/projects/proks-salehin-et-al-2023/pipeline/fetchngs/human_GSE136447.txt\n",
    "```"
   ]
  },
  {
   "cell_type": "markdown",
   "id": "eb7a80a3-4ce2-47b7-adee-048ef3f749aa",
   "metadata": {},
   "source": [
    "```bash\n",
    "nf-core_tower.sh Xiang_2020_human nextflow run brickmanlab/scrnaseq \\\n",
    "    -r feature/smartseq \\\n",
    "    -c /projects/dan1/data/Brickman/projects/proks-salehin-et-al-2023/pipeline/smartseq.human.config \\\n",
    "    --input /scratch/Brickman/pipelines/Xiang_2020_human/results/samplesheet/samplesheet.csv\n",
    "```"
   ]
  },
  {
   "cell_type": "markdown",
   "id": "9b97a959-9e26-4112-b7fa-7e0718c6c770",
   "metadata": {},
   "source": [
    "## Yan et al., 2013"
   ]
  },
  {
   "cell_type": "code",
   "execution_count": 55,
   "id": "091679c6-f298-4e52-a588-853a6a9108d8",
   "metadata": {},
   "outputs": [],
   "source": [
    "YAN_MATRIX_URL = \"https://ftp.ncbi.nlm.nih.gov/geo/series/GSE36nnn/GSE36552/matrix/GSE36552_series_matrix.txt.gz\""
   ]
  },
  {
   "cell_type": "code",
   "execution_count": 62,
   "id": "5791886a-3586-4f31-b83e-cabf5e56f901",
   "metadata": {},
   "outputs": [],
   "source": [
    "yam_metadata = pd.read_table(YAN_MATRIX_URL, skiprows=52, index_col = 0).T"
   ]
  },
  {
   "cell_type": "code",
   "execution_count": 69,
   "id": "dbfe9719-4ecf-47f3-8d62-5bc413e75271",
   "metadata": {},
   "outputs": [],
   "source": [
    "yam_annotations = metadata = pd.read_csv(\"../data/external/human/Meistermann_et_al_2021/sampleAnnot.tsv\", index_col=0, sep=\"\\t\")\n",
    "yam_annotations = yam_annotations[yam_annotations.Dataset == 'Yan2013'].copy()"
   ]
  },
  {
   "cell_type": "code",
   "execution_count": 73,
   "id": "90226a61-6c1b-41fa-ac9d-942fa8aaddfb",
   "metadata": {},
   "outputs": [],
   "source": [
    "yam_metadata = yam_metadata[~yam_metadata.index.str.contains('hESC')].copy()"
   ]
  },
  {
   "cell_type": "code",
   "execution_count": 122,
   "id": "bad72dc9-c9fe-45b9-ba6d-556a0c6d2f1b",
   "metadata": {},
   "outputs": [],
   "source": [
    "yam_metadata['SampleNames'] = yam_metadata.index.values"
   ]
  },
  {
   "cell_type": "code",
   "execution_count": 123,
   "id": "eddd5337-7605-4936-9069-eae0211166c4",
   "metadata": {},
   "outputs": [],
   "source": [
    "yam_metadata['SampleNames'] = yam_metadata['SampleNames'].str.replace(\"#\",\".\")\n",
    "yam_metadata['SampleNames'] = yam_metadata['SampleNames'].str.replace(\" -Cell\", \"\")\n",
    "yam_metadata['SampleNames'] = yam_metadata['SampleNames'].str.replace(\"Late blastocyst \", \"lateBlasto\")\n",
    "yam_metadata['SampleNames'] = yam_metadata['SampleNames'].str.replace(\"Morulae \", \"Morula\")\n",
    "yam_metadata['SampleNames'] = yam_metadata['SampleNames'].str.replace(\"Oocyte \", \"Oocyte\")\n",
    "yam_metadata['SampleNames'] = yam_metadata['SampleNames'].str.replace(\"Zygote \", \"Zygote\")\n",
    "yam_metadata['SampleNames'] = yam_metadata['SampleNames'].str.replace(\"2-cell embryo\", \"e2C\")\n",
    "yam_metadata['SampleNames'] = yam_metadata['SampleNames'].str.replace(\"4-cell embryo\", \"e4C\")\n",
    "yam_metadata['SampleNames'] = yam_metadata['SampleNames'].str.replace(\"8-cell embryo\", \"e8C\")"
   ]
  },
  {
   "cell_type": "code",
   "execution_count": 126,
   "id": "86dad888-ddf8-4866-8a4d-8842e25454b4",
   "metadata": {},
   "outputs": [],
   "source": [
    "yam_metadata = yam_metadata.loc[:,['!Sample_geo_accession','SampleNames']].copy()"
   ]
  },
  {
   "cell_type": "code",
   "execution_count": 129,
   "id": "f1a5d118-a57d-4b54-88f0-d00900ab3a54",
   "metadata": {},
   "outputs": [],
   "source": [
    "yam_metadata.columns = ['Geo_accession', 'SampleNames']"
   ]
  },
  {
   "cell_type": "code",
   "execution_count": 135,
   "id": "df3b0284-b8dc-475c-858c-b5b144a5f841",
   "metadata": {},
   "outputs": [],
   "source": [
    "yam_annotations = yam_annotations.merge(yam_metadata, left_index = True, right_on='SampleNames', how = 'right')"
   ]
  },
  {
   "cell_type": "code",
   "execution_count": 137,
   "id": "da9778f3-ed55-4226-87b8-715ef69c24df",
   "metadata": {},
   "outputs": [],
   "source": [
    "yam_annotations.Geo_accession.to_csv(\"../pipeline/fetchngs/human_GSE36552.txt\", index=None, header=None)"
   ]
  },
  {
   "cell_type": "markdown",
   "id": "65a69120-072c-4263-a73d-c25c65ca4e27",
   "metadata": {},
   "source": [
    "```bash\n",
    "nf-core_tower.sh \\\n",
    "    Yan_2013_human \\\n",
    "    nextflow run nf-core/fetchngs \\\n",
    "    -r 1.10.0 \\\n",
    "    --input /projects/dan1/data/Brickman/projects/proks-salehin-et-al-2023/pipeline/fetchngs/human_GSE36552.txt\n",
    "```"
   ]
  },
  {
   "cell_type": "markdown",
   "id": "abf2bfca-19c0-4bd1-b4f8-2c1b36663d17",
   "metadata": {},
   "source": [
    "```bash\n",
    "nf-core_tower.sh Yan_2013_human nextflow run brickmanlab/scrnaseq \\\n",
    "    -r feature/smartseq \\\n",
    "    -c /projects/dan1/data/Brickman/projects/proks-salehin-et-al-2023/pipeline/smartseq.human.config \\\n",
    "    --input /scratch/Brickman/pipelines/Yan_2013_human/results/samplesheet/samplesheet.csv\n",
    "```"
   ]
  },
  {
   "cell_type": "markdown",
   "id": "f87ce209-1493-479b-ad7a-295fafea349c",
   "metadata": {},
   "source": [
    "## Yanagida et al., 2021 [GSE171820]"
   ]
  },
  {
   "cell_type": "code",
   "execution_count": 4,
   "id": "b8cd2170-a80f-44af-8343-9beeaea9c243",
   "metadata": {},
   "outputs": [],
   "source": [
    "YANAGIDA_URL = 'https://ftp.ncbi.nlm.nih.gov/geo/series/GSE171nnn/GSE171820/matrix/GSE171820_series_matrix.txt.gz'"
   ]
  },
  {
   "cell_type": "code",
   "execution_count": 5,
   "id": "e6e90526-9b11-46eb-8535-b1116334ce88",
   "metadata": {},
   "outputs": [],
   "source": [
    "yanagida_metadata = pd.read_table(YANAGIDA_URL, skiprows=30, index_col = 0).T"
   ]
  },
  {
   "cell_type": "code",
   "execution_count": 10,
   "id": "4799e941-8da7-4747-b0c2-cbc61cbebb53",
   "metadata": {},
   "outputs": [],
   "source": [
    "yanagida_metadata = yanagida_metadata[yanagida_metadata['!Sample_source_name_ch1'] != 'Blastoid'].copy()"
   ]
  },
  {
   "cell_type": "code",
   "execution_count": 33,
   "id": "4617eaea-63cd-4e7b-80c9-ffa801bcda49",
   "metadata": {},
   "outputs": [],
   "source": [
    "yanagida_metadata['lineage'] = yanagida_metadata[['!Sample_characteristics_ch1']].agg(' '.join, axis=1).str.extract(\"lineage: (.*) polar_mural\")\n",
    "yanagida_metadata['day'] = yanagida_metadata[['!Sample_characteristics_ch1']].agg(' '.join, axis=1).str.extract(\"time point: Embryonic day ([0-9]{1})\")\n",
    "yanagida_metadata['side'] = yanagida_metadata[['!Sample_characteristics_ch1']].agg(' '.join, axis=1).str.extract(\"polar_mural: ([a-z]*)\")"
   ]
  },
  {
   "cell_type": "code",
   "execution_count": 35,
   "id": "201abcc9-5e09-4082-ac01-8c2fe6a07cb7",
   "metadata": {},
   "outputs": [],
   "source": [
    "yanagida_metadata = yanagida_metadata[['lineage','day','side']].copy()"
   ]
  },
  {
   "cell_type": "code",
   "execution_count": 41,
   "id": "e4a05e6c-0642-47cc-a777-d70fe2780722",
   "metadata": {},
   "outputs": [],
   "source": [
    "yanagida_metadata['Geo_accession'] = yanagida_metadata.index.values"
   ]
  },
  {
   "cell_type": "code",
   "execution_count": 42,
   "id": "ac23d05f-9016-418f-b896-333705e49857",
   "metadata": {},
   "outputs": [],
   "source": [
    "yanagida_metadata.Geo_accession.to_csv(\"../pipeline/fetchngs/human_GSE171820.txt\", index=None, header=None)"
   ]
  },
  {
   "cell_type": "markdown",
   "id": "d0d44dc3-35cd-42a4-b598-3a7945f99c4b",
   "metadata": {},
   "source": [
    "```bash\n",
    "nf-core_tower.sh \\\n",
    "    Yanagida_2021_human \\\n",
    "    nextflow run nf-core/fetchngs \\\n",
    "    -r 1.10.0 \\\n",
    "    --input /projects/dan1/data/Brickman/projects/proks-salehin-et-al-2023/pipeline/fetchngs/human_GSE171820.txt\n",
    "```"
   ]
  },
  {
   "cell_type": "markdown",
   "id": "13c8e418-2783-4156-a9b2-61afce1d06f8",
   "metadata": {},
   "source": [
    "```bash\n",
    "nf-core_tower.sh Yanagida_2021_human nextflow run brickmanlab/scrnaseq \\\n",
    "    -r feature/smartseq \\\n",
    "    -c /projects/dan1/data/Brickman/projects/proks-salehin-et-al-2023/pipeline/smartseq.human.config \\\n",
    "    --input /scratch/Brickman/pipelines/Yanagida_2021_human/results/samplesheet/samplesheet.csv\n",
    "```"
   ]
  },
  {
   "cell_type": "markdown",
   "id": "7f657b5c-d8bc-4e44-a7f3-a3094d8f56be",
   "metadata": {},
   "source": [
    "## Xue et al., 2013 [GSE44183]"
   ]
  },
  {
   "cell_type": "code",
   "execution_count": 43,
   "id": "ab890576-0519-49d3-a5b2-7f170840a76e",
   "metadata": {},
   "outputs": [],
   "source": [
    "XUE_URL = 'https://ftp.ncbi.nlm.nih.gov/geo/series/GSE44nnn/GSE44183/matrix/GSE44183-GPL11154_series_matrix.txt.gz'"
   ]
  },
  {
   "cell_type": "code",
   "execution_count": 46,
   "id": "c347c394-4262-43cf-b27c-5df04fa8b9e8",
   "metadata": {},
   "outputs": [],
   "source": [
    "xue_metadata = pd.read_table(XUE_URL, skiprows=36, index_col = 0).T"
   ]
  },
  {
   "cell_type": "code",
   "execution_count": 55,
   "id": "2e8f455e-489c-4aeb-9a6d-eb0ae7fae8de",
   "metadata": {},
   "outputs": [],
   "source": [
    "xue_metadata = xue_metadata[xue_metadata['!Sample_source_name_ch1'].isin(['oocyte','pronucleus','zygote','2-cell blastomere','4-cell blastomere','8-cell blastomere', 'morula'])].copy()\n",
    "xue_metadata = xue_metadata[['!Sample_geo_accession','!Sample_source_name_ch1']].copy()"
   ]
  },
  {
   "cell_type": "code",
   "execution_count": 58,
   "id": "ff5a50e8-444b-418c-8b8a-639bd7bdada9",
   "metadata": {},
   "outputs": [],
   "source": [
    "reannotate_dict = {\n",
    "    'oocyte': 'Oocyte',\n",
    "    'pronucleus': 'Pronucleus',\n",
    "    'zygote': 'Zygote',\n",
    "    '2-cell blastomere': '2C',\n",
    "    '4-cell blastomere': '4C',\n",
    "    '8-cell blastomere': '8C'\n",
    "}\n",
    "xue_metadata.replace(reannotate_dict, inplace=True)"
   ]
  },
  {
   "cell_type": "code",
   "execution_count": 61,
   "id": "1d9719e2-ec1e-4e3c-8ff3-41fa8794c76e",
   "metadata": {},
   "outputs": [],
   "source": [
    "xue_metadata['!Sample_geo_accession'].to_csv(\"../pipeline/fetchngs/human_GSE44183.txt\", index=None, header=None)"
   ]
  },
  {
   "cell_type": "markdown",
   "id": "b629d4e8-ceda-4a6a-a8e7-c64cbb4c11c8",
   "metadata": {},
   "source": [
    "```bash\n",
    "nf-core_tower.sh \\\n",
    "    Xue_2013_human \\\n",
    "    nextflow run nf-core/fetchngs \\\n",
    "    -r 1.10.0 \\\n",
    "    --input /projects/dan1/data/Brickman/projects/proks-salehin-et-al-2023/pipeline/fetchngs/human_GSE44183.txt\n",
    "```"
   ]
  },
  {
   "cell_type": "markdown",
   "id": "608242cf-2483-4ed6-8cc6-c262932ad3bb",
   "metadata": {},
   "source": [
    "```bash\n",
    "nf-core_tower.sh Xue_2013_human nextflow run brickmanlab/scrnaseq \\\n",
    "    -r feature/smartseq \\\n",
    "    -c /projects/dan1/data/Brickman/projects/proks-salehin-et-al-2023/pipeline/smartseq.human.config \\\n",
    "    --input /scratch/Brickman/pipelines/Meistermann_2021/results/samplesheet/samplesheet.csv\n",
    "```"
   ]
  },
  {
   "cell_type": "code",
   "execution_count": null,
   "id": "b7f2af75-4845-4f42-9b8b-2b03c484794c",
   "metadata": {},
   "outputs": [],
   "source": []
  },
  {
   "cell_type": "code",
   "execution_count": null,
   "id": "0e9649c0-1ca9-44a9-bf87-10af374e00fa",
   "metadata": {},
   "outputs": [],
   "source": []
  },
  {
   "cell_type": "code",
   "execution_count": null,
   "id": "dd30b424-9ffd-4344-9726-e2e08e5097c2",
   "metadata": {},
   "outputs": [],
   "source": []
  },
  {
   "cell_type": "markdown",
   "id": "5a7b4f74-9ebe-4a31-80a5-5c745b7eac5e",
   "metadata": {},
   "source": [
    "# Import data after nf-core single cell RNA-seq pipeline"
   ]
  },
  {
   "cell_type": "code",
   "execution_count": 1,
   "id": "5a20db27-273c-4cec-b964-ecdbe67d6e02",
   "metadata": {},
   "outputs": [],
   "source": [
    "import scanpy as sc\n",
    "import anndata as ad\n",
    "import numpy as np\n",
    "import matplotlib.pyplot as plt\n",
    "import pandas as pd\n",
    "import seaborn as sns"
   ]
  },
  {
   "cell_type": "markdown",
   "id": "df8dfaf7-1a8e-45bd-bc65-ce2caf0e669b",
   "metadata": {},
   "source": [
    "### Annotations\n",
    "\n",
    "Annotations (adata.obs)\n",
    "\n",
    "- EmbryonicDay\n",
    "- Lineage\n",
    "- Dataset\n",
    "- Technology"
   ]
  },
  {
   "cell_type": "markdown",
   "id": "4405a016-216f-450e-ab55-924a95814010",
   "metadata": {},
   "source": [
    "## Datasets\n",
    "\n",
    "| Dataset | Stages | Technology |\n",
    "|---|---|---|\n",
    "| [Meistermann2021]  | E0,E2,E2.5,E3.25,E3.5,E3.75,E4.5  | SMART-seq2 |\n",
    "| [Petropoulos2016](https://www.sciencedirect.com/science/article/pii/S009286741630280X)  | E3,E4,E5,E6,E7 | SMART-Seq2 |\n",
    "| [Yan2013](https://www.nature.com/articles/nsmb.2660) | MII-Oocyte, Zygote, 2C,4C,8C,morula,blastocyst | SMART-seq |\n",
    "| [Yanagida](https://www.sciencedirect.com/science/article/pii/S1934590921002071) | E6,E7 | SMART-seq |\n",
    "| [Nakamura](https://www.nature.com/articles/sdata201767) | **Cynomolgus Monkey** E6 onwards | SC3-seq |\n",
    "| [Blakeley](https://journals.biologists.com/dev/article/142/18/3151/46887/Defining-the-three-cell-lineages-of-the-human) | E6/7 | SMARTer-seq |\n",
    "| [Hang](https://www.nature.com/articles/s41586-019-1875-y) | E6,7,8,9,10,12,14 | SMART-seq2 |\n",
    "| [Xue](https://www.nature.com/articles/nature12364#Sec3) | | Tang et al. method |\n",
    "\n",
    "| Root Dataset | Dataset   | Technology | Download | Notes |\n",
    "| -- | -- | -- | -- | -- |\n",
    "| Radley et al., 2022 | | | | |\n",
    "| X | [Meistermann et al, 2021](https://www.sciencedirect.com/science/article/pii/S1934590921001855) | SMART-SEQ2 | [PRJEB30442](https://www.ebi.ac.uk/ena/browser/view/PRJEB30442) | |\n",
    "| X | [Petropoulos et al, 2016](https://www.sciencedirect.com/science/article/pii/S009286741630280X) | SMART-SEQ2 | [E-MTAB-3929]| [SCPORTAL](https://single-cell.riken.jp/SCPortalen_Database/DatasetTable/E-MTAB-3929/) | \n",
    "| X | [Yan et al, 2013](https://www.nature.com/articles/nsmb.2660) | SMART-SEQ  | [GSE36552](https://www.ncbi.nlm.nih.gov/geo/query/acc.cgi?acc=GSE36552) | [SCPORTAL](https://single-cell.riken.jp/SCPortalen_Database/DatasetTable/GSE36552/) |\n",
    "| X | [Yanagida et al, 2021](https://www.sciencedirect.com/science/article/pii/S1934590921002071) | SMART-SEQ2 | [GSE171820](https://www.ncbi.nlm.nih.gov/geo/query/acc.cgi?acc=GSE171820) | |\n",
    "| X | [Nakamura et al, 2017](https://www.nature.com/articles/sdata201767) | SMART-SEQ2 | | | \n",
    "| [Blakeley et al, 2015](https://journals.biologists.com/dev/article/142/18/3151/46887/Defining-the-three-cell-lineages-of-the-human) |  | SMARTer Ultra Low RNA Kit | [GSE66507](https://www.ncbi.nlm.nih.gov/geo/query/acc.cgi?acc=GSE66507) | |\n",
    "| [Tysen et al, 2021](https://www.nature.com/articles/s41586-021-04158-y) | SMARTSEQ2  | [Portal](http://www.human-gastrula.net/) | GASTRULATION (CS7) | | \n",
    "| [Hang et al, 2019](https://www.nature.com/articles/s41586-019-1875-y) | SMART-SEQ2 | [GSE136447](https://www.ncbi.nlm.nih.gov/geo/query/acc.cgi?acc=GSE136447) | | | | \n",
    "| [Xue](https://www.nature.com/articles/nature12364#Sec3) | Tang et al. method | [GSE44183](https://www.ncbi.nlm.nih.gov/geo/query/acc.cgi?acc=GSE44183)\n",
    "\n",
    "[Meistermann2021]: https://www.sciencedirect.com/science/article/pii/S1934590921001855\n",
    "[PRJEB30442]: https://www.ebi.ac.uk/ena/browser/view/PRJEB30442\n",
    "[E-MTAB-3929]: https://www.ebi.ac.uk/arrayexpress/experiments/E-MTAB-3929/)"
   ]
  },
  {
   "cell_type": "markdown",
   "id": "966db6dc-e0a7-4b1d-bcd8-49f335567324",
   "metadata": {},
   "source": [
    "## Initial setup"
   ]
  },
  {
   "cell_type": "markdown",
   "id": "b17c65f6-fa53-40fa-8b3e-cb680f440161",
   "metadata": {},
   "source": [
    "For the pipeline, need to normalise using TPM. This requires average gene lengths. The original iteration of the notebooks linked GENE SYMBOL to MEAN GENE LENGTH. This time, I will instead link ENSEMBL GENE CODE to MEAN GENE LENGTH."
   ]
  },
  {
   "cell_type": "markdown",
   "id": "7cfbf54f-b2e9-4e6b-9b06-37f3b8f0b56e",
   "metadata": {},
   "source": [
    "```bash\n",
    "python3.10 ../data/external/human/gtftools.py -l ../data/external/human/Homo_sapiens.GRCh38.110.gene_length.tsv /scratch/Brickman/references/homo_sapiens/ensembl/GRCh38_110/Homo_sapiens.GRCh38.110.gtf\n",
    "```"
   ]
  },
  {
   "cell_type": "code",
   "execution_count": 2,
   "id": "d257f98b-c0f5-439c-8237-84791afa807f",
   "metadata": {},
   "outputs": [],
   "source": [
    "gtf = pd.read_table(\"../data/external/human/Homo_sapiens.GRCh38.110.gene_length.tsv\", index_col=0)"
   ]
  },
  {
   "cell_type": "code",
   "execution_count": 3,
   "id": "5f52ec4e-6aa2-446e-ae8a-0f452322411b",
   "metadata": {},
   "outputs": [],
   "source": [
    "gene_lengths = gtf[['mean']].copy()\n",
    "gene_lengths.columns = ['length']"
   ]
  },
  {
   "cell_type": "code",
   "execution_count": 4,
   "id": "404cb254-1866-4bf9-9c5c-6c4d28ab1d03",
   "metadata": {},
   "outputs": [],
   "source": [
    "def normalize_smartseq(adata: sc.AnnData, gene_len: pd.DataFrame) -> sc.AnnData:\n",
    "    print(\"SMART-SEQ: Normalization\")\n",
    "\n",
    "    common_genes = adata.var_names.intersection(gene_len.index)\n",
    "    print(f\"SMART-SEQ: Common genes {common_genes.shape[0]}\")\n",
    "\n",
    "    lengths = gene_len.loc[common_genes, \"length\"].values\n",
    "    normalized = sc.AnnData(adata[:, common_genes].X, obs=adata.obs, dtype=np.float32)\n",
    "    normalized.var_names = common_genes\n",
    "    normalized.X = normalized.X / lengths * np.median(lengths)\n",
    "    normalized.X = np.rint(normalized.X)\n",
    "\n",
    "    return normalized"
   ]
  },
  {
   "cell_type": "markdown",
   "id": "dfba6d01-f2bb-48af-af95-08c9f13cb073",
   "metadata": {},
   "source": [
    "## Meistermann et al., 2021"
   ]
  },
  {
   "cell_type": "markdown",
   "id": "7416d45c-ea47-4b47-acd7-32886ad615da",
   "metadata": {},
   "source": [
    "For annotation, I will be wiping the published annotations of the Meistermann dataset. Setting everything to 'Unknown'. The annotations do not contain an ICM."
   ]
  },
  {
   "cell_type": "code",
   "execution_count": 5,
   "id": "1e93ab24-95c3-482e-ae7f-90348cea2991",
   "metadata": {},
   "outputs": [],
   "source": [
    "meistermann_h5ad = sc.read_h5ad(\"../data/external/human/meistermann_2021_reprocessed.h5ad\")"
   ]
  },
  {
   "cell_type": "code",
   "execution_count": 6,
   "id": "efa4580b-1af8-4a80-92d2-d851977dde17",
   "metadata": {},
   "outputs": [],
   "source": [
    "MEISTERMANN_ENA_URL = \"https://www.ebi.ac.uk/ena/portal/api/filereport?accession=PRJEB30442&result=read_run&fields=study_accession,sample_accession,experiment_accession,run_accession,tax_id,scientific_name,fastq_ftp,submitted_ftp,sra_ftp,sample_alias&format=tsv&limit=0\"\n",
    "meistermann_metadata = pd.read_table(MEISTERMANN_ENA_URL)\n",
    "meistermann_sample_annotation = pd.read_csv(\"../data/external/human/Meistermann_et_al_2021/sampleAnnot.tsv\", index_col=0, sep=\"\\t\")\n",
    "meistermann_sample_annotation = meistermann_sample_annotation[meistermann_sample_annotation['Dataset'] == 'ThisPaper']\n",
    "meistermann_sample_annotation = meistermann_sample_annotation.merge(meistermann_metadata, left_on = 'Name', right_on = 'sample_alias')"
   ]
  },
  {
   "cell_type": "code",
   "execution_count": 7,
   "id": "6b05ed1d-9a3b-4d02-a550-dc97fe5da304",
   "metadata": {},
   "outputs": [
    {
     "data": {
      "text/plain": [
       "Index(['Embryo', 'Branches', 'EmbryoDay', 'Stage', 'BlastoDissectionSide',\n",
       "       'Dataset', 'Treatment', 'Stirparo.lineage', 'Author.lineage',\n",
       "       'Pseudotime', 'totalCounts', 'totalGenesExpr', 'clusterUmap',\n",
       "       'study_accession', 'sample_accession', 'experiment_accession',\n",
       "       'run_accession', 'tax_id', 'scientific_name', 'fastq_ftp',\n",
       "       'submitted_ftp', 'sra_ftp', 'sample_alias'],\n",
       "      dtype='object')"
      ]
     },
     "execution_count": 7,
     "metadata": {},
     "output_type": "execute_result"
    }
   ],
   "source": [
    "meistermann_sample_annotation.columns"
   ]
  },
  {
   "cell_type": "code",
   "execution_count": 8,
   "id": "3f5cb8e3-6661-49b1-9a8b-a655ce3e509f",
   "metadata": {},
   "outputs": [
    {
     "data": {
      "text/plain": [
       "array(['B1.EPI', 'B1_B2', 'early_TE', 'EPI', 'medium_TE', 'late_TE',\n",
       "       'EPI.PrE', 'Morula', 'EightCells', 'EPI.PrE.TE'], dtype=object)"
      ]
     },
     "execution_count": 8,
     "metadata": {},
     "output_type": "execute_result"
    }
   ],
   "source": [
    "meistermann_sample_annotation.clusterUmap.unique()"
   ]
  },
  {
   "cell_type": "code",
   "execution_count": 9,
   "id": "dd8ddd2f-44f7-4015-81c7-a020272e9705",
   "metadata": {},
   "outputs": [
    {
     "data": {
      "text/plain": [
       "array(['6.Epiblast', '3.Early blastocyst', '5.Early trophectoderm',\n",
       "       '4.Inner cell mass', '8.TE.NR2F2-', '9.TE.NR2F2+', '2.Morula',\n",
       "       '1.Pre-morula', '7.Primitive endoderm'], dtype=object)"
      ]
     },
     "execution_count": 9,
     "metadata": {},
     "output_type": "execute_result"
    }
   ],
   "source": [
    "meistermann_sample_annotation.Branches.unique()"
   ]
  },
  {
   "cell_type": "code",
   "execution_count": 10,
   "id": "9c368193-b784-4c80-bdd9-dc3742e0474c",
   "metadata": {},
   "outputs": [
    {
     "data": {
      "text/html": [
       "<div>\n",
       "<style scoped>\n",
       "    .dataframe tbody tr th:only-of-type {\n",
       "        vertical-align: middle;\n",
       "    }\n",
       "\n",
       "    .dataframe tbody tr th {\n",
       "        vertical-align: top;\n",
       "    }\n",
       "\n",
       "    .dataframe thead th {\n",
       "        text-align: right;\n",
       "    }\n",
       "</style>\n",
       "<table border=\"1\" class=\"dataframe\">\n",
       "  <thead>\n",
       "    <tr style=\"text-align: right;\">\n",
       "      <th></th>\n",
       "      <th>Stage</th>\n",
       "      <th>Dataset</th>\n",
       "      <th>clusterUmap</th>\n",
       "      <th>EmbryoDay</th>\n",
       "    </tr>\n",
       "  </thead>\n",
       "  <tbody>\n",
       "    <tr>\n",
       "      <th>0</th>\n",
       "      <td>B2+</td>\n",
       "      <td>ThisPaper</td>\n",
       "      <td>B1.EPI</td>\n",
       "      <td>5.0</td>\n",
       "    </tr>\n",
       "    <tr>\n",
       "      <th>1</th>\n",
       "      <td>B2+</td>\n",
       "      <td>ThisPaper</td>\n",
       "      <td>B1_B2</td>\n",
       "      <td>5.0</td>\n",
       "    </tr>\n",
       "    <tr>\n",
       "      <th>2</th>\n",
       "      <td>B2+</td>\n",
       "      <td>ThisPaper</td>\n",
       "      <td>B1.EPI</td>\n",
       "      <td>5.0</td>\n",
       "    </tr>\n",
       "    <tr>\n",
       "      <th>3</th>\n",
       "      <td>B2+</td>\n",
       "      <td>ThisPaper</td>\n",
       "      <td>B1.EPI</td>\n",
       "      <td>5.0</td>\n",
       "    </tr>\n",
       "    <tr>\n",
       "      <th>4</th>\n",
       "      <td>B2+</td>\n",
       "      <td>ThisPaper</td>\n",
       "      <td>B1_B2</td>\n",
       "      <td>5.0</td>\n",
       "    </tr>\n",
       "    <tr>\n",
       "      <th>...</th>\n",
       "      <td>...</td>\n",
       "      <td>...</td>\n",
       "      <td>...</td>\n",
       "      <td>...</td>\n",
       "    </tr>\n",
       "    <tr>\n",
       "      <th>145</th>\n",
       "      <td>B5</td>\n",
       "      <td>ThisPaper</td>\n",
       "      <td>medium_TE</td>\n",
       "      <td>6.0</td>\n",
       "    </tr>\n",
       "    <tr>\n",
       "      <th>146</th>\n",
       "      <td>B5</td>\n",
       "      <td>ThisPaper</td>\n",
       "      <td>medium_TE</td>\n",
       "      <td>6.0</td>\n",
       "    </tr>\n",
       "    <tr>\n",
       "      <th>147</th>\n",
       "      <td>B5</td>\n",
       "      <td>ThisPaper</td>\n",
       "      <td>medium_TE</td>\n",
       "      <td>6.0</td>\n",
       "    </tr>\n",
       "    <tr>\n",
       "      <th>148</th>\n",
       "      <td>B5</td>\n",
       "      <td>ThisPaper</td>\n",
       "      <td>medium_TE</td>\n",
       "      <td>6.0</td>\n",
       "    </tr>\n",
       "    <tr>\n",
       "      <th>149</th>\n",
       "      <td>B4</td>\n",
       "      <td>ThisPaper</td>\n",
       "      <td>early_TE</td>\n",
       "      <td>6.0</td>\n",
       "    </tr>\n",
       "  </tbody>\n",
       "</table>\n",
       "<p>150 rows × 4 columns</p>\n",
       "</div>"
      ],
      "text/plain": [
       "    Stage    Dataset clusterUmap  EmbryoDay\n",
       "0     B2+  ThisPaper      B1.EPI        5.0\n",
       "1     B2+  ThisPaper       B1_B2        5.0\n",
       "2     B2+  ThisPaper      B1.EPI        5.0\n",
       "3     B2+  ThisPaper      B1.EPI        5.0\n",
       "4     B2+  ThisPaper       B1_B2        5.0\n",
       "..    ...        ...         ...        ...\n",
       "145    B5  ThisPaper   medium_TE        6.0\n",
       "146    B5  ThisPaper   medium_TE        6.0\n",
       "147    B5  ThisPaper   medium_TE        6.0\n",
       "148    B5  ThisPaper   medium_TE        6.0\n",
       "149    B4  ThisPaper    early_TE        6.0\n",
       "\n",
       "[150 rows x 4 columns]"
      ]
     },
     "execution_count": 10,
     "metadata": {},
     "output_type": "execute_result"
    }
   ],
   "source": [
    "meistermann_h5ad.obs.loc[:,['sample','run_accession']].merge(meistermann_sample_annotation, left_on='run_accession', right_on='run_accession').loc[:,['Stage','Dataset', 'clusterUmap','EmbryoDay']]"
   ]
  },
  {
   "cell_type": "code",
   "execution_count": 11,
   "id": "fd71f1a8-3dcd-4181-b1bd-d83592dd5171",
   "metadata": {},
   "outputs": [],
   "source": [
    "meistermann = meistermann_h5ad.copy()"
   ]
  },
  {
   "cell_type": "code",
   "execution_count": 12,
   "id": "dfdd3ce0-be3c-439c-b62a-3d41dbba0f16",
   "metadata": {},
   "outputs": [],
   "source": [
    "meistermann.obs = meistermann_h5ad.obs.loc[:,['sample','run_accession']].reset_index().merge(meistermann_sample_annotation, left_on='run_accession', right_on='run_accession').set_index('index')"
   ]
  },
  {
   "cell_type": "code",
   "execution_count": 13,
   "id": "414464f7-5adb-4bf3-a4f0-aa11d66b3425",
   "metadata": {},
   "outputs": [],
   "source": [
    "meistermann_reannotation = meistermann.obs[['EmbryoDay','clusterUmap']]"
   ]
  },
  {
   "cell_type": "code",
   "execution_count": 14,
   "id": "59ded1aa-0e67-4a43-acb6-24fcf95e57d4",
   "metadata": {},
   "outputs": [
    {
     "data": {
      "text/html": [
       "<div>\n",
       "<style scoped>\n",
       "    .dataframe tbody tr th:only-of-type {\n",
       "        vertical-align: middle;\n",
       "    }\n",
       "\n",
       "    .dataframe tbody tr th {\n",
       "        vertical-align: top;\n",
       "    }\n",
       "\n",
       "    .dataframe thead th {\n",
       "        text-align: right;\n",
       "    }\n",
       "</style>\n",
       "<table border=\"1\" class=\"dataframe\">\n",
       "  <thead>\n",
       "    <tr style=\"text-align: right;\">\n",
       "      <th></th>\n",
       "      <th>EmbryoDay</th>\n",
       "      <th>clusterUmap</th>\n",
       "    </tr>\n",
       "    <tr>\n",
       "      <th>index</th>\n",
       "      <th></th>\n",
       "      <th></th>\n",
       "    </tr>\n",
       "  </thead>\n",
       "  <tbody>\n",
       "    <tr>\n",
       "      <th>ERX3015937_ERX3015937</th>\n",
       "      <td>5.0</td>\n",
       "      <td>B1.EPI</td>\n",
       "    </tr>\n",
       "    <tr>\n",
       "      <th>ERX3015939_ERX3015939</th>\n",
       "      <td>5.0</td>\n",
       "      <td>B1_B2</td>\n",
       "    </tr>\n",
       "    <tr>\n",
       "      <th>ERX3015940_ERX3015940</th>\n",
       "      <td>5.0</td>\n",
       "      <td>B1.EPI</td>\n",
       "    </tr>\n",
       "    <tr>\n",
       "      <th>ERX3015941_ERX3015941</th>\n",
       "      <td>5.0</td>\n",
       "      <td>B1.EPI</td>\n",
       "    </tr>\n",
       "    <tr>\n",
       "      <th>ERX3015936_ERX3015936</th>\n",
       "      <td>5.0</td>\n",
       "      <td>B1_B2</td>\n",
       "    </tr>\n",
       "  </tbody>\n",
       "</table>\n",
       "</div>"
      ],
      "text/plain": [
       "                       EmbryoDay clusterUmap\n",
       "index                                       \n",
       "ERX3015937_ERX3015937        5.0      B1.EPI\n",
       "ERX3015939_ERX3015939        5.0       B1_B2\n",
       "ERX3015940_ERX3015940        5.0      B1.EPI\n",
       "ERX3015941_ERX3015941        5.0      B1.EPI\n",
       "ERX3015936_ERX3015936        5.0       B1_B2"
      ]
     },
     "execution_count": 14,
     "metadata": {},
     "output_type": "execute_result"
    }
   ],
   "source": [
    "meistermann_reannotation.head()"
   ]
  },
  {
   "cell_type": "code",
   "execution_count": 15,
   "id": "f32e854a-4699-412a-aa7c-b2ad1cbae30a",
   "metadata": {},
   "outputs": [],
   "source": [
    "lineage_renaming = {\n",
    "    'early_TE': 'Trophectoderm',\n",
    "    'late_TE': 'Trophectoderm',\n",
    "    'medium_TE':'Trophectoderm',\n",
    "    'EPI':'Epiblast',\n",
    "    'PrE':'Primitive Endoderm',\n",
    "    'PrE.TE':'Unknown',\n",
    "    'B1.EPI':'Unknown',\n",
    "    'EPI.PrE': 'Unknown',\n",
    "    'EPI.PrE.TE':'Unknown',\n",
    "    'EPI.early_TE':'Unknown',\n",
    "    'B1_B2':'Blastocyst',\n",
    "    'EightCells': '8C',\n",
    "    'Morula': 'Morula',\n",
    "}"
   ]
  },
  {
   "cell_type": "code",
   "execution_count": 16,
   "id": "166a799c-88ed-4745-a58f-0e16fcc43787",
   "metadata": {},
   "outputs": [],
   "source": [
    "meistermann_reannotation = meistermann_reannotation.replace({\n",
    "    'clusterUmap':lineage_renaming\n",
    "})"
   ]
  },
  {
   "cell_type": "code",
   "execution_count": 17,
   "id": "10910332-1583-4902-9ae9-1c90a42a3053",
   "metadata": {},
   "outputs": [
    {
     "data": {
      "text/html": [
       "<div>\n",
       "<style scoped>\n",
       "    .dataframe tbody tr th:only-of-type {\n",
       "        vertical-align: middle;\n",
       "    }\n",
       "\n",
       "    .dataframe tbody tr th {\n",
       "        vertical-align: top;\n",
       "    }\n",
       "\n",
       "    .dataframe thead th {\n",
       "        text-align: right;\n",
       "    }\n",
       "</style>\n",
       "<table border=\"1\" class=\"dataframe\">\n",
       "  <thead>\n",
       "    <tr style=\"text-align: right;\">\n",
       "      <th></th>\n",
       "      <th>day</th>\n",
       "      <th>ct</th>\n",
       "      <th>experiment</th>\n",
       "      <th>technology</th>\n",
       "    </tr>\n",
       "    <tr>\n",
       "      <th>index</th>\n",
       "      <th></th>\n",
       "      <th></th>\n",
       "      <th></th>\n",
       "      <th></th>\n",
       "    </tr>\n",
       "  </thead>\n",
       "  <tbody>\n",
       "    <tr>\n",
       "      <th>ERX3015937_ERX3015937</th>\n",
       "      <td>5.0</td>\n",
       "      <td>Unknown</td>\n",
       "      <td>Meistermann_2021</td>\n",
       "      <td>SMARTSeq2</td>\n",
       "    </tr>\n",
       "    <tr>\n",
       "      <th>ERX3015939_ERX3015939</th>\n",
       "      <td>5.0</td>\n",
       "      <td>Unknown</td>\n",
       "      <td>Meistermann_2021</td>\n",
       "      <td>SMARTSeq2</td>\n",
       "    </tr>\n",
       "    <tr>\n",
       "      <th>ERX3015940_ERX3015940</th>\n",
       "      <td>5.0</td>\n",
       "      <td>Unknown</td>\n",
       "      <td>Meistermann_2021</td>\n",
       "      <td>SMARTSeq2</td>\n",
       "    </tr>\n",
       "    <tr>\n",
       "      <th>ERX3015941_ERX3015941</th>\n",
       "      <td>5.0</td>\n",
       "      <td>Unknown</td>\n",
       "      <td>Meistermann_2021</td>\n",
       "      <td>SMARTSeq2</td>\n",
       "    </tr>\n",
       "    <tr>\n",
       "      <th>ERX3015936_ERX3015936</th>\n",
       "      <td>5.0</td>\n",
       "      <td>Unknown</td>\n",
       "      <td>Meistermann_2021</td>\n",
       "      <td>SMARTSeq2</td>\n",
       "    </tr>\n",
       "  </tbody>\n",
       "</table>\n",
       "</div>"
      ],
      "text/plain": [
       "                       day       ct        experiment technology\n",
       "index                                                           \n",
       "ERX3015937_ERX3015937  5.0  Unknown  Meistermann_2021  SMARTSeq2\n",
       "ERX3015939_ERX3015939  5.0  Unknown  Meistermann_2021  SMARTSeq2\n",
       "ERX3015940_ERX3015940  5.0  Unknown  Meistermann_2021  SMARTSeq2\n",
       "ERX3015941_ERX3015941  5.0  Unknown  Meistermann_2021  SMARTSeq2\n",
       "ERX3015936_ERX3015936  5.0  Unknown  Meistermann_2021  SMARTSeq2"
      ]
     },
     "execution_count": 17,
     "metadata": {},
     "output_type": "execute_result"
    }
   ],
   "source": [
    "meistermann_reannotation.columns = ['day', 'ct']\n",
    "meistermann_reannotation['ct'] = 'Unknown'\n",
    "meistermann_reannotation['experiment'] = 'Meistermann_2021'\n",
    "meistermann_reannotation['technology'] = 'SMARTSeq2'\n",
    "meistermann_reannotation.head()"
   ]
  },
  {
   "cell_type": "code",
   "execution_count": 18,
   "id": "dde05d02-f435-48c9-b568-44e469ef4dbc",
   "metadata": {},
   "outputs": [],
   "source": [
    "meistermann.obs = meistermann_reannotation"
   ]
  },
  {
   "cell_type": "code",
   "execution_count": 19,
   "id": "e49508bc-4b40-4bfc-9c6f-a93713f3aa34",
   "metadata": {},
   "outputs": [
    {
     "name": "stdout",
     "output_type": "stream",
     "text": [
      "SMART-SEQ: Normalization\n",
      "SMART-SEQ: Common genes 62663\n"
     ]
    },
    {
     "data": {
      "text/plain": [
       "AnnData object with n_obs × n_vars = 150 × 62663\n",
       "    obs: 'day', 'ct', 'experiment', 'technology'"
      ]
     },
     "execution_count": 19,
     "metadata": {},
     "output_type": "execute_result"
    }
   ],
   "source": [
    "normalize_smartseq(meistermann, gene_lengths)"
   ]
  },
  {
   "cell_type": "code",
   "execution_count": 20,
   "id": "c8b9c5cb-8371-404c-a94f-ebc2f966ef29",
   "metadata": {},
   "outputs": [],
   "source": [
    "sc.pp.filter_cells(meistermann, min_counts=10)\n",
    "sc.pp.filter_cells(meistermann, min_genes=10)\n",
    "meistermann.layers[\"counts\"] = meistermann.X.copy()\n",
    "sc.pp.normalize_total(meistermann, target_sum=10_000)\n",
    "sc.pp.log1p(meistermann)\n",
    "meistermann.raw = meistermann"
   ]
  },
  {
   "cell_type": "markdown",
   "id": "7f66044e-3cbe-41d7-9ff1-c6d54963cb4b",
   "metadata": {},
   "source": [
    "## Petropoulos et al., 2016"
   ]
  },
  {
   "cell_type": "code",
   "execution_count": 21,
   "id": "0064fc32-d194-485c-a8c9-ecb8c5de3a59",
   "metadata": {},
   "outputs": [],
   "source": [
    "petropoulos_h5ad = sc.read_h5ad(\"../data/external/human/petropoulos_2016_reprocesses.h5ad\")"
   ]
  },
  {
   "cell_type": "code",
   "execution_count": 22,
   "id": "4d5f6b99-6450-4730-9441-801a67027c2b",
   "metadata": {},
   "outputs": [
    {
     "data": {
      "text/plain": [
       "AnnData object with n_obs × n_vars = 1496 × 62754\n",
       "    obs: 'sample', 'fastq_1', 'run_accession', 'experiment_accession', 'sample_accession', 'secondary_sample_accession', 'study_accession', 'secondary_study_accession', 'submission_accession', 'run_alias', 'experiment_alias', 'sample_alias', 'study_alias', 'library_layout', 'library_selection', 'library_source', 'library_strategy', 'library_name', 'instrument_model', 'instrument_platform', 'scientific_name', 'sample_title', 'experiment_title', 'study_title', 'sample_description', 'fastq_md5', 'fastq_ftp', 'fastq_galaxy', 'fastq_aspera'\n",
       "    var: 'gene_symbol'"
      ]
     },
     "execution_count": 22,
     "metadata": {},
     "output_type": "execute_result"
    }
   ],
   "source": [
    "petropoulos_h5ad"
   ]
  },
  {
   "cell_type": "code",
   "execution_count": 23,
   "id": "7df4995c-b4b1-473a-96f5-99a7b386524d",
   "metadata": {},
   "outputs": [],
   "source": [
    "PETROPOULOS_URL = \"https://www.ebi.ac.uk/ena/portal/api/filereport?accession=PRJEB11202&result=read_run&fields=study_accession,sample_accession,experiment_accession,run_accession,tax_id,scientific_name,fastq_ftp,submitted_ftp,sra_ftp,sample_alias&format=tsv&limit=0\"\n",
    "petropoulos_metadata = pd.read_table(PETROPOULOS_URL)\n",
    "petropoulos_metadata.sample_alias = petropoulos_metadata.sample_alias.str.extract(\"(E[0-9].*$)\")\n",
    "petropoulos_metadata_short = petropoulos_metadata[['run_accession', 'sample_alias']]\n",
    "petropoulos_sample_annotation = pd.read_csv(\"../data/external/human/Meistermann_et_al_2021/sampleAnnot.tsv\", index_col=0, sep=\"\\t\")\n",
    "petropoulos_sample_annotation = petropoulos_sample_annotation.loc[petropoulos_sample_annotation.Dataset == 'Petropoulos2016']\n",
    "petropoulos_sample_annotation = petropoulos_sample_annotation.merge(petropoulos_metadata_short, left_on = 'Name', right_on = 'sample_alias')"
   ]
  },
  {
   "cell_type": "code",
   "execution_count": 24,
   "id": "c30eb856-fae0-409b-b040-39139fd80ecb",
   "metadata": {},
   "outputs": [],
   "source": [
    "petropoulos = petropoulos_h5ad.copy()\n",
    "petropoulos.obs = petropoulos_h5ad.obs.loc[:,['sample','run_accession']].reset_index().merge(petropoulos_sample_annotation, left_on='run_accession', right_on='run_accession').set_index('index')"
   ]
  },
  {
   "cell_type": "code",
   "execution_count": 25,
   "id": "5b598c59-259d-46e9-a3ea-0e42a20026df",
   "metadata": {},
   "outputs": [
    {
     "data": {
      "text/plain": [
       "AnnData object with n_obs × n_vars = 1496 × 62754\n",
       "    obs: 'sample', 'run_accession', 'Embryo', 'Branches', 'EmbryoDay', 'Stage', 'BlastoDissectionSide', 'Dataset', 'Treatment', 'Stirparo.lineage', 'Author.lineage', 'Pseudotime', 'totalCounts', 'totalGenesExpr', 'clusterUmap', 'sample_alias'\n",
       "    var: 'gene_symbol'"
      ]
     },
     "execution_count": 25,
     "metadata": {},
     "output_type": "execute_result"
    }
   ],
   "source": [
    "petropoulos"
   ]
  },
  {
   "cell_type": "code",
   "execution_count": 26,
   "id": "c3037b91-5b68-4e57-8d67-d40a020d8e91",
   "metadata": {},
   "outputs": [],
   "source": [
    "petropoulos_reannotation = petropoulos.obs"
   ]
  },
  {
   "cell_type": "code",
   "execution_count": 27,
   "id": "708ee175-1bad-424c-81cd-f410d61c1920",
   "metadata": {},
   "outputs": [
    {
     "data": {
      "text/html": [
       "<div>\n",
       "<style scoped>\n",
       "    .dataframe tbody tr th:only-of-type {\n",
       "        vertical-align: middle;\n",
       "    }\n",
       "\n",
       "    .dataframe tbody tr th {\n",
       "        vertical-align: top;\n",
       "    }\n",
       "\n",
       "    .dataframe thead th {\n",
       "        text-align: right;\n",
       "    }\n",
       "</style>\n",
       "<table border=\"1\" class=\"dataframe\">\n",
       "  <thead>\n",
       "    <tr style=\"text-align: right;\">\n",
       "      <th>Stage</th>\n",
       "      <th>8C</th>\n",
       "      <th>B</th>\n",
       "      <th>B2+</th>\n",
       "      <th>M</th>\n",
       "      <th>MC</th>\n",
       "    </tr>\n",
       "    <tr>\n",
       "      <th>Stirparo.lineage</th>\n",
       "      <th></th>\n",
       "      <th></th>\n",
       "      <th></th>\n",
       "      <th></th>\n",
       "      <th></th>\n",
       "    </tr>\n",
       "  </thead>\n",
       "  <tbody>\n",
       "    <tr>\n",
       "      <th>EPI</th>\n",
       "      <td>0</td>\n",
       "      <td>44</td>\n",
       "      <td>0</td>\n",
       "      <td>0</td>\n",
       "      <td>0</td>\n",
       "    </tr>\n",
       "    <tr>\n",
       "      <th>ICM</th>\n",
       "      <td>0</td>\n",
       "      <td>65</td>\n",
       "      <td>0</td>\n",
       "      <td>0</td>\n",
       "      <td>0</td>\n",
       "    </tr>\n",
       "    <tr>\n",
       "      <th>TE</th>\n",
       "      <td>0</td>\n",
       "      <td>927</td>\n",
       "      <td>0</td>\n",
       "      <td>0</td>\n",
       "      <td>0</td>\n",
       "    </tr>\n",
       "    <tr>\n",
       "      <th>intermediate</th>\n",
       "      <td>0</td>\n",
       "      <td>66</td>\n",
       "      <td>0</td>\n",
       "      <td>0</td>\n",
       "      <td>0</td>\n",
       "    </tr>\n",
       "    <tr>\n",
       "      <th>prE</th>\n",
       "      <td>0</td>\n",
       "      <td>28</td>\n",
       "      <td>0</td>\n",
       "      <td>0</td>\n",
       "      <td>0</td>\n",
       "    </tr>\n",
       "    <tr>\n",
       "      <th>undefined</th>\n",
       "      <td>78</td>\n",
       "      <td>43</td>\n",
       "      <td>24</td>\n",
       "      <td>120</td>\n",
       "      <td>47</td>\n",
       "    </tr>\n",
       "  </tbody>\n",
       "</table>\n",
       "</div>"
      ],
      "text/plain": [
       "Stage             8C    B  B2+    M  MC\n",
       "Stirparo.lineage                       \n",
       "EPI                0   44    0    0   0\n",
       "ICM                0   65    0    0   0\n",
       "TE                 0  927    0    0   0\n",
       "intermediate       0   66    0    0   0\n",
       "prE                0   28    0    0   0\n",
       "undefined         78   43   24  120  47"
      ]
     },
     "execution_count": 27,
     "metadata": {},
     "output_type": "execute_result"
    }
   ],
   "source": [
    "pd.crosstab(petropoulos_reannotation['Stirparo.lineage'], petropoulos_reannotation.Stage)"
   ]
  },
  {
   "cell_type": "code",
   "execution_count": 28,
   "id": "85fb600c-a239-4ed6-be6b-db8b0c770c51",
   "metadata": {},
   "outputs": [
    {
     "data": {
      "text/html": [
       "<div>\n",
       "<style scoped>\n",
       "    .dataframe tbody tr th:only-of-type {\n",
       "        vertical-align: middle;\n",
       "    }\n",
       "\n",
       "    .dataframe tbody tr th {\n",
       "        vertical-align: top;\n",
       "    }\n",
       "\n",
       "    .dataframe thead th {\n",
       "        text-align: right;\n",
       "    }\n",
       "</style>\n",
       "<table border=\"1\" class=\"dataframe\">\n",
       "  <thead>\n",
       "    <tr style=\"text-align: right;\">\n",
       "      <th>EmbryoDay</th>\n",
       "      <th>3.0</th>\n",
       "      <th>4.0</th>\n",
       "      <th>5.0</th>\n",
       "      <th>6.0</th>\n",
       "      <th>7.0</th>\n",
       "    </tr>\n",
       "    <tr>\n",
       "      <th>Branches</th>\n",
       "      <th></th>\n",
       "      <th></th>\n",
       "      <th></th>\n",
       "      <th></th>\n",
       "      <th></th>\n",
       "    </tr>\n",
       "  </thead>\n",
       "  <tbody>\n",
       "    <tr>\n",
       "      <th>1.Pre-morula</th>\n",
       "      <td>80</td>\n",
       "      <td>8</td>\n",
       "      <td>0</td>\n",
       "      <td>0</td>\n",
       "      <td>0</td>\n",
       "    </tr>\n",
       "    <tr>\n",
       "      <th>2.Morula</th>\n",
       "      <td>0</td>\n",
       "      <td>150</td>\n",
       "      <td>16</td>\n",
       "      <td>0</td>\n",
       "      <td>0</td>\n",
       "    </tr>\n",
       "    <tr>\n",
       "      <th>3.Early blastocyst</th>\n",
       "      <td>0</td>\n",
       "      <td>29</td>\n",
       "      <td>116</td>\n",
       "      <td>1</td>\n",
       "      <td>0</td>\n",
       "    </tr>\n",
       "    <tr>\n",
       "      <th>4.Inner cell mass</th>\n",
       "      <td>0</td>\n",
       "      <td>0</td>\n",
       "      <td>13</td>\n",
       "      <td>6</td>\n",
       "      <td>0</td>\n",
       "    </tr>\n",
       "    <tr>\n",
       "      <th>5.Early trophectoderm</th>\n",
       "      <td>0</td>\n",
       "      <td>0</td>\n",
       "      <td>97</td>\n",
       "      <td>27</td>\n",
       "      <td>2</td>\n",
       "    </tr>\n",
       "    <tr>\n",
       "      <th>6.Epiblast</th>\n",
       "      <td>0</td>\n",
       "      <td>0</td>\n",
       "      <td>114</td>\n",
       "      <td>33</td>\n",
       "      <td>16</td>\n",
       "    </tr>\n",
       "    <tr>\n",
       "      <th>7.Primitive endoderm</th>\n",
       "      <td>0</td>\n",
       "      <td>0</td>\n",
       "      <td>7</td>\n",
       "      <td>45</td>\n",
       "      <td>42</td>\n",
       "    </tr>\n",
       "    <tr>\n",
       "      <th>8.TE.NR2F2-</th>\n",
       "      <td>0</td>\n",
       "      <td>0</td>\n",
       "      <td>3</td>\n",
       "      <td>226</td>\n",
       "      <td>141</td>\n",
       "    </tr>\n",
       "    <tr>\n",
       "      <th>9.TE.NR2F2+</th>\n",
       "      <td>0</td>\n",
       "      <td>0</td>\n",
       "      <td>0</td>\n",
       "      <td>71</td>\n",
       "      <td>253</td>\n",
       "    </tr>\n",
       "  </tbody>\n",
       "</table>\n",
       "</div>"
      ],
      "text/plain": [
       "EmbryoDay              3.0  4.0  5.0  6.0  7.0\n",
       "Branches                                      \n",
       "1.Pre-morula            80    8    0    0    0\n",
       "2.Morula                 0  150   16    0    0\n",
       "3.Early blastocyst       0   29  116    1    0\n",
       "4.Inner cell mass        0    0   13    6    0\n",
       "5.Early trophectoderm    0    0   97   27    2\n",
       "6.Epiblast               0    0  114   33   16\n",
       "7.Primitive endoderm     0    0    7   45   42\n",
       "8.TE.NR2F2-              0    0    3  226  141\n",
       "9.TE.NR2F2+              0    0    0   71  253"
      ]
     },
     "execution_count": 28,
     "metadata": {},
     "output_type": "execute_result"
    }
   ],
   "source": [
    "pd.crosstab(petropoulos_reannotation.Branches, petropoulos_reannotation.EmbryoDay)"
   ]
  },
  {
   "cell_type": "code",
   "execution_count": 29,
   "id": "a5b03af5-3876-4653-82dd-7d7d5ffffc10",
   "metadata": {},
   "outputs": [
    {
     "data": {
      "text/html": [
       "<div>\n",
       "<style scoped>\n",
       "    .dataframe tbody tr th:only-of-type {\n",
       "        vertical-align: middle;\n",
       "    }\n",
       "\n",
       "    .dataframe tbody tr th {\n",
       "        vertical-align: top;\n",
       "    }\n",
       "\n",
       "    .dataframe thead th {\n",
       "        text-align: right;\n",
       "    }\n",
       "</style>\n",
       "<table border=\"1\" class=\"dataframe\">\n",
       "  <thead>\n",
       "    <tr style=\"text-align: right;\">\n",
       "      <th>Branches</th>\n",
       "      <th>1.Pre-morula</th>\n",
       "      <th>2.Morula</th>\n",
       "      <th>3.Early blastocyst</th>\n",
       "      <th>4.Inner cell mass</th>\n",
       "      <th>5.Early trophectoderm</th>\n",
       "      <th>6.Epiblast</th>\n",
       "      <th>7.Primitive endoderm</th>\n",
       "      <th>8.TE.NR2F2-</th>\n",
       "      <th>9.TE.NR2F2+</th>\n",
       "    </tr>\n",
       "    <tr>\n",
       "      <th>clusterUmap</th>\n",
       "      <th></th>\n",
       "      <th></th>\n",
       "      <th></th>\n",
       "      <th></th>\n",
       "      <th></th>\n",
       "      <th></th>\n",
       "      <th></th>\n",
       "      <th></th>\n",
       "      <th></th>\n",
       "    </tr>\n",
       "  </thead>\n",
       "  <tbody>\n",
       "    <tr>\n",
       "      <th>B1.EPI</th>\n",
       "      <td>0</td>\n",
       "      <td>0</td>\n",
       "      <td>0</td>\n",
       "      <td>1</td>\n",
       "      <td>0</td>\n",
       "      <td>3</td>\n",
       "      <td>0</td>\n",
       "      <td>0</td>\n",
       "      <td>0</td>\n",
       "    </tr>\n",
       "    <tr>\n",
       "      <th>B1_B2</th>\n",
       "      <td>0</td>\n",
       "      <td>25</td>\n",
       "      <td>136</td>\n",
       "      <td>2</td>\n",
       "      <td>7</td>\n",
       "      <td>1</td>\n",
       "      <td>0</td>\n",
       "      <td>0</td>\n",
       "      <td>0</td>\n",
       "    </tr>\n",
       "    <tr>\n",
       "      <th>EPI</th>\n",
       "      <td>0</td>\n",
       "      <td>0</td>\n",
       "      <td>0</td>\n",
       "      <td>0</td>\n",
       "      <td>0</td>\n",
       "      <td>104</td>\n",
       "      <td>29</td>\n",
       "      <td>0</td>\n",
       "      <td>0</td>\n",
       "    </tr>\n",
       "    <tr>\n",
       "      <th>EPI.PrE</th>\n",
       "      <td>0</td>\n",
       "      <td>0</td>\n",
       "      <td>0</td>\n",
       "      <td>0</td>\n",
       "      <td>0</td>\n",
       "      <td>19</td>\n",
       "      <td>9</td>\n",
       "      <td>0</td>\n",
       "      <td>0</td>\n",
       "    </tr>\n",
       "    <tr>\n",
       "      <th>EPI.PrE.TE</th>\n",
       "      <td>0</td>\n",
       "      <td>0</td>\n",
       "      <td>0</td>\n",
       "      <td>1</td>\n",
       "      <td>2</td>\n",
       "      <td>8</td>\n",
       "      <td>19</td>\n",
       "      <td>11</td>\n",
       "      <td>3</td>\n",
       "    </tr>\n",
       "    <tr>\n",
       "      <th>EPI.early_TE</th>\n",
       "      <td>0</td>\n",
       "      <td>0</td>\n",
       "      <td>0</td>\n",
       "      <td>0</td>\n",
       "      <td>1</td>\n",
       "      <td>14</td>\n",
       "      <td>0</td>\n",
       "      <td>0</td>\n",
       "      <td>0</td>\n",
       "    </tr>\n",
       "    <tr>\n",
       "      <th>EightCells</th>\n",
       "      <td>83</td>\n",
       "      <td>0</td>\n",
       "      <td>0</td>\n",
       "      <td>0</td>\n",
       "      <td>0</td>\n",
       "      <td>0</td>\n",
       "      <td>0</td>\n",
       "      <td>0</td>\n",
       "      <td>0</td>\n",
       "    </tr>\n",
       "    <tr>\n",
       "      <th>Morula</th>\n",
       "      <td>5</td>\n",
       "      <td>141</td>\n",
       "      <td>7</td>\n",
       "      <td>0</td>\n",
       "      <td>0</td>\n",
       "      <td>0</td>\n",
       "      <td>0</td>\n",
       "      <td>0</td>\n",
       "      <td>0</td>\n",
       "    </tr>\n",
       "    <tr>\n",
       "      <th>PrE</th>\n",
       "      <td>0</td>\n",
       "      <td>0</td>\n",
       "      <td>0</td>\n",
       "      <td>0</td>\n",
       "      <td>0</td>\n",
       "      <td>9</td>\n",
       "      <td>32</td>\n",
       "      <td>4</td>\n",
       "      <td>3</td>\n",
       "    </tr>\n",
       "    <tr>\n",
       "      <th>PrE.TE</th>\n",
       "      <td>0</td>\n",
       "      <td>0</td>\n",
       "      <td>0</td>\n",
       "      <td>0</td>\n",
       "      <td>0</td>\n",
       "      <td>0</td>\n",
       "      <td>1</td>\n",
       "      <td>0</td>\n",
       "      <td>15</td>\n",
       "    </tr>\n",
       "    <tr>\n",
       "      <th>early_TE</th>\n",
       "      <td>0</td>\n",
       "      <td>0</td>\n",
       "      <td>3</td>\n",
       "      <td>15</td>\n",
       "      <td>98</td>\n",
       "      <td>5</td>\n",
       "      <td>0</td>\n",
       "      <td>0</td>\n",
       "      <td>0</td>\n",
       "    </tr>\n",
       "    <tr>\n",
       "      <th>late_TE</th>\n",
       "      <td>0</td>\n",
       "      <td>0</td>\n",
       "      <td>0</td>\n",
       "      <td>0</td>\n",
       "      <td>0</td>\n",
       "      <td>0</td>\n",
       "      <td>3</td>\n",
       "      <td>39</td>\n",
       "      <td>290</td>\n",
       "    </tr>\n",
       "    <tr>\n",
       "      <th>medium_TE</th>\n",
       "      <td>0</td>\n",
       "      <td>0</td>\n",
       "      <td>0</td>\n",
       "      <td>0</td>\n",
       "      <td>18</td>\n",
       "      <td>0</td>\n",
       "      <td>1</td>\n",
       "      <td>316</td>\n",
       "      <td>13</td>\n",
       "    </tr>\n",
       "  </tbody>\n",
       "</table>\n",
       "</div>"
      ],
      "text/plain": [
       "Branches      1.Pre-morula  2.Morula  3.Early blastocyst  4.Inner cell mass  \\\n",
       "clusterUmap                                                                   \n",
       "B1.EPI                   0         0                   0                  1   \n",
       "B1_B2                    0        25                 136                  2   \n",
       "EPI                      0         0                   0                  0   \n",
       "EPI.PrE                  0         0                   0                  0   \n",
       "EPI.PrE.TE               0         0                   0                  1   \n",
       "EPI.early_TE             0         0                   0                  0   \n",
       "EightCells              83         0                   0                  0   \n",
       "Morula                   5       141                   7                  0   \n",
       "PrE                      0         0                   0                  0   \n",
       "PrE.TE                   0         0                   0                  0   \n",
       "early_TE                 0         0                   3                 15   \n",
       "late_TE                  0         0                   0                  0   \n",
       "medium_TE                0         0                   0                  0   \n",
       "\n",
       "Branches      5.Early trophectoderm  6.Epiblast  7.Primitive endoderm  \\\n",
       "clusterUmap                                                             \n",
       "B1.EPI                            0           3                     0   \n",
       "B1_B2                             7           1                     0   \n",
       "EPI                               0         104                    29   \n",
       "EPI.PrE                           0          19                     9   \n",
       "EPI.PrE.TE                        2           8                    19   \n",
       "EPI.early_TE                      1          14                     0   \n",
       "EightCells                        0           0                     0   \n",
       "Morula                            0           0                     0   \n",
       "PrE                               0           9                    32   \n",
       "PrE.TE                            0           0                     1   \n",
       "early_TE                         98           5                     0   \n",
       "late_TE                           0           0                     3   \n",
       "medium_TE                        18           0                     1   \n",
       "\n",
       "Branches      8.TE.NR2F2-  9.TE.NR2F2+  \n",
       "clusterUmap                             \n",
       "B1.EPI                  0            0  \n",
       "B1_B2                   0            0  \n",
       "EPI                     0            0  \n",
       "EPI.PrE                 0            0  \n",
       "EPI.PrE.TE             11            3  \n",
       "EPI.early_TE            0            0  \n",
       "EightCells              0            0  \n",
       "Morula                  0            0  \n",
       "PrE                     4            3  \n",
       "PrE.TE                  0           15  \n",
       "early_TE                0            0  \n",
       "late_TE                39          290  \n",
       "medium_TE             316           13  "
      ]
     },
     "execution_count": 29,
     "metadata": {},
     "output_type": "execute_result"
    }
   ],
   "source": [
    "pd.crosstab(petropoulos_reannotation.clusterUmap, petropoulos_reannotation.Branches)"
   ]
  },
  {
   "cell_type": "code",
   "execution_count": 30,
   "id": "5a096540-8ce3-4e3d-a7c0-c688703794d3",
   "metadata": {},
   "outputs": [],
   "source": [
    "clusterUmap_renaming = {\n",
    "    'early_TE': 'Trophectoderm',\n",
    "    'late_TE': 'Trophectoderm',\n",
    "    'medium_TE':'Trophectoderm',\n",
    "    'EPI':'Epiblast',\n",
    "    'PrE':'Primitive Endoderm',\n",
    "    'PrE.TE':'Unknown',\n",
    "    'B1.EPI':'Unknown',\n",
    "    'EPI.PrE': 'Unknown',\n",
    "    'EPI.PrE.TE':'Unknown',\n",
    "    'EPI.early_TE':'Unknown',\n",
    "    'B1_B2':'Blastocyst',\n",
    "    'EightCells': '8C',\n",
    "    'Morula': 'Morula',\n",
    "}\n",
    "petropoulos_reannotation = petropoulos_reannotation.replace({\n",
    "    'clusterUmap':clusterUmap_renaming\n",
    "})"
   ]
  },
  {
   "cell_type": "code",
   "execution_count": 31,
   "id": "67dea531-1eca-4d20-a4af-95d8ab3d554f",
   "metadata": {},
   "outputs": [],
   "source": [
    "stirparoLineage_renaming = {\n",
    "    'EPI':'Epiblast',\n",
    "    'prE':'Primitive Endoderm',\n",
    "    'ICM':'Inner Cell Mass',\n",
    "    'TE': 'Trophectoderm',\n",
    "    'intermediate': 'Unknown',\n",
    "    'undefined': 'Unknown'\n",
    "}\n",
    "petropoulos_reannotation = petropoulos_reannotation.replace({\n",
    "    'Stirparo.lineage':stirparoLineage_renaming\n",
    "})"
   ]
  },
  {
   "cell_type": "code",
   "execution_count": 32,
   "id": "796387f5-d8a5-45e1-946b-8fe87a72722e",
   "metadata": {},
   "outputs": [
    {
     "data": {
      "text/plain": [
       "54"
      ]
     },
     "execution_count": 32,
     "metadata": {},
     "output_type": "execute_result"
    }
   ],
   "source": [
    "np.sum(petropoulos_reannotation['Stirparo.lineage'].isna())"
   ]
  },
  {
   "cell_type": "code",
   "execution_count": 33,
   "id": "47c08db2-29cc-47cc-b63d-11cbcffd884b",
   "metadata": {},
   "outputs": [],
   "source": [
    "petropoulos_reannotation.loc[petropoulos_reannotation['Stirparo.lineage'].isna(),['Stirparo.lineage']] = 'Unknown'"
   ]
  },
  {
   "cell_type": "code",
   "execution_count": 34,
   "id": "705c4f21-0298-42a8-95f7-5c97890853a0",
   "metadata": {},
   "outputs": [
    {
     "data": {
      "text/html": [
       "<div>\n",
       "<style scoped>\n",
       "    .dataframe tbody tr th:only-of-type {\n",
       "        vertical-align: middle;\n",
       "    }\n",
       "\n",
       "    .dataframe tbody tr th {\n",
       "        vertical-align: top;\n",
       "    }\n",
       "\n",
       "    .dataframe thead th {\n",
       "        text-align: right;\n",
       "    }\n",
       "</style>\n",
       "<table border=\"1\" class=\"dataframe\">\n",
       "  <thead>\n",
       "    <tr style=\"text-align: right;\">\n",
       "      <th></th>\n",
       "      <th>day</th>\n",
       "      <th>experiment</th>\n",
       "      <th>ct</th>\n",
       "      <th>technology</th>\n",
       "    </tr>\n",
       "    <tr>\n",
       "      <th>index</th>\n",
       "      <th></th>\n",
       "      <th></th>\n",
       "      <th></th>\n",
       "      <th></th>\n",
       "    </tr>\n",
       "  </thead>\n",
       "  <tbody>\n",
       "    <tr>\n",
       "      <th>ERX1120888_ERX1120888</th>\n",
       "      <td>3.0</td>\n",
       "      <td>Petropoulos_2016</td>\n",
       "      <td>Unknown</td>\n",
       "      <td>SMARTSeq2</td>\n",
       "    </tr>\n",
       "    <tr>\n",
       "      <th>ERX1120887_ERX1120887</th>\n",
       "      <td>3.0</td>\n",
       "      <td>Petropoulos_2016</td>\n",
       "      <td>Unknown</td>\n",
       "      <td>SMARTSeq2</td>\n",
       "    </tr>\n",
       "    <tr>\n",
       "      <th>ERX1120886_ERX1120886</th>\n",
       "      <td>3.0</td>\n",
       "      <td>Petropoulos_2016</td>\n",
       "      <td>Unknown</td>\n",
       "      <td>SMARTSeq2</td>\n",
       "    </tr>\n",
       "    <tr>\n",
       "      <th>ERX1120885_ERX1120885</th>\n",
       "      <td>3.0</td>\n",
       "      <td>Petropoulos_2016</td>\n",
       "      <td>Unknown</td>\n",
       "      <td>SMARTSeq2</td>\n",
       "    </tr>\n",
       "    <tr>\n",
       "      <th>ERX1120890_ERX1120890</th>\n",
       "      <td>3.0</td>\n",
       "      <td>Petropoulos_2016</td>\n",
       "      <td>Unknown</td>\n",
       "      <td>SMARTSeq2</td>\n",
       "    </tr>\n",
       "  </tbody>\n",
       "</table>\n",
       "</div>"
      ],
      "text/plain": [
       "                       day        experiment       ct technology\n",
       "index                                                           \n",
       "ERX1120888_ERX1120888  3.0  Petropoulos_2016  Unknown  SMARTSeq2\n",
       "ERX1120887_ERX1120887  3.0  Petropoulos_2016  Unknown  SMARTSeq2\n",
       "ERX1120886_ERX1120886  3.0  Petropoulos_2016  Unknown  SMARTSeq2\n",
       "ERX1120885_ERX1120885  3.0  Petropoulos_2016  Unknown  SMARTSeq2\n",
       "ERX1120890_ERX1120890  3.0  Petropoulos_2016  Unknown  SMARTSeq2"
      ]
     },
     "execution_count": 34,
     "metadata": {},
     "output_type": "execute_result"
    }
   ],
   "source": [
    "petropoulos_reannotation = petropoulos_reannotation[['EmbryoDay','Dataset','Stirparo.lineage']].copy()\n",
    "petropoulos_reannotation.columns = ['day','experiment','ct']\n",
    "petropoulos_reannotation['experiment'] = 'Petropoulos_2016'\n",
    "petropoulos_reannotation['technology'] = 'SMARTSeq2'\n",
    "petropoulos_reannotation.head()"
   ]
  },
  {
   "cell_type": "code",
   "execution_count": 35,
   "id": "c9d97f39-e89f-45b7-a78d-8123c2035b2a",
   "metadata": {},
   "outputs": [],
   "source": [
    "petropoulos.obs = petropoulos_reannotation"
   ]
  },
  {
   "cell_type": "code",
   "execution_count": 36,
   "id": "23f6b5a7-2793-4336-bdd3-b78a7dad69be",
   "metadata": {},
   "outputs": [
    {
     "name": "stdout",
     "output_type": "stream",
     "text": [
      "SMART-SEQ: Normalization\n",
      "SMART-SEQ: Common genes 62663\n"
     ]
    },
    {
     "data": {
      "text/plain": [
       "AnnData object with n_obs × n_vars = 1496 × 62663\n",
       "    obs: 'day', 'experiment', 'ct', 'technology'"
      ]
     },
     "execution_count": 36,
     "metadata": {},
     "output_type": "execute_result"
    }
   ],
   "source": [
    "normalize_smartseq(petropoulos, gene_lengths)"
   ]
  },
  {
   "cell_type": "code",
   "execution_count": 37,
   "id": "fc0e2cc0-099a-4168-a4b4-6940c4f9b571",
   "metadata": {},
   "outputs": [],
   "source": [
    "sc.pp.filter_cells(petropoulos, min_counts=10)\n",
    "sc.pp.filter_cells(petropoulos, min_genes=10)\n",
    "petropoulos.layers[\"counts\"] = petropoulos.X.copy()\n",
    "sc.pp.normalize_total(petropoulos, target_sum=10_000)\n",
    "sc.pp.log1p(petropoulos)\n",
    "petropoulos.raw = petropoulos"
   ]
  },
  {
   "cell_type": "code",
   "execution_count": null,
   "id": "b93db7e6-124e-472f-b9ba-90cc02de0852",
   "metadata": {},
   "outputs": [],
   "source": []
  },
  {
   "cell_type": "code",
   "execution_count": null,
   "id": "5c4a0b9d-cc87-4e17-9a53-82a698ab2fe8",
   "metadata": {},
   "outputs": [],
   "source": []
  },
  {
   "cell_type": "markdown",
   "id": "3f156a46-cd40-488f-87ba-d5e6f50ed898",
   "metadata": {},
   "source": [
    "## Xiang 2020"
   ]
  },
  {
   "cell_type": "code",
   "execution_count": 38,
   "id": "62d687c5-9c5d-464a-b0cd-29ddcc5291a4",
   "metadata": {},
   "outputs": [],
   "source": [
    "xiang_h5ad = sc.read_h5ad(\"../data/external/human/xiang_2020_reprocessed.h5ad\")"
   ]
  },
  {
   "cell_type": "code",
   "execution_count": 39,
   "id": "c4a77405-dffc-4971-a0df-d796c91e748b",
   "metadata": {},
   "outputs": [],
   "source": [
    "xiang_metadata_1 = pd.read_table(\"https://ftp.ncbi.nlm.nih.gov/geo/series/GSE136nnn/GSE136447/matrix/GSE136447-GPL20795_series_matrix.txt.gz\", \n",
    "                              skiprows=29, nrows=1, index_col = 0).T\n",
    "xiang_metadata_2 = pd.read_table(\"https://ftp.ncbi.nlm.nih.gov/geo/series/GSE136nnn/GSE136447/matrix/GSE136447-GPL23227_series_matrix.txt.gz\", \n",
    "                              skiprows=29, nrows=1, index_col = 0).T\n",
    "xiang_metadata = pd.concat([xiang_metadata_1, xiang_metadata_2])\n",
    "xiang_metadata['Sample_name'] = xiang_metadata.index.to_list()\n",
    "xiang_metadata['Sample_name'] = xiang_metadata['Sample_name'].str.extract(\"_(.*$)\")\n",
    "xiang_sample_annotation = pd.read_excel(\"../data/external/human/Xiang_et_al_2019/41586_2019_1875_MOESM10_ESM.xlsx\", skiprows=2, index_col=0)\n",
    "xiang_sample_annotation = xiang_sample_annotation.merge(xiang_metadata, left_on='Sample ID', right_on = 'Sample_name')\n",
    "xiang_sample_annotation.columns = ['Day', 'Embryo ID', 'Group', 'GEO_accession', 'Sample_name']"
   ]
  },
  {
   "cell_type": "code",
   "execution_count": 40,
   "id": "fe6abf9f-8995-4426-93c5-4c796982d796",
   "metadata": {},
   "outputs": [
    {
     "data": {
      "text/html": [
       "<div>\n",
       "<style scoped>\n",
       "    .dataframe tbody tr th:only-of-type {\n",
       "        vertical-align: middle;\n",
       "    }\n",
       "\n",
       "    .dataframe tbody tr th {\n",
       "        vertical-align: top;\n",
       "    }\n",
       "\n",
       "    .dataframe thead th {\n",
       "        text-align: right;\n",
       "    }\n",
       "</style>\n",
       "<table border=\"1\" class=\"dataframe\">\n",
       "  <thead>\n",
       "    <tr style=\"text-align: right;\">\n",
       "      <th></th>\n",
       "      <th>Day</th>\n",
       "      <th>Embryo ID</th>\n",
       "      <th>Group</th>\n",
       "      <th>GEO_accession</th>\n",
       "      <th>Sample_name</th>\n",
       "    </tr>\n",
       "  </thead>\n",
       "  <tbody>\n",
       "    <tr>\n",
       "      <th>0</th>\n",
       "      <td>D6</td>\n",
       "      <td>D6A1</td>\n",
       "      <td>ICM</td>\n",
       "      <td>GSM4050122</td>\n",
       "      <td>D6A1S1</td>\n",
       "    </tr>\n",
       "    <tr>\n",
       "      <th>1</th>\n",
       "      <td>D6</td>\n",
       "      <td>D6A1</td>\n",
       "      <td>EPI</td>\n",
       "      <td>GSM4050123</td>\n",
       "      <td>D6A1S2</td>\n",
       "    </tr>\n",
       "    <tr>\n",
       "      <th>2</th>\n",
       "      <td>D6</td>\n",
       "      <td>D6A1</td>\n",
       "      <td>ICM</td>\n",
       "      <td>GSM4050124</td>\n",
       "      <td>D6A1S3</td>\n",
       "    </tr>\n",
       "    <tr>\n",
       "      <th>3</th>\n",
       "      <td>D6</td>\n",
       "      <td>D6A1</td>\n",
       "      <td>ICM</td>\n",
       "      <td>GSM4050125</td>\n",
       "      <td>D6A1S4</td>\n",
       "    </tr>\n",
       "    <tr>\n",
       "      <th>4</th>\n",
       "      <td>D6</td>\n",
       "      <td>D6A1</td>\n",
       "      <td>ICM</td>\n",
       "      <td>GSM4050126</td>\n",
       "      <td>D6A1B1</td>\n",
       "    </tr>\n",
       "    <tr>\n",
       "      <th>...</th>\n",
       "      <td>...</td>\n",
       "      <td>...</td>\n",
       "      <td>...</td>\n",
       "      <td>...</td>\n",
       "      <td>...</td>\n",
       "    </tr>\n",
       "    <tr>\n",
       "      <th>550</th>\n",
       "      <td>D14</td>\n",
       "      <td>D14A3</td>\n",
       "      <td>EPI</td>\n",
       "      <td>GSM4050672</td>\n",
       "      <td>D14A3S29</td>\n",
       "    </tr>\n",
       "    <tr>\n",
       "      <th>551</th>\n",
       "      <td>D14</td>\n",
       "      <td>D14A3</td>\n",
       "      <td>EVT</td>\n",
       "      <td>GSM4050673</td>\n",
       "      <td>D14A3S30</td>\n",
       "    </tr>\n",
       "    <tr>\n",
       "      <th>552</th>\n",
       "      <td>D14</td>\n",
       "      <td>D14A3</td>\n",
       "      <td>CTB</td>\n",
       "      <td>GSM4050674</td>\n",
       "      <td>D14A3S5</td>\n",
       "    </tr>\n",
       "    <tr>\n",
       "      <th>553</th>\n",
       "      <td>D14</td>\n",
       "      <td>D14A3</td>\n",
       "      <td>EVT</td>\n",
       "      <td>GSM4050675</td>\n",
       "      <td>D14A3S7</td>\n",
       "    </tr>\n",
       "    <tr>\n",
       "      <th>554</th>\n",
       "      <td>D14</td>\n",
       "      <td>D14A3</td>\n",
       "      <td>EVT</td>\n",
       "      <td>GSM4050676</td>\n",
       "      <td>D14A3S8</td>\n",
       "    </tr>\n",
       "  </tbody>\n",
       "</table>\n",
       "<p>555 rows × 5 columns</p>\n",
       "</div>"
      ],
      "text/plain": [
       "     Day Embryo ID Group GEO_accession Sample_name\n",
       "0     D6      D6A1   ICM    GSM4050122      D6A1S1\n",
       "1     D6      D6A1   EPI    GSM4050123      D6A1S2\n",
       "2     D6      D6A1   ICM    GSM4050124      D6A1S3\n",
       "3     D6      D6A1   ICM    GSM4050125      D6A1S4\n",
       "4     D6      D6A1   ICM    GSM4050126      D6A1B1\n",
       "..   ...       ...   ...           ...         ...\n",
       "550  D14     D14A3   EPI    GSM4050672    D14A3S29\n",
       "551  D14     D14A3   EVT    GSM4050673    D14A3S30\n",
       "552  D14     D14A3   CTB    GSM4050674     D14A3S5\n",
       "553  D14     D14A3   EVT    GSM4050675     D14A3S7\n",
       "554  D14     D14A3   EVT    GSM4050676     D14A3S8\n",
       "\n",
       "[555 rows x 5 columns]"
      ]
     },
     "execution_count": 40,
     "metadata": {},
     "output_type": "execute_result"
    }
   ],
   "source": [
    "xiang_sample_annotation"
   ]
  },
  {
   "cell_type": "code",
   "execution_count": 41,
   "id": "8506a155-8419-4b4f-9ff8-843983073f4b",
   "metadata": {},
   "outputs": [],
   "source": [
    "xiang = xiang_h5ad.copy()"
   ]
  },
  {
   "cell_type": "code",
   "execution_count": 42,
   "id": "ec6fcdfd-144f-466d-84f8-dda5794a44b5",
   "metadata": {},
   "outputs": [],
   "source": [
    "xiang.obs = xiang_h5ad.obs.loc[:,['sample','sample_alias']].reset_index().merge(xiang_sample_annotation, left_on='sample_alias', right_on='GEO_accession').set_index('index')"
   ]
  },
  {
   "cell_type": "code",
   "execution_count": 43,
   "id": "7b00786a-4128-4363-825c-ce1aa9a3800d",
   "metadata": {},
   "outputs": [
    {
     "data": {
      "text/plain": [
       "AnnData object with n_obs × n_vars = 555 × 62754\n",
       "    obs: 'sample', 'sample_alias', 'Day', 'Embryo ID', 'Group', 'GEO_accession', 'Sample_name'\n",
       "    var: 'gene_symbol'"
      ]
     },
     "execution_count": 43,
     "metadata": {},
     "output_type": "execute_result"
    }
   ],
   "source": [
    "xiang"
   ]
  },
  {
   "cell_type": "code",
   "execution_count": 44,
   "id": "0a60d161-ea98-4f00-9c83-1bb9935f5ff6",
   "metadata": {},
   "outputs": [],
   "source": [
    "xiang_reannotation = xiang.obs"
   ]
  },
  {
   "cell_type": "code",
   "execution_count": 45,
   "id": "d4a52660-0784-4777-bb9c-e8600996b58c",
   "metadata": {},
   "outputs": [],
   "source": [
    "day_renaming = {\n",
    "    'D10':10,\n",
    "    'D12':12,\n",
    "    'D14':14,\n",
    "    'D6':6,\n",
    "    'D7':7,\n",
    "    'D8':8,\n",
    "    'D9':9,\n",
    "}\n",
    "\n",
    "group_renaming = {\n",
    "    'CTB':'Trophectoderm',\n",
    "    'EPI':'Epiblast',\n",
    "    'EVT':'Trophectoderm',\n",
    "    'ICM':'Inner Cell Mass',\n",
    "    'PSA-EPI':'PostImplantation-Epiblast',\n",
    "    'PrE':'Primitive Endoderm',\n",
    "    'STB':'Trophectoderm'\n",
    "}\n",
    "\n",
    "xiang_reannotation = xiang_reannotation.replace({'Day':day_renaming, 'Group': group_renaming})"
   ]
  },
  {
   "cell_type": "code",
   "execution_count": 46,
   "id": "e5222850-5fdf-48dd-b954-77679e1da7ae",
   "metadata": {},
   "outputs": [
    {
     "data": {
      "text/html": [
       "<div>\n",
       "<style scoped>\n",
       "    .dataframe tbody tr th:only-of-type {\n",
       "        vertical-align: middle;\n",
       "    }\n",
       "\n",
       "    .dataframe tbody tr th {\n",
       "        vertical-align: top;\n",
       "    }\n",
       "\n",
       "    .dataframe thead th {\n",
       "        text-align: right;\n",
       "    }\n",
       "</style>\n",
       "<table border=\"1\" class=\"dataframe\">\n",
       "  <thead>\n",
       "    <tr style=\"text-align: right;\">\n",
       "      <th></th>\n",
       "      <th>day</th>\n",
       "      <th>ct</th>\n",
       "      <th>experiment</th>\n",
       "      <th>technology</th>\n",
       "    </tr>\n",
       "    <tr>\n",
       "      <th>index</th>\n",
       "      <th></th>\n",
       "      <th></th>\n",
       "      <th></th>\n",
       "      <th></th>\n",
       "    </tr>\n",
       "  </thead>\n",
       "  <tbody>\n",
       "    <tr>\n",
       "      <th>SRX6774526_SRX6774526</th>\n",
       "      <td>12</td>\n",
       "      <td>Trophectoderm</td>\n",
       "      <td>Xiang_2020</td>\n",
       "      <td>SMARTSeq2</td>\n",
       "    </tr>\n",
       "    <tr>\n",
       "      <th>SRX6774449_SRX6774449</th>\n",
       "      <td>6</td>\n",
       "      <td>Epiblast</td>\n",
       "      <td>Xiang_2020</td>\n",
       "      <td>SMARTSeq2</td>\n",
       "    </tr>\n",
       "    <tr>\n",
       "      <th>SRX6774468_SRX6774468</th>\n",
       "      <td>6</td>\n",
       "      <td>Epiblast</td>\n",
       "      <td>Xiang_2020</td>\n",
       "      <td>SMARTSeq2</td>\n",
       "    </tr>\n",
       "    <tr>\n",
       "      <th>SRX6774508_SRX6774508</th>\n",
       "      <td>12</td>\n",
       "      <td>Trophectoderm</td>\n",
       "      <td>Xiang_2020</td>\n",
       "      <td>SMARTSeq2</td>\n",
       "    </tr>\n",
       "    <tr>\n",
       "      <th>SRX6774478_SRX6774478</th>\n",
       "      <td>10</td>\n",
       "      <td>Epiblast</td>\n",
       "      <td>Xiang_2020</td>\n",
       "      <td>SMARTSeq2</td>\n",
       "    </tr>\n",
       "  </tbody>\n",
       "</table>\n",
       "</div>"
      ],
      "text/plain": [
       "                       day             ct  experiment technology\n",
       "index                                                           \n",
       "SRX6774526_SRX6774526   12  Trophectoderm  Xiang_2020  SMARTSeq2\n",
       "SRX6774449_SRX6774449    6       Epiblast  Xiang_2020  SMARTSeq2\n",
       "SRX6774468_SRX6774468    6       Epiblast  Xiang_2020  SMARTSeq2\n",
       "SRX6774508_SRX6774508   12  Trophectoderm  Xiang_2020  SMARTSeq2\n",
       "SRX6774478_SRX6774478   10       Epiblast  Xiang_2020  SMARTSeq2"
      ]
     },
     "execution_count": 46,
     "metadata": {},
     "output_type": "execute_result"
    }
   ],
   "source": [
    "xiang_reannotation = xiang_reannotation[['Day', 'Group']].copy()\n",
    "xiang_reannotation.columns = ['day', 'ct']\n",
    "xiang_reannotation['experiment'] = 'Xiang_2020'\n",
    "xiang_reannotation['technology'] = 'SMARTSeq2'\n",
    "xiang_reannotation.head()"
   ]
  },
  {
   "cell_type": "code",
   "execution_count": 47,
   "id": "dcaaa809-834b-4ef4-8750-c61a3475caa6",
   "metadata": {},
   "outputs": [],
   "source": [
    "xiang.obs = xiang_reannotation"
   ]
  },
  {
   "cell_type": "code",
   "execution_count": 48,
   "id": "0b4fce95-3c3e-422a-a0c3-1e5a57d23929",
   "metadata": {},
   "outputs": [
    {
     "name": "stdout",
     "output_type": "stream",
     "text": [
      "SMART-SEQ: Normalization\n",
      "SMART-SEQ: Common genes 62663\n"
     ]
    },
    {
     "data": {
      "text/plain": [
       "AnnData object with n_obs × n_vars = 555 × 62663\n",
       "    obs: 'day', 'ct', 'experiment', 'technology'"
      ]
     },
     "execution_count": 48,
     "metadata": {},
     "output_type": "execute_result"
    }
   ],
   "source": [
    "normalize_smartseq(xiang, gene_lengths)"
   ]
  },
  {
   "cell_type": "code",
   "execution_count": 49,
   "id": "2380b820-27e4-4e78-b4b0-7f0dad2c18e5",
   "metadata": {},
   "outputs": [],
   "source": [
    "sc.pp.filter_cells(xiang, min_counts=10)\n",
    "sc.pp.filter_cells(xiang, min_genes=10)\n",
    "xiang.layers[\"counts\"] = xiang.X.copy()\n",
    "sc.pp.normalize_total(xiang, target_sum=10_000)\n",
    "sc.pp.log1p(xiang)\n",
    "xiang.raw = xiang"
   ]
  },
  {
   "cell_type": "markdown",
   "id": "05572605-4f56-40dc-99e9-651e44582e1c",
   "metadata": {},
   "source": [
    "## Yan 2013"
   ]
  },
  {
   "cell_type": "code",
   "execution_count": 50,
   "id": "6ea32e4f-c834-47d4-b562-2c9cb0b3d9b5",
   "metadata": {},
   "outputs": [],
   "source": [
    "yan_h5ad = sc.read_h5ad(\"../data/external/human/yan_2013_reprocessed.h5ad\")"
   ]
  },
  {
   "cell_type": "code",
   "execution_count": 51,
   "id": "0c788fab-fda7-4868-b491-71d680981c7c",
   "metadata": {},
   "outputs": [],
   "source": [
    "YAN_MATRIX_URL = \"https://ftp.ncbi.nlm.nih.gov/geo/series/GSE36nnn/GSE36552/matrix/GSE36552_series_matrix.txt.gz\"\n",
    "yan_metadata = pd.read_table(YAN_MATRIX_URL, skiprows=52, index_col = 0).T\n",
    "yan_annotations = metadata = pd.read_csv(\"../data/external/human/Meistermann_et_al_2021/sampleAnnot.tsv\", index_col=0, sep=\"\\t\")\n",
    "yan_annotations = yan_annotations[yan_annotations.Dataset == 'Yan2013'].copy()\n",
    "yan_metadata = yan_metadata[~yan_metadata.index.str.contains('hESC')].copy()\n",
    "yan_metadata['SampleNames'] = yan_metadata.index.values\n",
    "\n",
    "yan_metadata['SampleNames'] = yan_metadata['SampleNames'].str.replace(\"#\",\".\")\n",
    "yan_metadata['SampleNames'] = yan_metadata['SampleNames'].str.replace(\" -Cell\", \"\")\n",
    "yan_metadata['SampleNames'] = yan_metadata['SampleNames'].str.replace(\"Late blastocyst \", \"lateBlasto\")\n",
    "yan_metadata['SampleNames'] = yan_metadata['SampleNames'].str.replace(\"Morulae \", \"Morula\")\n",
    "yan_metadata['SampleNames'] = yan_metadata['SampleNames'].str.replace(\"Oocyte \", \"Oocyte\")\n",
    "yan_metadata['SampleNames'] = yan_metadata['SampleNames'].str.replace(\"Zygote \", \"Zygote\")\n",
    "yan_metadata['SampleNames'] = yan_metadata['SampleNames'].str.replace(\"2-cell embryo\", \"e2C\")\n",
    "yan_metadata['SampleNames'] = yan_metadata['SampleNames'].str.replace(\"4-cell embryo\", \"e4C\")\n",
    "yan_metadata['SampleNames'] = yan_metadata['SampleNames'].str.replace(\"8-cell embryo\", \"e8C\")\n",
    "\n",
    "yan_metadata = yan_metadata.loc[:,['!Sample_geo_accession','SampleNames']].copy()\n",
    "yan_metadata.columns = ['Geo_accession', 'SampleNames']\n",
    "yan_annotations = yan_annotations.merge(yan_metadata, left_index = True, right_on='SampleNames', how = 'right')"
   ]
  },
  {
   "cell_type": "code",
   "execution_count": 52,
   "id": "91ed92b7-127c-4162-903a-fa1e6078a89f",
   "metadata": {},
   "outputs": [],
   "source": [
    "yan = yan_h5ad.copy()"
   ]
  },
  {
   "cell_type": "code",
   "execution_count": 53,
   "id": "cfee2538-bd8d-4067-b2f4-8ff8c4874714",
   "metadata": {},
   "outputs": [],
   "source": [
    "yan.obs = yan_h5ad.obs.loc[:,['sample','sample_alias']].reset_index().merge(yan_annotations, left_on='sample_alias', right_on='Geo_accession').set_index('index')"
   ]
  },
  {
   "cell_type": "markdown",
   "id": "0f408a1a-9793-4e3f-b7a5-8de0b6ee7cc0",
   "metadata": {},
   "source": [
    "The Yan 2013 data is encoded by stage (Oocyte, Zygote, etc). To convert to Embryonic day, the samples were encoded as follows:\n",
    "\n",
    "- Zygote --> E0.75; Collected 17h post-IVF\n",
    "- e2C --> E1.25; Collected 27h post-IVF\n",
    "- e4C --> E2.0; Collected 48h post-IVF\n",
    "- e8C --> E3.0"
   ]
  },
  {
   "cell_type": "code",
   "execution_count": 54,
   "id": "df8e67c9-e19f-4758-8174-f1cf675e3ca1",
   "metadata": {},
   "outputs": [],
   "source": [
    "yan_reannotation = yan.obs"
   ]
  },
  {
   "cell_type": "code",
   "execution_count": 55,
   "id": "5df6b841-7dc4-49d2-a88a-eb6d408ff5a8",
   "metadata": {},
   "outputs": [],
   "source": [
    "yan_reannotation.loc[yan_reannotation['SampleNames'].str.contains('Oocyte'),['EmbryoDay','clusterUmap', 'Stirparo.lineage']] = [0,'Oocyte','Oocyte']\n",
    "yan_reannotation.loc[yan_reannotation['SampleNames'].str.contains('Zygote'),['EmbryoDay','clusterUmap', 'Stirparo.lineage']] = [0.75, 'Zygote', 'Zygote']\n",
    "yan_reannotation.loc[yan_reannotation['SampleNames'].str.contains('e2C'),['EmbryoDay','clusterUmap', 'Stirparo.lineage']] = [1.25, '2C', '2C']\n",
    "yan_reannotation.loc[yan_reannotation['SampleNames'].str.contains('e4C'),['EmbryoDay','clusterUmap', 'Stirparo.lineage']] = [2.0, '4C', '4C']\n",
    "yan_reannotation.loc[yan_reannotation['SampleNames'].str.contains('e8C'),['EmbryoDay','clusterUmap', 'Stirparo.lineage']] = [3.0, '8C', '8C']\n",
    "yan_reannotation.loc[yan_reannotation['SampleNames'].str.contains('Morula'),['clusterUmap', 'Stirparo.lineage']] = ['Morula', 'Morula']\n",
    "\n",
    "clusterUmap_renaming = {\n",
    "    'early_TE': 'Trophectoderm',\n",
    "    'late_TE': 'Trophectoderm',\n",
    "    'medium_TE':'Trophectoderm',\n",
    "    'EPI':'Epiblast',\n",
    "    'PrE':'Primitive Endoderm',\n",
    "    'PrE.TE':'Unknown',\n",
    "    'B1.EPI':'Unknown',\n",
    "    'EPI.PrE': 'Unknown',\n",
    "    'EPI.PrE.TE':'Unknown',\n",
    "    'EPI.early_TE':'Unknown',\n",
    "    'B1_B2':'Blastocyst',\n",
    "    'EightCells': '8C',\n",
    "    'Morula': 'Morula',\n",
    "}\n",
    "yan_reannotation = yan_reannotation.replace({\n",
    "    'clusterUmap':clusterUmap_renaming\n",
    "})\n",
    "\n",
    "stirparoLineage_renaming = {\n",
    "    'EPI':'Epiblast',\n",
    "    'prE':'Primitive Endoderm',\n",
    "    'ICM':'Inner Cell Mass',\n",
    "    'TE': 'Trophectoderm',\n",
    "    'intermediate': 'Unknown',\n",
    "    'undefined': 'Unknown'\n",
    "}\n",
    "yan_reannotation = yan_reannotation.replace({\n",
    "    'Stirparo.lineage':stirparoLineage_renaming\n",
    "})\n",
    "\n",
    "yan_reannotation.loc[yan_reannotation['Stirparo.lineage'].isna(),['Stirparo.lineage']] = 'Unknown'"
   ]
  },
  {
   "cell_type": "code",
   "execution_count": 56,
   "id": "e9aad6f1-ca32-4a4e-88f4-3422f9aaacd6",
   "metadata": {},
   "outputs": [
    {
     "data": {
      "text/html": [
       "<div>\n",
       "<style scoped>\n",
       "    .dataframe tbody tr th:only-of-type {\n",
       "        vertical-align: middle;\n",
       "    }\n",
       "\n",
       "    .dataframe tbody tr th {\n",
       "        vertical-align: top;\n",
       "    }\n",
       "\n",
       "    .dataframe thead th {\n",
       "        text-align: right;\n",
       "    }\n",
       "</style>\n",
       "<table border=\"1\" class=\"dataframe\">\n",
       "  <thead>\n",
       "    <tr style=\"text-align: right;\">\n",
       "      <th></th>\n",
       "      <th>sample</th>\n",
       "      <th>sample_alias</th>\n",
       "      <th>Embryo</th>\n",
       "      <th>Branches</th>\n",
       "      <th>EmbryoDay</th>\n",
       "      <th>Stage</th>\n",
       "      <th>BlastoDissectionSide</th>\n",
       "      <th>Dataset</th>\n",
       "      <th>Treatment</th>\n",
       "      <th>Stirparo.lineage</th>\n",
       "      <th>Author.lineage</th>\n",
       "      <th>Pseudotime</th>\n",
       "      <th>totalCounts</th>\n",
       "      <th>totalGenesExpr</th>\n",
       "      <th>clusterUmap</th>\n",
       "      <th>Geo_accession</th>\n",
       "      <th>SampleNames</th>\n",
       "    </tr>\n",
       "    <tr>\n",
       "      <th>index</th>\n",
       "      <th></th>\n",
       "      <th></th>\n",
       "      <th></th>\n",
       "      <th></th>\n",
       "      <th></th>\n",
       "      <th></th>\n",
       "      <th></th>\n",
       "      <th></th>\n",
       "      <th></th>\n",
       "      <th></th>\n",
       "      <th></th>\n",
       "      <th></th>\n",
       "      <th></th>\n",
       "      <th></th>\n",
       "      <th></th>\n",
       "      <th></th>\n",
       "      <th></th>\n",
       "    </tr>\n",
       "  </thead>\n",
       "  <tbody>\n",
       "    <tr>\n",
       "      <th>SRX144398_SRX144398</th>\n",
       "      <td>SRX144398</td>\n",
       "      <td>GSM922204</td>\n",
       "      <td>lateBlasto.1</td>\n",
       "      <td>4.Inner cell mass</td>\n",
       "      <td>6.0</td>\n",
       "      <td>B</td>\n",
       "      <td>NaN</td>\n",
       "      <td>Yan2013</td>\n",
       "      <td>NO</td>\n",
       "      <td>Trophectoderm</td>\n",
       "      <td>TE</td>\n",
       "      <td>32.314831</td>\n",
       "      <td>11403434.0</td>\n",
       "      <td>12724.0</td>\n",
       "      <td>Trophectoderm</td>\n",
       "      <td>GSM922204</td>\n",
       "      <td>lateBlasto.1.11</td>\n",
       "    </tr>\n",
       "    <tr>\n",
       "      <th>SRX144343_SRX144343</th>\n",
       "      <td>SRX144343</td>\n",
       "      <td>GSM922149</td>\n",
       "      <td>NaN</td>\n",
       "      <td>NaN</td>\n",
       "      <td>2.0</td>\n",
       "      <td>NaN</td>\n",
       "      <td>NaN</td>\n",
       "      <td>NaN</td>\n",
       "      <td>NaN</td>\n",
       "      <td>4C</td>\n",
       "      <td>NaN</td>\n",
       "      <td>NaN</td>\n",
       "      <td>NaN</td>\n",
       "      <td>NaN</td>\n",
       "      <td>4C</td>\n",
       "      <td>GSM922149</td>\n",
       "      <td>e4C.1.4</td>\n",
       "    </tr>\n",
       "    <tr>\n",
       "      <th>SRX144359_SRX144359</th>\n",
       "      <td>SRX144359</td>\n",
       "      <td>GSM922165</td>\n",
       "      <td>8C.2</td>\n",
       "      <td>1.Pre-morula</td>\n",
       "      <td>3.0</td>\n",
       "      <td>8C</td>\n",
       "      <td>NaN</td>\n",
       "      <td>Yan2013</td>\n",
       "      <td>NO</td>\n",
       "      <td>8C</td>\n",
       "      <td>NaN</td>\n",
       "      <td>2.626271</td>\n",
       "      <td>18039226.0</td>\n",
       "      <td>16018.0</td>\n",
       "      <td>8C</td>\n",
       "      <td>GSM922165</td>\n",
       "      <td>e8C.2.4</td>\n",
       "    </tr>\n",
       "    <tr>\n",
       "      <th>SRX144408_SRX144408</th>\n",
       "      <td>SRX144408</td>\n",
       "      <td>GSM922214</td>\n",
       "      <td>lateBlasto.2</td>\n",
       "      <td>4.Inner cell mass</td>\n",
       "      <td>6.0</td>\n",
       "      <td>B</td>\n",
       "      <td>NaN</td>\n",
       "      <td>Yan2013</td>\n",
       "      <td>NO</td>\n",
       "      <td>Trophectoderm</td>\n",
       "      <td>TE</td>\n",
       "      <td>35.919631</td>\n",
       "      <td>21209246.0</td>\n",
       "      <td>12577.0</td>\n",
       "      <td>Unknown</td>\n",
       "      <td>GSM922214</td>\n",
       "      <td>lateBlasto.2.9</td>\n",
       "    </tr>\n",
       "    <tr>\n",
       "      <th>SRX144361_SRX144361</th>\n",
       "      <td>SRX144361</td>\n",
       "      <td>GSM922167</td>\n",
       "      <td>8C.2</td>\n",
       "      <td>1.Pre-morula</td>\n",
       "      <td>3.0</td>\n",
       "      <td>8C</td>\n",
       "      <td>NaN</td>\n",
       "      <td>Yan2013</td>\n",
       "      <td>NO</td>\n",
       "      <td>8C</td>\n",
       "      <td>NaN</td>\n",
       "      <td>0.329333</td>\n",
       "      <td>17166536.0</td>\n",
       "      <td>17739.0</td>\n",
       "      <td>8C</td>\n",
       "      <td>GSM922167</td>\n",
       "      <td>e8C.2.6</td>\n",
       "    </tr>\n",
       "  </tbody>\n",
       "</table>\n",
       "</div>"
      ],
      "text/plain": [
       "                        sample sample_alias        Embryo           Branches  \\\n",
       "index                                                                          \n",
       "SRX144398_SRX144398  SRX144398    GSM922204  lateBlasto.1  4.Inner cell mass   \n",
       "SRX144343_SRX144343  SRX144343    GSM922149           NaN                NaN   \n",
       "SRX144359_SRX144359  SRX144359    GSM922165          8C.2       1.Pre-morula   \n",
       "SRX144408_SRX144408  SRX144408    GSM922214  lateBlasto.2  4.Inner cell mass   \n",
       "SRX144361_SRX144361  SRX144361    GSM922167          8C.2       1.Pre-morula   \n",
       "\n",
       "                     EmbryoDay Stage BlastoDissectionSide  Dataset Treatment  \\\n",
       "index                                                                          \n",
       "SRX144398_SRX144398        6.0     B                  NaN  Yan2013        NO   \n",
       "SRX144343_SRX144343        2.0   NaN                  NaN      NaN       NaN   \n",
       "SRX144359_SRX144359        3.0    8C                  NaN  Yan2013        NO   \n",
       "SRX144408_SRX144408        6.0     B                  NaN  Yan2013        NO   \n",
       "SRX144361_SRX144361        3.0    8C                  NaN  Yan2013        NO   \n",
       "\n",
       "                    Stirparo.lineage Author.lineage  Pseudotime  totalCounts  \\\n",
       "index                                                                          \n",
       "SRX144398_SRX144398    Trophectoderm             TE   32.314831   11403434.0   \n",
       "SRX144343_SRX144343               4C            NaN         NaN          NaN   \n",
       "SRX144359_SRX144359               8C            NaN    2.626271   18039226.0   \n",
       "SRX144408_SRX144408    Trophectoderm             TE   35.919631   21209246.0   \n",
       "SRX144361_SRX144361               8C            NaN    0.329333   17166536.0   \n",
       "\n",
       "                     totalGenesExpr    clusterUmap Geo_accession  \\\n",
       "index                                                              \n",
       "SRX144398_SRX144398         12724.0  Trophectoderm     GSM922204   \n",
       "SRX144343_SRX144343             NaN             4C     GSM922149   \n",
       "SRX144359_SRX144359         16018.0             8C     GSM922165   \n",
       "SRX144408_SRX144408         12577.0        Unknown     GSM922214   \n",
       "SRX144361_SRX144361         17739.0             8C     GSM922167   \n",
       "\n",
       "                         SampleNames  \n",
       "index                                 \n",
       "SRX144398_SRX144398  lateBlasto.1.11  \n",
       "SRX144343_SRX144343          e4C.1.4  \n",
       "SRX144359_SRX144359          e8C.2.4  \n",
       "SRX144408_SRX144408   lateBlasto.2.9  \n",
       "SRX144361_SRX144361          e8C.2.6  "
      ]
     },
     "execution_count": 56,
     "metadata": {},
     "output_type": "execute_result"
    }
   ],
   "source": [
    "yan_reannotation.head()"
   ]
  },
  {
   "cell_type": "code",
   "execution_count": 57,
   "id": "6cdced07-da47-4c65-bb0e-03b05e037921",
   "metadata": {},
   "outputs": [
    {
     "data": {
      "text/html": [
       "<div>\n",
       "<style scoped>\n",
       "    .dataframe tbody tr th:only-of-type {\n",
       "        vertical-align: middle;\n",
       "    }\n",
       "\n",
       "    .dataframe tbody tr th {\n",
       "        vertical-align: top;\n",
       "    }\n",
       "\n",
       "    .dataframe thead th {\n",
       "        text-align: right;\n",
       "    }\n",
       "</style>\n",
       "<table border=\"1\" class=\"dataframe\">\n",
       "  <thead>\n",
       "    <tr style=\"text-align: right;\">\n",
       "      <th></th>\n",
       "      <th>day</th>\n",
       "      <th>ct</th>\n",
       "      <th>experiment</th>\n",
       "      <th>technology</th>\n",
       "    </tr>\n",
       "    <tr>\n",
       "      <th>index</th>\n",
       "      <th></th>\n",
       "      <th></th>\n",
       "      <th></th>\n",
       "      <th></th>\n",
       "    </tr>\n",
       "  </thead>\n",
       "  <tbody>\n",
       "    <tr>\n",
       "      <th>SRX144398_SRX144398</th>\n",
       "      <td>6.0</td>\n",
       "      <td>Trophectoderm</td>\n",
       "      <td>Yan_2013</td>\n",
       "      <td>SMARTSeq</td>\n",
       "    </tr>\n",
       "    <tr>\n",
       "      <th>SRX144343_SRX144343</th>\n",
       "      <td>2.0</td>\n",
       "      <td>4C</td>\n",
       "      <td>Yan_2013</td>\n",
       "      <td>SMARTSeq</td>\n",
       "    </tr>\n",
       "    <tr>\n",
       "      <th>SRX144359_SRX144359</th>\n",
       "      <td>3.0</td>\n",
       "      <td>8C</td>\n",
       "      <td>Yan_2013</td>\n",
       "      <td>SMARTSeq</td>\n",
       "    </tr>\n",
       "    <tr>\n",
       "      <th>SRX144408_SRX144408</th>\n",
       "      <td>6.0</td>\n",
       "      <td>Trophectoderm</td>\n",
       "      <td>Yan_2013</td>\n",
       "      <td>SMARTSeq</td>\n",
       "    </tr>\n",
       "    <tr>\n",
       "      <th>SRX144361_SRX144361</th>\n",
       "      <td>3.0</td>\n",
       "      <td>8C</td>\n",
       "      <td>Yan_2013</td>\n",
       "      <td>SMARTSeq</td>\n",
       "    </tr>\n",
       "  </tbody>\n",
       "</table>\n",
       "</div>"
      ],
      "text/plain": [
       "                     day             ct experiment technology\n",
       "index                                                        \n",
       "SRX144398_SRX144398  6.0  Trophectoderm   Yan_2013   SMARTSeq\n",
       "SRX144343_SRX144343  2.0             4C   Yan_2013   SMARTSeq\n",
       "SRX144359_SRX144359  3.0             8C   Yan_2013   SMARTSeq\n",
       "SRX144408_SRX144408  6.0  Trophectoderm   Yan_2013   SMARTSeq\n",
       "SRX144361_SRX144361  3.0             8C   Yan_2013   SMARTSeq"
      ]
     },
     "execution_count": 57,
     "metadata": {},
     "output_type": "execute_result"
    }
   ],
   "source": [
    "yan_reannotation = yan_reannotation[['EmbryoDay', 'Stirparo.lineage']].copy()\n",
    "yan_reannotation.columns = ['day','ct']\n",
    "yan_reannotation['experiment'] = 'Yan_2013'\n",
    "yan_reannotation['technology'] = 'SMARTSeq'\n",
    "yan_reannotation.head()"
   ]
  },
  {
   "cell_type": "code",
   "execution_count": 58,
   "id": "197fe622-a5c2-47ca-a0c6-92ebd97543fd",
   "metadata": {},
   "outputs": [],
   "source": [
    "yan.obs = yan_reannotation"
   ]
  },
  {
   "cell_type": "code",
   "execution_count": 59,
   "id": "8f8549e5-555a-4238-9491-c51bbcebba93",
   "metadata": {},
   "outputs": [
    {
     "name": "stdout",
     "output_type": "stream",
     "text": [
      "SMART-SEQ: Normalization\n",
      "SMART-SEQ: Common genes 62663\n"
     ]
    },
    {
     "data": {
      "text/plain": [
       "AnnData object with n_obs × n_vars = 90 × 62663\n",
       "    obs: 'day', 'ct', 'experiment', 'technology'"
      ]
     },
     "execution_count": 59,
     "metadata": {},
     "output_type": "execute_result"
    }
   ],
   "source": [
    "normalize_smartseq(yan, gene_lengths)"
   ]
  },
  {
   "cell_type": "code",
   "execution_count": 60,
   "id": "77d82bfa-19d0-4636-b132-18442fdcbd48",
   "metadata": {},
   "outputs": [],
   "source": [
    "sc.pp.filter_cells(yan, min_counts=10)\n",
    "sc.pp.filter_cells(yan, min_genes=10)\n",
    "yan.layers[\"counts\"] = yan.X.copy()\n",
    "sc.pp.normalize_total(yan, target_sum=10_000)\n",
    "sc.pp.log1p(yan)\n",
    "yan.raw = yan"
   ]
  },
  {
   "cell_type": "markdown",
   "id": "f7a7574d-3abe-4450-908f-1a8dc229cf0d",
   "metadata": {},
   "source": [
    "## Yanagida 2021"
   ]
  },
  {
   "cell_type": "code",
   "execution_count": 61,
   "id": "9f65f5c0-ec64-4a0c-8fe2-ce923275c976",
   "metadata": {},
   "outputs": [],
   "source": [
    "yanagida_h5ad = sc.read_h5ad(\"../data/external/human/yanagida_2021_reprocessed.h5ad\")"
   ]
  },
  {
   "cell_type": "code",
   "execution_count": 62,
   "id": "d25f6ec5-3c1c-4a53-a1a2-dda40ba660e8",
   "metadata": {},
   "outputs": [],
   "source": [
    "YANAGIDA_URL = 'https://ftp.ncbi.nlm.nih.gov/geo/series/GSE171nnn/GSE171820/matrix/GSE171820_series_matrix.txt.gz'\n",
    "yanagida_metadata = pd.read_table(YANAGIDA_URL, skiprows=30, index_col = 0).T\n",
    "yanagida_metadata = yanagida_metadata[yanagida_metadata['!Sample_source_name_ch1'] != 'Blastoid'].copy()\n",
    "yanagida_metadata['lineage'] = yanagida_metadata[['!Sample_characteristics_ch1']].agg(' '.join, axis=1).str.extract(\"lineage: (.*) polar_mural\")\n",
    "yanagida_metadata['day'] = yanagida_metadata[['!Sample_characteristics_ch1']].agg(' '.join, axis=1).str.extract(\"time point: Embryonic day ([0-9]{1})\")\n",
    "yanagida_metadata['side'] = yanagida_metadata[['!Sample_characteristics_ch1']].agg(' '.join, axis=1).str.extract(\"polar_mural: ([a-z]*)\")\n",
    "yanagida_metadata = yanagida_metadata[['lineage','day','side']].copy()\n",
    "yanagida_metadata['Geo_accession'] = yanagida_metadata.index.values\n"
   ]
  },
  {
   "cell_type": "code",
   "execution_count": 63,
   "id": "c43146d7-a75e-4054-af9f-bb8631dcf7c8",
   "metadata": {},
   "outputs": [],
   "source": [
    "yanagida = yanagida_h5ad.copy()"
   ]
  },
  {
   "cell_type": "code",
   "execution_count": 64,
   "id": "ce439d2f-dc81-4a30-a1e9-102df1ec71ae",
   "metadata": {},
   "outputs": [
    {
     "data": {
      "text/html": [
       "<div>\n",
       "<style scoped>\n",
       "    .dataframe tbody tr th:only-of-type {\n",
       "        vertical-align: middle;\n",
       "    }\n",
       "\n",
       "    .dataframe tbody tr th {\n",
       "        vertical-align: top;\n",
       "    }\n",
       "\n",
       "    .dataframe thead th {\n",
       "        text-align: right;\n",
       "    }\n",
       "</style>\n",
       "<table border=\"1\" class=\"dataframe\">\n",
       "  <thead>\n",
       "    <tr style=\"text-align: right;\">\n",
       "      <th>!Sample_geo_accession</th>\n",
       "      <th>lineage</th>\n",
       "      <th>day</th>\n",
       "      <th>side</th>\n",
       "      <th>Geo_accession</th>\n",
       "    </tr>\n",
       "  </thead>\n",
       "  <tbody>\n",
       "    <tr>\n",
       "      <th>GSM5234744</th>\n",
       "      <td>Trophectoderm</td>\n",
       "      <td>7</td>\n",
       "      <td>polar</td>\n",
       "      <td>GSM5234744</td>\n",
       "    </tr>\n",
       "    <tr>\n",
       "      <th>GSM5234745</th>\n",
       "      <td>Trophectoderm</td>\n",
       "      <td>7</td>\n",
       "      <td>polar</td>\n",
       "      <td>GSM5234745</td>\n",
       "    </tr>\n",
       "    <tr>\n",
       "      <th>GSM5234746</th>\n",
       "      <td>Trophectoderm</td>\n",
       "      <td>7</td>\n",
       "      <td>polar</td>\n",
       "      <td>GSM5234746</td>\n",
       "    </tr>\n",
       "    <tr>\n",
       "      <th>GSM5234747</th>\n",
       "      <td>Epiblast</td>\n",
       "      <td>6</td>\n",
       "      <td>polar</td>\n",
       "      <td>GSM5234747</td>\n",
       "    </tr>\n",
       "    <tr>\n",
       "      <th>GSM5234748</th>\n",
       "      <td>Epiblast</td>\n",
       "      <td>6</td>\n",
       "      <td>polar</td>\n",
       "      <td>GSM5234748</td>\n",
       "    </tr>\n",
       "    <tr>\n",
       "      <th>...</th>\n",
       "      <td>...</td>\n",
       "      <td>...</td>\n",
       "      <td>...</td>\n",
       "      <td>...</td>\n",
       "    </tr>\n",
       "    <tr>\n",
       "      <th>GSM5235116</th>\n",
       "      <td>Trophectoderm</td>\n",
       "      <td>6</td>\n",
       "      <td>polar</td>\n",
       "      <td>GSM5235116</td>\n",
       "    </tr>\n",
       "    <tr>\n",
       "      <th>GSM5235117</th>\n",
       "      <td>Trophectoderm</td>\n",
       "      <td>6</td>\n",
       "      <td>polar</td>\n",
       "      <td>GSM5235117</td>\n",
       "    </tr>\n",
       "    <tr>\n",
       "      <th>GSM5235118</th>\n",
       "      <td>Trophectoderm</td>\n",
       "      <td>6</td>\n",
       "      <td>polar</td>\n",
       "      <td>GSM5235118</td>\n",
       "    </tr>\n",
       "    <tr>\n",
       "      <th>GSM5235119</th>\n",
       "      <td>Trophectoderm</td>\n",
       "      <td>6</td>\n",
       "      <td>mural</td>\n",
       "      <td>GSM5235119</td>\n",
       "    </tr>\n",
       "    <tr>\n",
       "      <th>GSM5235128</th>\n",
       "      <td>Trophectoderm</td>\n",
       "      <td>6</td>\n",
       "      <td>mural</td>\n",
       "      <td>GSM5235128</td>\n",
       "    </tr>\n",
       "  </tbody>\n",
       "</table>\n",
       "<p>228 rows × 4 columns</p>\n",
       "</div>"
      ],
      "text/plain": [
       "!Sample_geo_accession        lineage day   side Geo_accession\n",
       "GSM5234744             Trophectoderm   7  polar    GSM5234744\n",
       "GSM5234745             Trophectoderm   7  polar    GSM5234745\n",
       "GSM5234746             Trophectoderm   7  polar    GSM5234746\n",
       "GSM5234747                  Epiblast   6  polar    GSM5234747\n",
       "GSM5234748                  Epiblast   6  polar    GSM5234748\n",
       "...                              ...  ..    ...           ...\n",
       "GSM5235116             Trophectoderm   6  polar    GSM5235116\n",
       "GSM5235117             Trophectoderm   6  polar    GSM5235117\n",
       "GSM5235118             Trophectoderm   6  polar    GSM5235118\n",
       "GSM5235119             Trophectoderm   6  mural    GSM5235119\n",
       "GSM5235128             Trophectoderm   6  mural    GSM5235128\n",
       "\n",
       "[228 rows x 4 columns]"
      ]
     },
     "execution_count": 64,
     "metadata": {},
     "output_type": "execute_result"
    }
   ],
   "source": [
    "yanagida_metadata"
   ]
  },
  {
   "cell_type": "code",
   "execution_count": 65,
   "id": "73f2aec6-1322-4dee-b079-84c95c2a4444",
   "metadata": {},
   "outputs": [],
   "source": [
    "yanagida.obs = yanagida_h5ad.obs.loc[:,['sample','sample_alias']].reset_index().merge(yanagida_metadata, left_on='sample_alias', right_on='Geo_accession').set_index('index')"
   ]
  },
  {
   "cell_type": "code",
   "execution_count": 66,
   "id": "86dcdbd8-eaeb-4007-b605-ba092a8233f5",
   "metadata": {},
   "outputs": [],
   "source": [
    "yanagida_reannotation = yanagida.obs[['lineage','day']]"
   ]
  },
  {
   "cell_type": "code",
   "execution_count": 67,
   "id": "6784cd5f-a3dd-435a-8a30-2314f90e6a69",
   "metadata": {},
   "outputs": [
    {
     "data": {
      "text/html": [
       "<div>\n",
       "<style scoped>\n",
       "    .dataframe tbody tr th:only-of-type {\n",
       "        vertical-align: middle;\n",
       "    }\n",
       "\n",
       "    .dataframe tbody tr th {\n",
       "        vertical-align: top;\n",
       "    }\n",
       "\n",
       "    .dataframe thead th {\n",
       "        text-align: right;\n",
       "    }\n",
       "</style>\n",
       "<table border=\"1\" class=\"dataframe\">\n",
       "  <thead>\n",
       "    <tr style=\"text-align: right;\">\n",
       "      <th></th>\n",
       "      <th>lineage</th>\n",
       "      <th>day</th>\n",
       "    </tr>\n",
       "    <tr>\n",
       "      <th>index</th>\n",
       "      <th></th>\n",
       "      <th></th>\n",
       "    </tr>\n",
       "  </thead>\n",
       "  <tbody>\n",
       "    <tr>\n",
       "      <th>SRX10567995_SRX10567995</th>\n",
       "      <td>Trophectoderm</td>\n",
       "      <td>6</td>\n",
       "    </tr>\n",
       "    <tr>\n",
       "      <th>SRX10567984_SRX10567984</th>\n",
       "      <td>Trophectoderm</td>\n",
       "      <td>6</td>\n",
       "    </tr>\n",
       "    <tr>\n",
       "      <th>SRX10568025_SRX10568025</th>\n",
       "      <td>Trophectoderm</td>\n",
       "      <td>6</td>\n",
       "    </tr>\n",
       "    <tr>\n",
       "      <th>SRX10567983_SRX10567983</th>\n",
       "      <td>Trophectoderm</td>\n",
       "      <td>6</td>\n",
       "    </tr>\n",
       "    <tr>\n",
       "      <th>SRX10567987_SRX10567987</th>\n",
       "      <td>Trophectoderm</td>\n",
       "      <td>7</td>\n",
       "    </tr>\n",
       "    <tr>\n",
       "      <th>...</th>\n",
       "      <td>...</td>\n",
       "      <td>...</td>\n",
       "    </tr>\n",
       "    <tr>\n",
       "      <th>SRX10568348_SRX10568348</th>\n",
       "      <td>Trophectoderm</td>\n",
       "      <td>6</td>\n",
       "    </tr>\n",
       "    <tr>\n",
       "      <th>SRX10568337_SRX10568337</th>\n",
       "      <td>Trophectoderm</td>\n",
       "      <td>6</td>\n",
       "    </tr>\n",
       "    <tr>\n",
       "      <th>SRX10568339_SRX10568339</th>\n",
       "      <td>Trophectoderm</td>\n",
       "      <td>6</td>\n",
       "    </tr>\n",
       "    <tr>\n",
       "      <th>SRX10568338_SRX10568338</th>\n",
       "      <td>Trophectoderm</td>\n",
       "      <td>6</td>\n",
       "    </tr>\n",
       "    <tr>\n",
       "      <th>SRX10568336_SRX10568336</th>\n",
       "      <td>Trophectoderm</td>\n",
       "      <td>6</td>\n",
       "    </tr>\n",
       "  </tbody>\n",
       "</table>\n",
       "<p>228 rows × 2 columns</p>\n",
       "</div>"
      ],
      "text/plain": [
       "                               lineage day\n",
       "index                                     \n",
       "SRX10567995_SRX10567995  Trophectoderm   6\n",
       "SRX10567984_SRX10567984  Trophectoderm   6\n",
       "SRX10568025_SRX10568025  Trophectoderm   6\n",
       "SRX10567983_SRX10567983  Trophectoderm   6\n",
       "SRX10567987_SRX10567987  Trophectoderm   7\n",
       "...                                ...  ..\n",
       "SRX10568348_SRX10568348  Trophectoderm   6\n",
       "SRX10568337_SRX10568337  Trophectoderm   6\n",
       "SRX10568339_SRX10568339  Trophectoderm   6\n",
       "SRX10568338_SRX10568338  Trophectoderm   6\n",
       "SRX10568336_SRX10568336  Trophectoderm   6\n",
       "\n",
       "[228 rows x 2 columns]"
      ]
     },
     "execution_count": 67,
     "metadata": {},
     "output_type": "execute_result"
    }
   ],
   "source": [
    "yanagida_reannotation"
   ]
  },
  {
   "cell_type": "code",
   "execution_count": 68,
   "id": "ab5d61b9-5d33-4c7b-aba4-b1161c1dd08e",
   "metadata": {},
   "outputs": [
    {
     "data": {
      "text/plain": [
       "array(['Trophectoderm', 'Epiblast', 'Unknown', 'Early Trophectoderm',\n",
       "       'Inner Cell Mass', 'Inner Cell Mass-Trophectoderm Transition',\n",
       "       'Primitive Endoderm'], dtype=object)"
      ]
     },
     "execution_count": 68,
     "metadata": {},
     "output_type": "execute_result"
    }
   ],
   "source": [
    "yanagida_reannotation.lineage.unique()"
   ]
  },
  {
   "cell_type": "code",
   "execution_count": 69,
   "id": "8b512b92-ea10-479e-a328-830de1ab5777",
   "metadata": {},
   "outputs": [],
   "source": [
    "lineage_renaming = {\n",
    "    'Early Trophectoderm': 'Trophectoderm',\n",
    "    'Inner Cell Mass-Trophectoderm Transition': 'Unknown',\n",
    "}\n",
    "yanagida_reannotation = yanagida_reannotation.replace({'lineage':lineage_renaming})"
   ]
  },
  {
   "cell_type": "code",
   "execution_count": 70,
   "id": "72ab87d7-5958-4aaf-bbca-f0d4cfb05b85",
   "metadata": {},
   "outputs": [
    {
     "data": {
      "text/html": [
       "<div>\n",
       "<style scoped>\n",
       "    .dataframe tbody tr th:only-of-type {\n",
       "        vertical-align: middle;\n",
       "    }\n",
       "\n",
       "    .dataframe tbody tr th {\n",
       "        vertical-align: top;\n",
       "    }\n",
       "\n",
       "    .dataframe thead th {\n",
       "        text-align: right;\n",
       "    }\n",
       "</style>\n",
       "<table border=\"1\" class=\"dataframe\">\n",
       "  <thead>\n",
       "    <tr style=\"text-align: right;\">\n",
       "      <th></th>\n",
       "      <th>day</th>\n",
       "      <th>ct</th>\n",
       "      <th>experiment</th>\n",
       "      <th>technology</th>\n",
       "    </tr>\n",
       "    <tr>\n",
       "      <th>index</th>\n",
       "      <th></th>\n",
       "      <th></th>\n",
       "      <th></th>\n",
       "      <th></th>\n",
       "    </tr>\n",
       "  </thead>\n",
       "  <tbody>\n",
       "    <tr>\n",
       "      <th>SRX10567995_SRX10567995</th>\n",
       "      <td>6</td>\n",
       "      <td>Trophectoderm</td>\n",
       "      <td>Yanagida_2021</td>\n",
       "      <td>SMARTSeq2</td>\n",
       "    </tr>\n",
       "    <tr>\n",
       "      <th>SRX10567984_SRX10567984</th>\n",
       "      <td>6</td>\n",
       "      <td>Trophectoderm</td>\n",
       "      <td>Yanagida_2021</td>\n",
       "      <td>SMARTSeq2</td>\n",
       "    </tr>\n",
       "    <tr>\n",
       "      <th>SRX10568025_SRX10568025</th>\n",
       "      <td>6</td>\n",
       "      <td>Trophectoderm</td>\n",
       "      <td>Yanagida_2021</td>\n",
       "      <td>SMARTSeq2</td>\n",
       "    </tr>\n",
       "    <tr>\n",
       "      <th>SRX10567983_SRX10567983</th>\n",
       "      <td>6</td>\n",
       "      <td>Trophectoderm</td>\n",
       "      <td>Yanagida_2021</td>\n",
       "      <td>SMARTSeq2</td>\n",
       "    </tr>\n",
       "    <tr>\n",
       "      <th>SRX10567987_SRX10567987</th>\n",
       "      <td>7</td>\n",
       "      <td>Trophectoderm</td>\n",
       "      <td>Yanagida_2021</td>\n",
       "      <td>SMARTSeq2</td>\n",
       "    </tr>\n",
       "  </tbody>\n",
       "</table>\n",
       "</div>"
      ],
      "text/plain": [
       "                        day             ct     experiment technology\n",
       "index                                                               \n",
       "SRX10567995_SRX10567995   6  Trophectoderm  Yanagida_2021  SMARTSeq2\n",
       "SRX10567984_SRX10567984   6  Trophectoderm  Yanagida_2021  SMARTSeq2\n",
       "SRX10568025_SRX10568025   6  Trophectoderm  Yanagida_2021  SMARTSeq2\n",
       "SRX10567983_SRX10567983   6  Trophectoderm  Yanagida_2021  SMARTSeq2\n",
       "SRX10567987_SRX10567987   7  Trophectoderm  Yanagida_2021  SMARTSeq2"
      ]
     },
     "execution_count": 70,
     "metadata": {},
     "output_type": "execute_result"
    }
   ],
   "source": [
    "yanagida_reannotation = yanagida_reannotation[['day', 'lineage']]\n",
    "yanagida_reannotation.columns = ['day','ct']\n",
    "yanagida_reannotation['experiment'] = 'Yanagida_2021'\n",
    "yanagida_reannotation['technology'] = 'SMARTSeq2'\n",
    "yanagida_reannotation.head()"
   ]
  },
  {
   "cell_type": "code",
   "execution_count": 71,
   "id": "e67f980f-6f54-40e7-98da-3ae6feaf16a0",
   "metadata": {},
   "outputs": [],
   "source": [
    "yanagida.obs = yanagida_reannotation"
   ]
  },
  {
   "cell_type": "code",
   "execution_count": 72,
   "id": "70c980bb-3880-484f-83a1-df003eefddb1",
   "metadata": {},
   "outputs": [
    {
     "name": "stdout",
     "output_type": "stream",
     "text": [
      "SMART-SEQ: Normalization\n",
      "SMART-SEQ: Common genes 62663\n"
     ]
    },
    {
     "data": {
      "text/plain": [
       "AnnData object with n_obs × n_vars = 228 × 62663\n",
       "    obs: 'day', 'ct', 'experiment', 'technology'"
      ]
     },
     "execution_count": 72,
     "metadata": {},
     "output_type": "execute_result"
    }
   ],
   "source": [
    "normalize_smartseq(yanagida, gene_lengths)"
   ]
  },
  {
   "cell_type": "code",
   "execution_count": 73,
   "id": "e5c9ecd5-a5b5-496c-8a16-ecceecbb4201",
   "metadata": {},
   "outputs": [],
   "source": [
    "sc.pp.filter_cells(yanagida, min_counts=10)\n",
    "sc.pp.filter_cells(yanagida, min_genes=10)\n",
    "yanagida.layers[\"counts\"] = yanagida.X.copy()\n",
    "sc.pp.normalize_total(yanagida, target_sum=10_000)\n",
    "sc.pp.log1p(yanagida)\n",
    "yanagida.raw = yanagida"
   ]
  },
  {
   "cell_type": "markdown",
   "id": "b3f6d888-9434-4817-9be3-a5b25cd2c947",
   "metadata": {},
   "source": [
    "## Xue 2013"
   ]
  },
  {
   "cell_type": "code",
   "execution_count": 74,
   "id": "ffa4c5f8-b8dc-47f6-987a-bc16cc981a8b",
   "metadata": {},
   "outputs": [],
   "source": [
    "xue_h5ad = sc.read_h5ad(\"../data/external/human/xue_2013_reprocessed.h5ad\")"
   ]
  },
  {
   "cell_type": "code",
   "execution_count": 75,
   "id": "ba21e420-b2d1-4e42-a68e-d498cb4bcfb5",
   "metadata": {},
   "outputs": [],
   "source": [
    "XUE_URL = 'https://ftp.ncbi.nlm.nih.gov/geo/series/GSE44nnn/GSE44183/matrix/GSE44183-GPL11154_series_matrix.txt.gz'\n",
    "xue_metadata = pd.read_table(XUE_URL, skiprows=36, index_col = 0).T\n",
    "xue_metadata = xue_metadata[xue_metadata['!Sample_source_name_ch1'].isin(['oocyte','pronucleus','zygote','2-cell blastomere','4-cell blastomere','8-cell blastomere', 'morula'])].copy()\n",
    "xue_metadata = xue_metadata[['!Sample_geo_accession','!Sample_source_name_ch1']].copy()\n",
    "reannotate_dict = {\n",
    "    'oocyte': 'Oocyte',\n",
    "    'pronucleus': 'Pronucleus',\n",
    "    'zygote': 'Zygote',\n",
    "    '2-cell blastomere': '2C',\n",
    "    '4-cell blastomere': '4C',\n",
    "    '8-cell blastomere': '8C',\n",
    "    'morula': 'Morula',\n",
    "}\n",
    "xue_metadata.replace(reannotate_dict, inplace=True)"
   ]
  },
  {
   "cell_type": "code",
   "execution_count": 76,
   "id": "fddf089d-2d16-4328-a239-ef8542c097b2",
   "metadata": {},
   "outputs": [],
   "source": [
    "xue = xue_h5ad.copy()"
   ]
  },
  {
   "cell_type": "code",
   "execution_count": 77,
   "id": "d58fb612-f328-47f8-b5d7-a09ce6757dd3",
   "metadata": {},
   "outputs": [],
   "source": [
    "xue.obs = xue.obs.loc[:,['sample','sample_alias']].reset_index().merge(xue_metadata, left_on='sample_alias', right_on='!Sample_geo_accession').set_index('index')"
   ]
  },
  {
   "cell_type": "markdown",
   "id": "e4fb4e12-e046-4645-9311-fa07321becc1",
   "metadata": {},
   "source": [
    "This dataset contains an additional *Pronuclei* stage. According to [Capmany, et al. (1996)](), the average time for pronuclei formation is 8h post-IVF. We therefore annotate these cells as ```{'EmbryonicDay': '0.33', 'Lineage': 'Pronucleus'}```"
   ]
  },
  {
   "cell_type": "code",
   "execution_count": 78,
   "id": "3419a40c-0177-47bd-a85a-ae47820acf4a",
   "metadata": {},
   "outputs": [
    {
     "data": {
      "text/html": [
       "<div>\n",
       "<style scoped>\n",
       "    .dataframe tbody tr th:only-of-type {\n",
       "        vertical-align: middle;\n",
       "    }\n",
       "\n",
       "    .dataframe tbody tr th {\n",
       "        vertical-align: top;\n",
       "    }\n",
       "\n",
       "    .dataframe thead th {\n",
       "        text-align: right;\n",
       "    }\n",
       "</style>\n",
       "<table border=\"1\" class=\"dataframe\">\n",
       "  <thead>\n",
       "    <tr style=\"text-align: right;\">\n",
       "      <th></th>\n",
       "      <th>sample</th>\n",
       "      <th>sample_alias</th>\n",
       "      <th>!Sample_geo_accession</th>\n",
       "      <th>!Sample_source_name_ch1</th>\n",
       "    </tr>\n",
       "    <tr>\n",
       "      <th>index</th>\n",
       "      <th></th>\n",
       "      <th></th>\n",
       "      <th></th>\n",
       "      <th></th>\n",
       "    </tr>\n",
       "  </thead>\n",
       "  <tbody>\n",
       "    <tr>\n",
       "      <th>SRX300891_SRX300891</th>\n",
       "      <td>SRX300891</td>\n",
       "      <td>GSM1160130</td>\n",
       "      <td>GSM1160130</td>\n",
       "      <td>8C</td>\n",
       "    </tr>\n",
       "    <tr>\n",
       "      <th>SRX300889_SRX300889</th>\n",
       "      <td>SRX300889</td>\n",
       "      <td>GSM1160128</td>\n",
       "      <td>GSM1160128</td>\n",
       "      <td>8C</td>\n",
       "    </tr>\n",
       "    <tr>\n",
       "      <th>SRX300873_SRX300873</th>\n",
       "      <td>SRX300873</td>\n",
       "      <td>GSM1160112</td>\n",
       "      <td>GSM1160112</td>\n",
       "      <td>Oocyte</td>\n",
       "    </tr>\n",
       "    <tr>\n",
       "      <th>SRX300899_SRX300899</th>\n",
       "      <td>SRX300899</td>\n",
       "      <td>GSM1160138</td>\n",
       "      <td>GSM1160138</td>\n",
       "      <td>Morula</td>\n",
       "    </tr>\n",
       "    <tr>\n",
       "      <th>SRX300883_SRX300883</th>\n",
       "      <td>SRX300883</td>\n",
       "      <td>GSM1160122</td>\n",
       "      <td>GSM1160122</td>\n",
       "      <td>2C</td>\n",
       "    </tr>\n",
       "    <tr>\n",
       "      <th>SRX300895_SRX300895</th>\n",
       "      <td>SRX300895</td>\n",
       "      <td>GSM1160134</td>\n",
       "      <td>GSM1160134</td>\n",
       "      <td>8C</td>\n",
       "    </tr>\n",
       "    <tr>\n",
       "      <th>SRX300892_SRX300892</th>\n",
       "      <td>SRX300892</td>\n",
       "      <td>GSM1160131</td>\n",
       "      <td>GSM1160131</td>\n",
       "      <td>8C</td>\n",
       "    </tr>\n",
       "    <tr>\n",
       "      <th>SRX300901_SRX300901</th>\n",
       "      <td>SRX300901</td>\n",
       "      <td>GSM1160140</td>\n",
       "      <td>GSM1160140</td>\n",
       "      <td>Morula</td>\n",
       "    </tr>\n",
       "    <tr>\n",
       "      <th>SRX300900_SRX300900</th>\n",
       "      <td>SRX300900</td>\n",
       "      <td>GSM1160139</td>\n",
       "      <td>GSM1160139</td>\n",
       "      <td>Morula</td>\n",
       "    </tr>\n",
       "    <tr>\n",
       "      <th>SRX300885_SRX300885</th>\n",
       "      <td>SRX300885</td>\n",
       "      <td>GSM1160124</td>\n",
       "      <td>GSM1160124</td>\n",
       "      <td>4C</td>\n",
       "    </tr>\n",
       "    <tr>\n",
       "      <th>SRX300875_SRX300875</th>\n",
       "      <td>SRX300875</td>\n",
       "      <td>GSM1160114</td>\n",
       "      <td>GSM1160114</td>\n",
       "      <td>Oocyte</td>\n",
       "    </tr>\n",
       "    <tr>\n",
       "      <th>SRX300897_SRX300897</th>\n",
       "      <td>SRX300897</td>\n",
       "      <td>GSM1160136</td>\n",
       "      <td>GSM1160136</td>\n",
       "      <td>8C</td>\n",
       "    </tr>\n",
       "    <tr>\n",
       "      <th>SRX300879_SRX300879</th>\n",
       "      <td>SRX300879</td>\n",
       "      <td>GSM1160118</td>\n",
       "      <td>GSM1160118</td>\n",
       "      <td>Zygote</td>\n",
       "    </tr>\n",
       "    <tr>\n",
       "      <th>SRX300896_SRX300896</th>\n",
       "      <td>SRX300896</td>\n",
       "      <td>GSM1160135</td>\n",
       "      <td>GSM1160135</td>\n",
       "      <td>8C</td>\n",
       "    </tr>\n",
       "    <tr>\n",
       "      <th>SRX300890_SRX300890</th>\n",
       "      <td>SRX300890</td>\n",
       "      <td>GSM1160129</td>\n",
       "      <td>GSM1160129</td>\n",
       "      <td>8C</td>\n",
       "    </tr>\n",
       "    <tr>\n",
       "      <th>SRX300894_SRX300894</th>\n",
       "      <td>SRX300894</td>\n",
       "      <td>GSM1160133</td>\n",
       "      <td>GSM1160133</td>\n",
       "      <td>8C</td>\n",
       "    </tr>\n",
       "    <tr>\n",
       "      <th>SRX300881_SRX300881</th>\n",
       "      <td>SRX300881</td>\n",
       "      <td>GSM1160120</td>\n",
       "      <td>GSM1160120</td>\n",
       "      <td>2C</td>\n",
       "    </tr>\n",
       "    <tr>\n",
       "      <th>SRX300874_SRX300874</th>\n",
       "      <td>SRX300874</td>\n",
       "      <td>GSM1160113</td>\n",
       "      <td>GSM1160113</td>\n",
       "      <td>Oocyte</td>\n",
       "    </tr>\n",
       "    <tr>\n",
       "      <th>SRX300887_SRX300887</th>\n",
       "      <td>SRX300887</td>\n",
       "      <td>GSM1160126</td>\n",
       "      <td>GSM1160126</td>\n",
       "      <td>4C</td>\n",
       "    </tr>\n",
       "    <tr>\n",
       "      <th>SRX300880_SRX300880</th>\n",
       "      <td>SRX300880</td>\n",
       "      <td>GSM1160119</td>\n",
       "      <td>GSM1160119</td>\n",
       "      <td>Zygote</td>\n",
       "    </tr>\n",
       "    <tr>\n",
       "      <th>SRX300893_SRX300893</th>\n",
       "      <td>SRX300893</td>\n",
       "      <td>GSM1160132</td>\n",
       "      <td>GSM1160132</td>\n",
       "      <td>8C</td>\n",
       "    </tr>\n",
       "    <tr>\n",
       "      <th>SRX300878_SRX300878</th>\n",
       "      <td>SRX300878</td>\n",
       "      <td>GSM1160117</td>\n",
       "      <td>GSM1160117</td>\n",
       "      <td>Pronucleus</td>\n",
       "    </tr>\n",
       "    <tr>\n",
       "      <th>SRX300888_SRX300888</th>\n",
       "      <td>SRX300888</td>\n",
       "      <td>GSM1160127</td>\n",
       "      <td>GSM1160127</td>\n",
       "      <td>8C</td>\n",
       "    </tr>\n",
       "    <tr>\n",
       "      <th>SRX300884_SRX300884</th>\n",
       "      <td>SRX300884</td>\n",
       "      <td>GSM1160123</td>\n",
       "      <td>GSM1160123</td>\n",
       "      <td>4C</td>\n",
       "    </tr>\n",
       "    <tr>\n",
       "      <th>SRX300876_SRX300876</th>\n",
       "      <td>SRX300876</td>\n",
       "      <td>GSM1160115</td>\n",
       "      <td>GSM1160115</td>\n",
       "      <td>Pronucleus</td>\n",
       "    </tr>\n",
       "    <tr>\n",
       "      <th>SRX300882_SRX300882</th>\n",
       "      <td>SRX300882</td>\n",
       "      <td>GSM1160121</td>\n",
       "      <td>GSM1160121</td>\n",
       "      <td>2C</td>\n",
       "    </tr>\n",
       "    <tr>\n",
       "      <th>SRX300886_SRX300886</th>\n",
       "      <td>SRX300886</td>\n",
       "      <td>GSM1160125</td>\n",
       "      <td>GSM1160125</td>\n",
       "      <td>4C</td>\n",
       "    </tr>\n",
       "    <tr>\n",
       "      <th>SRX300877_SRX300877</th>\n",
       "      <td>SRX300877</td>\n",
       "      <td>GSM1160116</td>\n",
       "      <td>GSM1160116</td>\n",
       "      <td>Pronucleus</td>\n",
       "    </tr>\n",
       "  </tbody>\n",
       "</table>\n",
       "</div>"
      ],
      "text/plain": [
       "                        sample sample_alias !Sample_geo_accession  \\\n",
       "index                                                               \n",
       "SRX300891_SRX300891  SRX300891   GSM1160130            GSM1160130   \n",
       "SRX300889_SRX300889  SRX300889   GSM1160128            GSM1160128   \n",
       "SRX300873_SRX300873  SRX300873   GSM1160112            GSM1160112   \n",
       "SRX300899_SRX300899  SRX300899   GSM1160138            GSM1160138   \n",
       "SRX300883_SRX300883  SRX300883   GSM1160122            GSM1160122   \n",
       "SRX300895_SRX300895  SRX300895   GSM1160134            GSM1160134   \n",
       "SRX300892_SRX300892  SRX300892   GSM1160131            GSM1160131   \n",
       "SRX300901_SRX300901  SRX300901   GSM1160140            GSM1160140   \n",
       "SRX300900_SRX300900  SRX300900   GSM1160139            GSM1160139   \n",
       "SRX300885_SRX300885  SRX300885   GSM1160124            GSM1160124   \n",
       "SRX300875_SRX300875  SRX300875   GSM1160114            GSM1160114   \n",
       "SRX300897_SRX300897  SRX300897   GSM1160136            GSM1160136   \n",
       "SRX300879_SRX300879  SRX300879   GSM1160118            GSM1160118   \n",
       "SRX300896_SRX300896  SRX300896   GSM1160135            GSM1160135   \n",
       "SRX300890_SRX300890  SRX300890   GSM1160129            GSM1160129   \n",
       "SRX300894_SRX300894  SRX300894   GSM1160133            GSM1160133   \n",
       "SRX300881_SRX300881  SRX300881   GSM1160120            GSM1160120   \n",
       "SRX300874_SRX300874  SRX300874   GSM1160113            GSM1160113   \n",
       "SRX300887_SRX300887  SRX300887   GSM1160126            GSM1160126   \n",
       "SRX300880_SRX300880  SRX300880   GSM1160119            GSM1160119   \n",
       "SRX300893_SRX300893  SRX300893   GSM1160132            GSM1160132   \n",
       "SRX300878_SRX300878  SRX300878   GSM1160117            GSM1160117   \n",
       "SRX300888_SRX300888  SRX300888   GSM1160127            GSM1160127   \n",
       "SRX300884_SRX300884  SRX300884   GSM1160123            GSM1160123   \n",
       "SRX300876_SRX300876  SRX300876   GSM1160115            GSM1160115   \n",
       "SRX300882_SRX300882  SRX300882   GSM1160121            GSM1160121   \n",
       "SRX300886_SRX300886  SRX300886   GSM1160125            GSM1160125   \n",
       "SRX300877_SRX300877  SRX300877   GSM1160116            GSM1160116   \n",
       "\n",
       "                    !Sample_source_name_ch1  \n",
       "index                                        \n",
       "SRX300891_SRX300891                      8C  \n",
       "SRX300889_SRX300889                      8C  \n",
       "SRX300873_SRX300873                  Oocyte  \n",
       "SRX300899_SRX300899                  Morula  \n",
       "SRX300883_SRX300883                      2C  \n",
       "SRX300895_SRX300895                      8C  \n",
       "SRX300892_SRX300892                      8C  \n",
       "SRX300901_SRX300901                  Morula  \n",
       "SRX300900_SRX300900                  Morula  \n",
       "SRX300885_SRX300885                      4C  \n",
       "SRX300875_SRX300875                  Oocyte  \n",
       "SRX300897_SRX300897                      8C  \n",
       "SRX300879_SRX300879                  Zygote  \n",
       "SRX300896_SRX300896                      8C  \n",
       "SRX300890_SRX300890                      8C  \n",
       "SRX300894_SRX300894                      8C  \n",
       "SRX300881_SRX300881                      2C  \n",
       "SRX300874_SRX300874                  Oocyte  \n",
       "SRX300887_SRX300887                      4C  \n",
       "SRX300880_SRX300880                  Zygote  \n",
       "SRX300893_SRX300893                      8C  \n",
       "SRX300878_SRX300878              Pronucleus  \n",
       "SRX300888_SRX300888                      8C  \n",
       "SRX300884_SRX300884                      4C  \n",
       "SRX300876_SRX300876              Pronucleus  \n",
       "SRX300882_SRX300882                      2C  \n",
       "SRX300886_SRX300886                      4C  \n",
       "SRX300877_SRX300877              Pronucleus  "
      ]
     },
     "execution_count": 78,
     "metadata": {},
     "output_type": "execute_result"
    }
   ],
   "source": [
    "xue.obs"
   ]
  },
  {
   "cell_type": "code",
   "execution_count": 79,
   "id": "773e6141-4421-4e4c-a256-03d01eb28f54",
   "metadata": {},
   "outputs": [],
   "source": [
    "xue_reannotation = xue.obs[['!Sample_source_name_ch1', 'sample_alias']].copy()\n",
    "xue_reannotation.columns = ['Lineage', 'alias']"
   ]
  },
  {
   "cell_type": "code",
   "execution_count": 80,
   "id": "2a02208c-6ccd-4e66-ae0f-7c29fb5029c7",
   "metadata": {},
   "outputs": [
    {
     "data": {
      "text/html": [
       "<div>\n",
       "<style scoped>\n",
       "    .dataframe tbody tr th:only-of-type {\n",
       "        vertical-align: middle;\n",
       "    }\n",
       "\n",
       "    .dataframe tbody tr th {\n",
       "        vertical-align: top;\n",
       "    }\n",
       "\n",
       "    .dataframe thead th {\n",
       "        text-align: right;\n",
       "    }\n",
       "</style>\n",
       "<table border=\"1\" class=\"dataframe\">\n",
       "  <thead>\n",
       "    <tr style=\"text-align: right;\">\n",
       "      <th></th>\n",
       "      <th>Lineage</th>\n",
       "      <th>alias</th>\n",
       "    </tr>\n",
       "    <tr>\n",
       "      <th>index</th>\n",
       "      <th></th>\n",
       "      <th></th>\n",
       "    </tr>\n",
       "  </thead>\n",
       "  <tbody>\n",
       "    <tr>\n",
       "      <th>SRX300891_SRX300891</th>\n",
       "      <td>8C</td>\n",
       "      <td>GSM1160130</td>\n",
       "    </tr>\n",
       "    <tr>\n",
       "      <th>SRX300889_SRX300889</th>\n",
       "      <td>8C</td>\n",
       "      <td>GSM1160128</td>\n",
       "    </tr>\n",
       "    <tr>\n",
       "      <th>SRX300873_SRX300873</th>\n",
       "      <td>Oocyte</td>\n",
       "      <td>GSM1160112</td>\n",
       "    </tr>\n",
       "    <tr>\n",
       "      <th>SRX300899_SRX300899</th>\n",
       "      <td>Morula</td>\n",
       "      <td>GSM1160138</td>\n",
       "    </tr>\n",
       "    <tr>\n",
       "      <th>SRX300883_SRX300883</th>\n",
       "      <td>2C</td>\n",
       "      <td>GSM1160122</td>\n",
       "    </tr>\n",
       "    <tr>\n",
       "      <th>SRX300895_SRX300895</th>\n",
       "      <td>8C</td>\n",
       "      <td>GSM1160134</td>\n",
       "    </tr>\n",
       "    <tr>\n",
       "      <th>SRX300892_SRX300892</th>\n",
       "      <td>8C</td>\n",
       "      <td>GSM1160131</td>\n",
       "    </tr>\n",
       "    <tr>\n",
       "      <th>SRX300901_SRX300901</th>\n",
       "      <td>Morula</td>\n",
       "      <td>GSM1160140</td>\n",
       "    </tr>\n",
       "    <tr>\n",
       "      <th>SRX300900_SRX300900</th>\n",
       "      <td>Morula</td>\n",
       "      <td>GSM1160139</td>\n",
       "    </tr>\n",
       "    <tr>\n",
       "      <th>SRX300885_SRX300885</th>\n",
       "      <td>4C</td>\n",
       "      <td>GSM1160124</td>\n",
       "    </tr>\n",
       "    <tr>\n",
       "      <th>SRX300875_SRX300875</th>\n",
       "      <td>Oocyte</td>\n",
       "      <td>GSM1160114</td>\n",
       "    </tr>\n",
       "    <tr>\n",
       "      <th>SRX300897_SRX300897</th>\n",
       "      <td>8C</td>\n",
       "      <td>GSM1160136</td>\n",
       "    </tr>\n",
       "    <tr>\n",
       "      <th>SRX300879_SRX300879</th>\n",
       "      <td>Zygote</td>\n",
       "      <td>GSM1160118</td>\n",
       "    </tr>\n",
       "    <tr>\n",
       "      <th>SRX300896_SRX300896</th>\n",
       "      <td>8C</td>\n",
       "      <td>GSM1160135</td>\n",
       "    </tr>\n",
       "    <tr>\n",
       "      <th>SRX300890_SRX300890</th>\n",
       "      <td>8C</td>\n",
       "      <td>GSM1160129</td>\n",
       "    </tr>\n",
       "    <tr>\n",
       "      <th>SRX300894_SRX300894</th>\n",
       "      <td>8C</td>\n",
       "      <td>GSM1160133</td>\n",
       "    </tr>\n",
       "    <tr>\n",
       "      <th>SRX300881_SRX300881</th>\n",
       "      <td>2C</td>\n",
       "      <td>GSM1160120</td>\n",
       "    </tr>\n",
       "    <tr>\n",
       "      <th>SRX300874_SRX300874</th>\n",
       "      <td>Oocyte</td>\n",
       "      <td>GSM1160113</td>\n",
       "    </tr>\n",
       "    <tr>\n",
       "      <th>SRX300887_SRX300887</th>\n",
       "      <td>4C</td>\n",
       "      <td>GSM1160126</td>\n",
       "    </tr>\n",
       "    <tr>\n",
       "      <th>SRX300880_SRX300880</th>\n",
       "      <td>Zygote</td>\n",
       "      <td>GSM1160119</td>\n",
       "    </tr>\n",
       "    <tr>\n",
       "      <th>SRX300893_SRX300893</th>\n",
       "      <td>8C</td>\n",
       "      <td>GSM1160132</td>\n",
       "    </tr>\n",
       "    <tr>\n",
       "      <th>SRX300878_SRX300878</th>\n",
       "      <td>Pronucleus</td>\n",
       "      <td>GSM1160117</td>\n",
       "    </tr>\n",
       "    <tr>\n",
       "      <th>SRX300888_SRX300888</th>\n",
       "      <td>8C</td>\n",
       "      <td>GSM1160127</td>\n",
       "    </tr>\n",
       "    <tr>\n",
       "      <th>SRX300884_SRX300884</th>\n",
       "      <td>4C</td>\n",
       "      <td>GSM1160123</td>\n",
       "    </tr>\n",
       "    <tr>\n",
       "      <th>SRX300876_SRX300876</th>\n",
       "      <td>Pronucleus</td>\n",
       "      <td>GSM1160115</td>\n",
       "    </tr>\n",
       "    <tr>\n",
       "      <th>SRX300882_SRX300882</th>\n",
       "      <td>2C</td>\n",
       "      <td>GSM1160121</td>\n",
       "    </tr>\n",
       "    <tr>\n",
       "      <th>SRX300886_SRX300886</th>\n",
       "      <td>4C</td>\n",
       "      <td>GSM1160125</td>\n",
       "    </tr>\n",
       "    <tr>\n",
       "      <th>SRX300877_SRX300877</th>\n",
       "      <td>Pronucleus</td>\n",
       "      <td>GSM1160116</td>\n",
       "    </tr>\n",
       "  </tbody>\n",
       "</table>\n",
       "</div>"
      ],
      "text/plain": [
       "                        Lineage       alias\n",
       "index                                      \n",
       "SRX300891_SRX300891          8C  GSM1160130\n",
       "SRX300889_SRX300889          8C  GSM1160128\n",
       "SRX300873_SRX300873      Oocyte  GSM1160112\n",
       "SRX300899_SRX300899      Morula  GSM1160138\n",
       "SRX300883_SRX300883          2C  GSM1160122\n",
       "SRX300895_SRX300895          8C  GSM1160134\n",
       "SRX300892_SRX300892          8C  GSM1160131\n",
       "SRX300901_SRX300901      Morula  GSM1160140\n",
       "SRX300900_SRX300900      Morula  GSM1160139\n",
       "SRX300885_SRX300885          4C  GSM1160124\n",
       "SRX300875_SRX300875      Oocyte  GSM1160114\n",
       "SRX300897_SRX300897          8C  GSM1160136\n",
       "SRX300879_SRX300879      Zygote  GSM1160118\n",
       "SRX300896_SRX300896          8C  GSM1160135\n",
       "SRX300890_SRX300890          8C  GSM1160129\n",
       "SRX300894_SRX300894          8C  GSM1160133\n",
       "SRX300881_SRX300881          2C  GSM1160120\n",
       "SRX300874_SRX300874      Oocyte  GSM1160113\n",
       "SRX300887_SRX300887          4C  GSM1160126\n",
       "SRX300880_SRX300880      Zygote  GSM1160119\n",
       "SRX300893_SRX300893          8C  GSM1160132\n",
       "SRX300878_SRX300878  Pronucleus  GSM1160117\n",
       "SRX300888_SRX300888          8C  GSM1160127\n",
       "SRX300884_SRX300884          4C  GSM1160123\n",
       "SRX300876_SRX300876  Pronucleus  GSM1160115\n",
       "SRX300882_SRX300882          2C  GSM1160121\n",
       "SRX300886_SRX300886          4C  GSM1160125\n",
       "SRX300877_SRX300877  Pronucleus  GSM1160116"
      ]
     },
     "execution_count": 80,
     "metadata": {},
     "output_type": "execute_result"
    }
   ],
   "source": [
    "xue_reannotation"
   ]
  },
  {
   "cell_type": "code",
   "execution_count": 81,
   "id": "2f9c7e23-bb67-41bc-966c-dd301ceffa49",
   "metadata": {},
   "outputs": [],
   "source": [
    "embryonictime_annotation = {\n",
    "    'Oocyte': 0,\n",
    "    'Pronucleus': 0.33,\n",
    "    'Zygote': 0.75,\n",
    "    '2C': 1.25,\n",
    "    '4C': 2,\n",
    "    '8C':3,\n",
    "    'Morula':4,\n",
    "}"
   ]
  },
  {
   "cell_type": "code",
   "execution_count": 82,
   "id": "86f70327-63c3-47f7-a35e-7dd485878b2d",
   "metadata": {},
   "outputs": [],
   "source": [
    "xue_reannotation['EmbryonicDay'] = xue_reannotation['Lineage'].map(embryonictime_annotation)"
   ]
  },
  {
   "cell_type": "code",
   "execution_count": 83,
   "id": "011d0646-1611-48ca-a5fc-d76246cb475e",
   "metadata": {},
   "outputs": [
    {
     "data": {
      "text/html": [
       "<div>\n",
       "<style scoped>\n",
       "    .dataframe tbody tr th:only-of-type {\n",
       "        vertical-align: middle;\n",
       "    }\n",
       "\n",
       "    .dataframe tbody tr th {\n",
       "        vertical-align: top;\n",
       "    }\n",
       "\n",
       "    .dataframe thead th {\n",
       "        text-align: right;\n",
       "    }\n",
       "</style>\n",
       "<table border=\"1\" class=\"dataframe\">\n",
       "  <thead>\n",
       "    <tr style=\"text-align: right;\">\n",
       "      <th></th>\n",
       "      <th>day</th>\n",
       "      <th>ct</th>\n",
       "      <th>experiment</th>\n",
       "      <th>technology</th>\n",
       "    </tr>\n",
       "    <tr>\n",
       "      <th>index</th>\n",
       "      <th></th>\n",
       "      <th></th>\n",
       "      <th></th>\n",
       "      <th></th>\n",
       "    </tr>\n",
       "  </thead>\n",
       "  <tbody>\n",
       "    <tr>\n",
       "      <th>SRX300891_SRX300891</th>\n",
       "      <td>3.00</td>\n",
       "      <td>8C</td>\n",
       "      <td>Xue_2013</td>\n",
       "      <td>Tang2009</td>\n",
       "    </tr>\n",
       "    <tr>\n",
       "      <th>SRX300889_SRX300889</th>\n",
       "      <td>3.00</td>\n",
       "      <td>8C</td>\n",
       "      <td>Xue_2013</td>\n",
       "      <td>Tang2009</td>\n",
       "    </tr>\n",
       "    <tr>\n",
       "      <th>SRX300873_SRX300873</th>\n",
       "      <td>0.00</td>\n",
       "      <td>Oocyte</td>\n",
       "      <td>Xue_2013</td>\n",
       "      <td>Tang2009</td>\n",
       "    </tr>\n",
       "    <tr>\n",
       "      <th>SRX300899_SRX300899</th>\n",
       "      <td>4.00</td>\n",
       "      <td>Morula</td>\n",
       "      <td>Xue_2013</td>\n",
       "      <td>Tang2009</td>\n",
       "    </tr>\n",
       "    <tr>\n",
       "      <th>SRX300883_SRX300883</th>\n",
       "      <td>1.25</td>\n",
       "      <td>2C</td>\n",
       "      <td>Xue_2013</td>\n",
       "      <td>Tang2009</td>\n",
       "    </tr>\n",
       "  </tbody>\n",
       "</table>\n",
       "</div>"
      ],
      "text/plain": [
       "                      day      ct experiment technology\n",
       "index                                                  \n",
       "SRX300891_SRX300891  3.00      8C   Xue_2013   Tang2009\n",
       "SRX300889_SRX300889  3.00      8C   Xue_2013   Tang2009\n",
       "SRX300873_SRX300873  0.00  Oocyte   Xue_2013   Tang2009\n",
       "SRX300899_SRX300899  4.00  Morula   Xue_2013   Tang2009\n",
       "SRX300883_SRX300883  1.25      2C   Xue_2013   Tang2009"
      ]
     },
     "execution_count": 83,
     "metadata": {},
     "output_type": "execute_result"
    }
   ],
   "source": [
    "xue_reannotation = xue_reannotation[['EmbryonicDay', 'Lineage']]\n",
    "xue_reannotation.columns = ['day','ct']\n",
    "xue_reannotation['experiment'] = 'Xue_2013'\n",
    "xue_reannotation['technology'] = 'Tang2009'\n",
    "xue_reannotation.head()"
   ]
  },
  {
   "cell_type": "code",
   "execution_count": 84,
   "id": "eca66ee5-7b55-4e58-90a3-fb6345e43275",
   "metadata": {},
   "outputs": [],
   "source": [
    "xue.obs = xue_reannotation"
   ]
  },
  {
   "cell_type": "code",
   "execution_count": 85,
   "id": "8ac73350-f42d-4f85-8d74-58a61fd0a96f",
   "metadata": {},
   "outputs": [
    {
     "name": "stdout",
     "output_type": "stream",
     "text": [
      "SMART-SEQ: Normalization\n",
      "SMART-SEQ: Common genes 62663\n"
     ]
    },
    {
     "data": {
      "text/plain": [
       "AnnData object with n_obs × n_vars = 28 × 62663\n",
       "    obs: 'day', 'ct', 'experiment', 'technology'"
      ]
     },
     "execution_count": 85,
     "metadata": {},
     "output_type": "execute_result"
    }
   ],
   "source": [
    "normalize_smartseq(xue, gene_lengths)"
   ]
  },
  {
   "cell_type": "code",
   "execution_count": 86,
   "id": "748f7e3b-100c-4b4a-bccb-bad01a561f83",
   "metadata": {},
   "outputs": [],
   "source": [
    "sc.pp.filter_cells(xue, min_counts=10)\n",
    "sc.pp.filter_cells(xue, min_genes=10)\n",
    "xue.layers[\"counts\"] = xue.X.copy()\n",
    "sc.pp.normalize_total(xue, target_sum=10_000)\n",
    "sc.pp.log1p(xue)\n",
    "xue.raw = xue"
   ]
  },
  {
   "cell_type": "markdown",
   "id": "faa3654f-e042-436b-a33d-1f993e985efd",
   "metadata": {},
   "source": [
    "# Merge Datasets"
   ]
  },
  {
   "cell_type": "code",
   "execution_count": 87,
   "id": "412dd9fa-4145-46bc-9044-a076652edb8b",
   "metadata": {},
   "outputs": [],
   "source": [
    "list_of_datasets = [\n",
    "    meistermann,\n",
    "    petropoulos,\n",
    "    xiang,\n",
    "    yan,\n",
    "    yanagida,\n",
    "    xue,\n",
    "]"
   ]
  },
  {
   "cell_type": "code",
   "execution_count": 88,
   "id": "f9c4dec0-51e9-4063-86a7-458fc7951dea",
   "metadata": {},
   "outputs": [],
   "source": [
    "human_adata = ad.concat(list_of_datasets)"
   ]
  },
  {
   "cell_type": "code",
   "execution_count": 89,
   "id": "46bd920c-083c-4bba-90db-43c5bf70ec9a",
   "metadata": {},
   "outputs": [],
   "source": [
    "human_adata.obs.day = pd.to_numeric(human_adata.obs.day)"
   ]
  },
  {
   "cell_type": "code",
   "execution_count": 90,
   "id": "b5afad25-1713-47a6-8f90-f02cc77bd33b",
   "metadata": {},
   "outputs": [
    {
     "data": {
      "text/plain": [
       "AnnData object with n_obs × n_vars = 2547 × 62754\n",
       "    obs: 'day', 'ct', 'experiment', 'technology', 'n_counts', 'n_genes'\n",
       "    layers: 'counts'"
      ]
     },
     "execution_count": 90,
     "metadata": {},
     "output_type": "execute_result"
    }
   ],
   "source": [
    "human_adata"
   ]
  },
  {
   "cell_type": "markdown",
   "id": "fc8f90c1-9fac-4eaf-925c-2a8e0f0d7428",
   "metadata": {},
   "source": [
    "## Reannotation"
   ]
  },
  {
   "cell_type": "markdown",
   "id": "d376b062-b982-4777-9ab8-68f36b1ed9c9",
   "metadata": {},
   "source": [
    "#### Concatenated cell type and embryonic day"
   ]
  },
  {
   "cell_type": "code",
   "execution_count": 91,
   "id": "f9dc6043-ba2c-4da1-9d9c-bd674b5268e4",
   "metadata": {},
   "outputs": [],
   "source": [
    "human_adata.obs['ct_fine'] = human_adata.obs.ct.astype(str) + '_' + human_adata.obs.day.astype(str)"
   ]
  },
  {
   "cell_type": "code",
   "execution_count": 92,
   "id": "0b114b7c-43f5-42b5-b83a-0ca415cb130d",
   "metadata": {},
   "outputs": [],
   "source": [
    "human_adata.obs.loc[human_adata.obs.ct == 'Unknown','ct_fine'] = 'Unknown'"
   ]
  },
  {
   "cell_type": "code",
   "execution_count": 93,
   "id": "871b889a-b0aa-4860-9356-c71c07f38579",
   "metadata": {},
   "outputs": [
    {
     "data": {
      "text/html": [
       "<div>\n",
       "<style scoped>\n",
       "    .dataframe tbody tr th:only-of-type {\n",
       "        vertical-align: middle;\n",
       "    }\n",
       "\n",
       "    .dataframe tbody tr th {\n",
       "        vertical-align: top;\n",
       "    }\n",
       "\n",
       "    .dataframe thead th {\n",
       "        text-align: right;\n",
       "    }\n",
       "</style>\n",
       "<table border=\"1\" class=\"dataframe\">\n",
       "  <thead>\n",
       "    <tr style=\"text-align: right;\">\n",
       "      <th></th>\n",
       "      <th>day</th>\n",
       "      <th>ct</th>\n",
       "      <th>experiment</th>\n",
       "      <th>technology</th>\n",
       "      <th>n_counts</th>\n",
       "      <th>n_genes</th>\n",
       "      <th>ct_fine</th>\n",
       "    </tr>\n",
       "    <tr>\n",
       "      <th>index</th>\n",
       "      <th></th>\n",
       "      <th></th>\n",
       "      <th></th>\n",
       "      <th></th>\n",
       "      <th></th>\n",
       "      <th></th>\n",
       "      <th></th>\n",
       "    </tr>\n",
       "  </thead>\n",
       "  <tbody>\n",
       "    <tr>\n",
       "      <th>ERX3015937_ERX3015937</th>\n",
       "      <td>5.00</td>\n",
       "      <td>Unknown</td>\n",
       "      <td>Meistermann_2021</td>\n",
       "      <td>SMARTSeq2</td>\n",
       "      <td>708313.0</td>\n",
       "      <td>5761</td>\n",
       "      <td>Unknown</td>\n",
       "    </tr>\n",
       "    <tr>\n",
       "      <th>ERX3015939_ERX3015939</th>\n",
       "      <td>5.00</td>\n",
       "      <td>Unknown</td>\n",
       "      <td>Meistermann_2021</td>\n",
       "      <td>SMARTSeq2</td>\n",
       "      <td>402557.0</td>\n",
       "      <td>5689</td>\n",
       "      <td>Unknown</td>\n",
       "    </tr>\n",
       "    <tr>\n",
       "      <th>ERX3015940_ERX3015940</th>\n",
       "      <td>5.00</td>\n",
       "      <td>Unknown</td>\n",
       "      <td>Meistermann_2021</td>\n",
       "      <td>SMARTSeq2</td>\n",
       "      <td>511338.0</td>\n",
       "      <td>6039</td>\n",
       "      <td>Unknown</td>\n",
       "    </tr>\n",
       "    <tr>\n",
       "      <th>ERX3015941_ERX3015941</th>\n",
       "      <td>5.00</td>\n",
       "      <td>Unknown</td>\n",
       "      <td>Meistermann_2021</td>\n",
       "      <td>SMARTSeq2</td>\n",
       "      <td>994383.0</td>\n",
       "      <td>8383</td>\n",
       "      <td>Unknown</td>\n",
       "    </tr>\n",
       "    <tr>\n",
       "      <th>ERX3015936_ERX3015936</th>\n",
       "      <td>5.00</td>\n",
       "      <td>Unknown</td>\n",
       "      <td>Meistermann_2021</td>\n",
       "      <td>SMARTSeq2</td>\n",
       "      <td>1389486.0</td>\n",
       "      <td>7762</td>\n",
       "      <td>Unknown</td>\n",
       "    </tr>\n",
       "    <tr>\n",
       "      <th>...</th>\n",
       "      <td>...</td>\n",
       "      <td>...</td>\n",
       "      <td>...</td>\n",
       "      <td>...</td>\n",
       "      <td>...</td>\n",
       "      <td>...</td>\n",
       "      <td>...</td>\n",
       "    </tr>\n",
       "    <tr>\n",
       "      <th>SRX300884_SRX300884</th>\n",
       "      <td>2.00</td>\n",
       "      <td>4C</td>\n",
       "      <td>Xue_2013</td>\n",
       "      <td>Tang2009</td>\n",
       "      <td>13308292.0</td>\n",
       "      <td>14096</td>\n",
       "      <td>4C_2.0</td>\n",
       "    </tr>\n",
       "    <tr>\n",
       "      <th>SRX300876_SRX300876</th>\n",
       "      <td>0.33</td>\n",
       "      <td>Pronucleus</td>\n",
       "      <td>Xue_2013</td>\n",
       "      <td>Tang2009</td>\n",
       "      <td>16438437.0</td>\n",
       "      <td>16542</td>\n",
       "      <td>Pronucleus_0.33</td>\n",
       "    </tr>\n",
       "    <tr>\n",
       "      <th>SRX300882_SRX300882</th>\n",
       "      <td>1.25</td>\n",
       "      <td>2C</td>\n",
       "      <td>Xue_2013</td>\n",
       "      <td>Tang2009</td>\n",
       "      <td>11549318.0</td>\n",
       "      <td>12071</td>\n",
       "      <td>2C_1.25</td>\n",
       "    </tr>\n",
       "    <tr>\n",
       "      <th>SRX300886_SRX300886</th>\n",
       "      <td>2.00</td>\n",
       "      <td>4C</td>\n",
       "      <td>Xue_2013</td>\n",
       "      <td>Tang2009</td>\n",
       "      <td>10497600.0</td>\n",
       "      <td>7149</td>\n",
       "      <td>4C_2.0</td>\n",
       "    </tr>\n",
       "    <tr>\n",
       "      <th>SRX300877_SRX300877</th>\n",
       "      <td>0.33</td>\n",
       "      <td>Pronucleus</td>\n",
       "      <td>Xue_2013</td>\n",
       "      <td>Tang2009</td>\n",
       "      <td>13025184.0</td>\n",
       "      <td>17779</td>\n",
       "      <td>Pronucleus_0.33</td>\n",
       "    </tr>\n",
       "  </tbody>\n",
       "</table>\n",
       "<p>2547 rows × 7 columns</p>\n",
       "</div>"
      ],
      "text/plain": [
       "                        day          ct        experiment technology  \\\n",
       "index                                                                  \n",
       "ERX3015937_ERX3015937  5.00     Unknown  Meistermann_2021  SMARTSeq2   \n",
       "ERX3015939_ERX3015939  5.00     Unknown  Meistermann_2021  SMARTSeq2   \n",
       "ERX3015940_ERX3015940  5.00     Unknown  Meistermann_2021  SMARTSeq2   \n",
       "ERX3015941_ERX3015941  5.00     Unknown  Meistermann_2021  SMARTSeq2   \n",
       "ERX3015936_ERX3015936  5.00     Unknown  Meistermann_2021  SMARTSeq2   \n",
       "...                     ...         ...               ...        ...   \n",
       "SRX300884_SRX300884    2.00          4C          Xue_2013   Tang2009   \n",
       "SRX300876_SRX300876    0.33  Pronucleus          Xue_2013   Tang2009   \n",
       "SRX300882_SRX300882    1.25          2C          Xue_2013   Tang2009   \n",
       "SRX300886_SRX300886    2.00          4C          Xue_2013   Tang2009   \n",
       "SRX300877_SRX300877    0.33  Pronucleus          Xue_2013   Tang2009   \n",
       "\n",
       "                         n_counts  n_genes          ct_fine  \n",
       "index                                                        \n",
       "ERX3015937_ERX3015937    708313.0     5761          Unknown  \n",
       "ERX3015939_ERX3015939    402557.0     5689          Unknown  \n",
       "ERX3015940_ERX3015940    511338.0     6039          Unknown  \n",
       "ERX3015941_ERX3015941    994383.0     8383          Unknown  \n",
       "ERX3015936_ERX3015936   1389486.0     7762          Unknown  \n",
       "...                           ...      ...              ...  \n",
       "SRX300884_SRX300884    13308292.0    14096           4C_2.0  \n",
       "SRX300876_SRX300876    16438437.0    16542  Pronucleus_0.33  \n",
       "SRX300882_SRX300882    11549318.0    12071          2C_1.25  \n",
       "SRX300886_SRX300886    10497600.0     7149           4C_2.0  \n",
       "SRX300877_SRX300877    13025184.0    17779  Pronucleus_0.33  \n",
       "\n",
       "[2547 rows x 7 columns]"
      ]
     },
     "execution_count": 93,
     "metadata": {},
     "output_type": "execute_result"
    }
   ],
   "source": [
    "human_adata.obs"
   ]
  },
  {
   "cell_type": "markdown",
   "id": "5ac4edf6-3b70-4f61-ab56-783faecd79f2",
   "metadata": {},
   "source": [
    "#### Remove Day 12 and Day 14 datasets"
   ]
  },
  {
   "cell_type": "code",
   "execution_count": 94,
   "id": "8f5980a3-edcb-4beb-91fd-bcee15ac1aa1",
   "metadata": {},
   "outputs": [],
   "source": [
    "human_adata = human_adata[human_adata.obs.day < 12].copy()"
   ]
  },
  {
   "cell_type": "markdown",
   "id": "2f3be7e4-8893-410b-8d3d-ec1c45ef96a1",
   "metadata": {},
   "source": [
    "#### Set 4C and earlier stages as 'Prelineage'"
   ]
  },
  {
   "cell_type": "code",
   "execution_count": 95,
   "id": "b63af3c9-4d02-4734-ba1a-4dca5d72612a",
   "metadata": {},
   "outputs": [],
   "source": [
    "human_adata.obs.loc[human_adata.obs.day <= 2, 'ct_fine'] = 'Prelineage'"
   ]
  },
  {
   "cell_type": "code",
   "execution_count": 96,
   "id": "04622bed-96ae-4d07-b84c-797f7cf94155",
   "metadata": {},
   "outputs": [
    {
     "data": {
      "text/plain": [
       "Unknown                    609\n",
       "Trophectoderm_7.0          462\n",
       "Trophectoderm_6.0          403\n",
       "Trophectoderm_5.0          246\n",
       "Inner Cell Mass_5.0         87\n",
       "Epiblast_6.0                76\n",
       "Trophectoderm_10.0          60\n",
       "Trophectoderm_9.0           53\n",
       "Epiblast_7.0                46\n",
       "Trophectoderm_8.0           46\n",
       "Prelineage                  39\n",
       "Inner Cell Mass_6.0         33\n",
       "Primitive Endoderm_7.0      32\n",
       "8C_3.0                      30\n",
       "Morula_4.0                  19\n",
       "Primitive Endoderm_6.0      19\n",
       "Inner Cell Mass_7.0         18\n",
       "Epiblast_10.0               14\n",
       "Epiblast_8.0                11\n",
       "Epiblast_9.0                10\n",
       "Primitive Endoderm_10.0      3\n",
       "Primitive Endoderm_9.0       3\n",
       "Primitive Endoderm_8.0       2\n",
       "Inner Cell Mass_9.0          2\n",
       "Name: ct_fine, dtype: int64"
      ]
     },
     "execution_count": 96,
     "metadata": {},
     "output_type": "execute_result"
    }
   ],
   "source": [
    "human_adata.obs.ct_fine.value_counts()"
   ]
  },
  {
   "cell_type": "markdown",
   "id": "6415c695-a0b4-4726-bc28-095836aaaef3",
   "metadata": {},
   "source": [
    "#### Combine Epiblast E8, E9 and E10 into Late Epiblast"
   ]
  },
  {
   "cell_type": "code",
   "execution_count": 97,
   "id": "7d899809-b1fe-487b-a9a5-715f9f7de6b9",
   "metadata": {},
   "outputs": [],
   "source": [
    "human_adata.obs.loc[(human_adata.obs.day >= 8) & (human_adata.obs.ct == 'Epiblast'),'ct_fine'] = 'Late epiblast'"
   ]
  },
  {
   "cell_type": "markdown",
   "id": "0fff50f1-2fdf-4590-a056-2a59db5c140f",
   "metadata": {},
   "source": [
    "#### Combine PrE from all days into PrE"
   ]
  },
  {
   "cell_type": "code",
   "execution_count": 98,
   "id": "a312b989-79ab-47fd-ab3d-56667b20faa8",
   "metadata": {},
   "outputs": [],
   "source": [
    "human_adata.obs.loc[human_adata.obs.ct == 'Primitive Endoderm','ct_fine'] = 'Primitive Endoderm'"
   ]
  },
  {
   "cell_type": "markdown",
   "id": "4cd03dc7-58b6-4252-aae9-164fdbde573d",
   "metadata": {},
   "source": [
    "#### Combine all ICM into one category"
   ]
  },
  {
   "cell_type": "code",
   "execution_count": 99,
   "id": "5c0a0c45-df28-4372-bb5d-f5bc8bdd9af2",
   "metadata": {},
   "outputs": [],
   "source": [
    "human_adata.obs.loc[(human_adata.obs.ct == 'Inner Cell Mass'),'ct_fine'] = 'Inner Cell Mass'"
   ]
  },
  {
   "cell_type": "markdown",
   "id": "310a676b-5459-417c-beab-ce94f9ea4545",
   "metadata": {},
   "source": [
    "## Write out human data"
   ]
  },
  {
   "cell_type": "code",
   "execution_count": 100,
   "id": "3b74a075-6837-49e8-988d-2a2f1f95bb9e",
   "metadata": {},
   "outputs": [
    {
     "data": {
      "text/plain": [
       "Unknown               609\n",
       "Trophectoderm_7.0     462\n",
       "Trophectoderm_6.0     403\n",
       "Trophectoderm_5.0     246\n",
       "Inner Cell Mass       140\n",
       "Epiblast_6.0           76\n",
       "Trophectoderm_10.0     60\n",
       "Primitive Endoderm     59\n",
       "Trophectoderm_9.0      53\n",
       "Epiblast_7.0           46\n",
       "Trophectoderm_8.0      46\n",
       "Prelineage             39\n",
       "Late epiblast          35\n",
       "8C_3.0                 30\n",
       "Morula_4.0             19\n",
       "Name: ct_fine, dtype: int64"
      ]
     },
     "execution_count": 100,
     "metadata": {},
     "output_type": "execute_result"
    }
   ],
   "source": [
    "human_adata.obs.ct_fine.value_counts()"
   ]
  },
  {
   "cell_type": "code",
   "execution_count": 101,
   "id": "7a471420-c891-4174-80e4-c43495578718",
   "metadata": {},
   "outputs": [],
   "source": [
    "human_adata.write_h5ad('../data/processed/32_human_adata.h5ad')"
   ]
  }
 ],
 "metadata": {
  "kernelspec": {
   "display_name": "brickman_scvi-1.0.0",
   "language": "python",
   "name": "brickman_scvi-1.0.0"
  },
  "language_info": {
   "codemirror_mode": {
    "name": "ipython",
    "version": 3
   },
   "file_extension": ".py",
   "mimetype": "text/x-python",
   "name": "python",
   "nbconvert_exporter": "python",
   "pygments_lexer": "ipython3",
   "version": "3.10.11"
  }
 },
 "nbformat": 4,
 "nbformat_minor": 5
}
