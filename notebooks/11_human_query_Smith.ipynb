{
 "cells": [
  {
   "cell_type": "markdown",
   "id": "48f33e51-faf0-4ba7-b48d-bc486b6cbafd",
   "metadata": {},
   "source": [
    "---\n",
    "author: Martin Proks\n",
    "date: 29-01-2024\n",
    "title: Austin Smith paper\n",
    "---"
   ]
  },
  {
   "cell_type": "code",
   "execution_count": 1,
   "id": "86b68880-6d8c-4ceb-8629-e860704d3bc2",
   "metadata": {},
   "outputs": [
    {
     "name": "stderr",
     "output_type": "stream",
     "text": [
      "/home/fdb589/projects/data/Brickman/conda/envs/scvi-1.0.0/lib/python3.10/site-packages/scvi/_settings.py:63: UserWarning: Since v1.0.0, scvi-tools no longer uses a random seed by default. Run `scvi.settings.seed = 0` to reproduce results from previous versions.\n",
      "  self.seed = seed\n",
      "/home/fdb589/projects/data/Brickman/conda/envs/scvi-1.0.0/lib/python3.10/site-packages/scvi/_settings.py:70: UserWarning: Setting `dl_pin_memory_gpu_training` is deprecated in v1.0 and will be removed in v1.1. Please pass in `pin_memory` to the data loaders instead.\n",
      "  self.dl_pin_memory_gpu_training = (\n"
     ]
    }
   ],
   "source": [
    "%matplotlib inline\n",
    "\n",
    "import numpy as np\n",
    "import pandas as pd\n",
    "import seaborn as sns\n",
    "\n",
    "import scvi\n",
    "import scanpy as sc\n",
    "import scanpy.external as sce\n",
    "import scFates as scf\n",
    "import matplotlib.pyplot as plt\n",
    "\n",
    "import warnings\n",
    "from numba.core.errors import NumbaDeprecationWarning\n",
    "warnings.simplefilter('ignore', category=NumbaDeprecationWarning)\n",
    "warnings.simplefilter('ignore', category=FutureWarning)\n",
    "warnings.simplefilter('ignore', category=UserWarning)"
   ]
  },
  {
   "cell_type": "code",
   "execution_count": 2,
   "id": "e9aff247-9e0a-458b-87c1-7e32bc90a669",
   "metadata": {},
   "outputs": [],
   "source": [
    "sc.set_figure_params(figsize=(10, 6))\n",
    "\n",
    "%config InlineBackend.print_figure_kwargs={'facecolor' : \"w\"}\n",
    "%config InlineBackend.figure_format='retina'"
   ]
  },
  {
   "cell_type": "markdown",
   "id": "3aedf957-776e-44ab-8cb5-7027d8b0482d",
   "metadata": {},
   "source": [
    "## Austin Smith dataset"
   ]
  },
  {
   "cell_type": "code",
   "execution_count": 37,
   "id": "6e4d8381-67f4-40e3-a1c0-d1008a9d8592",
   "metadata": {},
   "outputs": [],
   "source": [
    "AS_MATRIX_URL = \"https://ftp.ncbi.nlm.nih.gov/geo/series/GSE166nnn/GSE166422/matrix/GSE166422_series_matrix.txt.gz\""
   ]
  },
  {
   "cell_type": "code",
   "execution_count": 38,
   "id": "c872e732-e728-4df8-8453-d0157c64fe4d",
   "metadata": {},
   "outputs": [],
   "source": [
    "metadata = pd.read_table(AS_MATRIX_URL, skiprows=27, index_col = 0).T"
   ]
  },
  {
   "cell_type": "code",
   "execution_count": 40,
   "id": "ff173cc4-433b-4b97-b233-4fc214eff263",
   "metadata": {},
   "outputs": [],
   "source": [
    "metadata['ID_REF'].to_csv('../pipeline/fetchngs/human_GSE166422.tsv', index=None, header=None, sep='\\t')"
   ]
  },
  {
   "cell_type": "markdown",
   "id": "8344b656-36b9-43bc-ae01-bf30b77b6ea5",
   "metadata": {},
   "source": [
    "## fetch-ngs\n",
    "\n",
    "```\n",
    "nf-core_tower.sh Guo_2021 \\\n",
    "    nextflow run nf-core/fetchngs \\\n",
    "    -r 1.11.0 \\\n",
    "    --input /projects/dan1/data/Brickman/projects/proks-salehin-et-al-2023/pipeline/fetchngs/human_GSE166422.tsv\n",
    "```"
   ]
  },
  {
   "cell_type": "markdown",
   "id": "3ecd1654-8a4b-4b67-a473-7807e03d44d7",
   "metadata": {},
   "source": [
    "## Dataset preprocessing"
   ]
  },
  {
   "cell_type": "code",
   "execution_count": null,
   "id": "982539e1-278b-4feb-af35-6a45f05d7cd8",
   "metadata": {},
   "outputs": [],
   "source": [
    "adata_rivron = sc.read('../data/external/aligned/human/rivron_2022_reprocessed.h5ad')"
   ]
  },
  {
   "cell_type": "code",
   "execution_count": null,
   "id": "05d4c62b-b440-4255-b289-4ca33d795ba8",
   "metadata": {},
   "outputs": [],
   "source": [
    "adata_rivron"
   ]
  },
  {
   "cell_type": "code",
   "execution_count": null,
   "id": "d4957ce2-6256-4b4b-bcd5-5332eed56b7d",
   "metadata": {},
   "outputs": [],
   "source": [
    "gtf = pd.read_table(\"../data/external/human/Homo_sapiens.GRCh38.110.gene_length.tsv\", index_col=0)\n",
    "gene_lengths = gtf[['median']].copy()\n",
    "gene_lengths.columns = ['length']\n",
    "def normalize_smartseq(adata: sc.AnnData, gene_len: pd.DataFrame) -> sc.AnnData:\n",
    "    print(\"SMART-SEQ: Normalization\")\n",
    "\n",
    "    common_genes = adata.var_names.intersection(gene_len.index)\n",
    "    print(f\"SMART-SEQ: Common genes {common_genes.shape[0]}\")\n",
    "\n",
    "    lengths = gene_len.loc[common_genes, \"length\"].values\n",
    "    normalized = sc.AnnData(adata[:, common_genes].X, obs=adata.obs, dtype=np.float32)\n",
    "    normalized.var_names = common_genes\n",
    "    normalized.X = normalized.X / lengths * np.median(lengths)\n",
    "    normalized.X = np.rint(normalized.X)\n",
    "\n",
    "    return normalized"
   ]
  },
  {
   "cell_type": "code",
   "execution_count": null,
   "id": "efa90415-4690-4b82-944e-eccf13abbb03",
   "metadata": {},
   "outputs": [],
   "source": [
    "normalize_smartseq(adata_rivron, gene_lengths)"
   ]
  },
  {
   "cell_type": "code",
   "execution_count": null,
   "id": "1a3f56f9-cccb-4f7b-9a88-65a1c7b235ba",
   "metadata": {},
   "outputs": [],
   "source": [
    "metadata_rivron = adata_rivron.obs"
   ]
  },
  {
   "cell_type": "code",
   "execution_count": null,
   "id": "9b56dc4a-2a17-498e-b6c3-fc43817340a6",
   "metadata": {},
   "outputs": [],
   "source": [
    "metadata_rivron_clean = metadata_rivron.loc[:,['sample']]"
   ]
  },
  {
   "cell_type": "code",
   "execution_count": null,
   "id": "8350906e-c8a5-41e4-bec1-c5e280c9bd9a",
   "metadata": {},
   "outputs": [],
   "source": [
    "metadata_rivron_clean['sample_title'] = metadata_rivron.sample_title.str.extract(r'^(.*)-', expand = False)"
   ]
  },
  {
   "cell_type": "code",
   "execution_count": null,
   "id": "b7983c7a-8c4f-412b-a492-6a241a208e0c",
   "metadata": {},
   "outputs": [],
   "source": [
    "metadata_rivron_clean.sample_title.unique()"
   ]
  },
  {
   "cell_type": "code",
   "execution_count": null,
   "id": "2e947647-1d8a-4a32-83ca-168d6e2b2265",
   "metadata": {},
   "outputs": [],
   "source": [
    "metadata_rivron_clean = metadata_rivron_clean.loc[metadata_rivron_clean.sample_title.isin(['blastoid 96h TROP2 pl', 'naive H9', 'blastoid 24h', 'blastoid 60h TROP2 pl', 'blastoid 60h TROP2 min', 'blastoid 96h DN', 'blastoid 96h PDGFRa pl', 'blastoid 60h PDGFRa pl'])].copy()"
   ]
  },
  {
   "cell_type": "code",
   "execution_count": null,
   "id": "e7ccafa5-6afb-49b7-8407-a9998656979d",
   "metadata": {},
   "outputs": [],
   "source": [
    "metadata_rivron_clean['batch'] = 'Rivron'\n",
    "metadata_rivron_clean['time'] = metadata_rivron_clean['sample_title']\n",
    "metadata_rivron_clean['flow'] = metadata_rivron_clean['sample_title']"
   ]
  },
  {
   "cell_type": "code",
   "execution_count": null,
   "id": "305d0d2b-598a-4516-ab4a-22521d76525f",
   "metadata": {},
   "outputs": [],
   "source": [
    "time_replace_dict = {\n",
    "    'naive H9': '0h',\n",
    "    'blastoid 24h': '24h',\n",
    "    'blastoid 60h TROP2 pl': '60h',\n",
    "    'blastoid 60h TROP2 min': '60h',\n",
    "    'blastoid 60h PDGFRa pl': '60h',\n",
    "    'blastoid 96h DN': '96h',\n",
    "    'blastoid 96h PDGFRa pl': '96h',\n",
    "    'blastoid 96h TROP2 pl': '96h'\n",
    "}\n",
    "\n",
    "flow_replace_dict = {\n",
    "    'naive H9': 'naive',\n",
    "    'blastoid 24h': 'na',\n",
    "    'blastoid 60h TROP2 pl': 'TROP2+',\n",
    "    'blastoid 60h TROP2 min': 'TROP2-',\n",
    "    'blastoid 60h PDGFRa pl': 'PDGFRA+',\n",
    "    'blastoid 96h DN': 'Double-neg',\n",
    "    'blastoid 96h PDGFRa pl': 'PDGFRA+',\n",
    "    'blastoid 96h TROP2 pl': 'TROP2+'\n",
    "}\n",
    "\n",
    "metadata_rivron_clean = metadata_rivron_clean.replace({'time': time_replace_dict, 'flow': flow_replace_dict})"
   ]
  },
  {
   "cell_type": "code",
   "execution_count": null,
   "id": "4e34fc7c-d0f5-4100-bfad-ca4987b3f119",
   "metadata": {},
   "outputs": [],
   "source": [
    "adata_rivron = adata_rivron[metadata_rivron_clean.index].copy()"
   ]
  },
  {
   "cell_type": "code",
   "execution_count": null,
   "id": "d904eb42-0d47-42c7-8272-827c5ad0dbd5",
   "metadata": {},
   "outputs": [],
   "source": [
    "adata_rivron.obs = metadata_rivron_clean"
   ]
  },
  {
   "cell_type": "code",
   "execution_count": null,
   "id": "3f674760-e436-41ee-a0d6-312ae7f9007f",
   "metadata": {},
   "outputs": [],
   "source": [
    "adata_rivron"
   ]
  },
  {
   "cell_type": "code",
   "execution_count": null,
   "id": "d6676568-4bd0-46ce-8da2-f6d512766950",
   "metadata": {},
   "outputs": [],
   "source": [
    "adata_rivron.var['mt'] = adata_rivron.var.gene_symbol.str.startswith('MT-')\n",
    "\n"
   ]
  },
  {
   "cell_type": "code",
   "execution_count": null,
   "id": "a0f039e6-bc1a-4371-a630-47eb844d3c7d",
   "metadata": {},
   "outputs": [],
   "source": [
    "sc.pp.calculate_qc_metrics(adata_rivron, qc_vars=['mt'], percent_top=None, log1p=False, inplace=True)"
   ]
  },
  {
   "cell_type": "code",
   "execution_count": null,
   "id": "649b256e-6e3e-4539-a601-23c739d88f02",
   "metadata": {},
   "outputs": [],
   "source": [
    "sns.violinplot(y=adata_rivron.obs['pct_counts_mt'], orient='v')"
   ]
  },
  {
   "cell_type": "code",
   "execution_count": null,
   "id": "5184f9ad-c772-4c71-b0d1-6d9aa9d85bd3",
   "metadata": {},
   "outputs": [],
   "source": [
    "adata_rivron.obs"
   ]
  },
  {
   "cell_type": "code",
   "execution_count": null,
   "id": "8a6145d4-ac38-4a1b-beaf-7935df5fdbe7",
   "metadata": {},
   "outputs": [],
   "source": [
    "sns.scatterplot(x='total_counts', y='n_genes_by_counts', data=adata_rivron.obs, hue='batch')"
   ]
  },
  {
   "cell_type": "code",
   "execution_count": null,
   "id": "0bf4d8a7-201a-4e20-ac60-0a6b26c3ea89",
   "metadata": {},
   "outputs": [],
   "source": [
    "adata_rivron = adata_rivron[adata_rivron.obs.pct_counts_mt < 12.5].copy()\n",
    "sc.pp.filter_cells(adata_rivron, min_counts=2.5e5)\n",
    "sc.pp.filter_cells(adata_rivron, max_counts=2.5e6)\n",
    "sc.pp.filter_cells(adata_rivron, min_genes=2_000)\n",
    "adata_rivron.layers[\"counts\"] = adata_rivron.X.copy()\n",
    "sc.pp.normalize_total(adata_rivron, target_sum=10_000)\n",
    "sc.pp.log1p(adata_rivron)\n",
    "adata_rivron.raw = adata_rivron"
   ]
  },
  {
   "cell_type": "code",
   "execution_count": null,
   "id": "ffde4b07-f36c-41b9-8b55-114ba0ec1e8a",
   "metadata": {},
   "outputs": [],
   "source": [
    "# remove mitochondrial genes\n",
    "adata_rivron = adata_rivron[:, adata_rivron.var[~adata_rivron.var.gene_symbol.str.startswith('MT-')].index].copy()\n",
    "\n",
    "# remove ribosomal genes\n",
    "adata_rivron = adata_rivron[:, adata_rivron.var[~adata_rivron.var.gene_symbol.str.startswith(('RPS', 'RPL'))].index].copy()"
   ]
  },
  {
   "cell_type": "code",
   "execution_count": null,
   "id": "ea576fc0-3ddf-41e4-8623-d72c3c145e25",
   "metadata": {},
   "outputs": [],
   "source": [
    "adata_rivron.write_h5ad('../results/06_human_Rivron.h5ad')"
   ]
  },
  {
   "cell_type": "code",
   "execution_count": null,
   "id": "555acb6c-3930-4807-aeb1-8cd13500da3c",
   "metadata": {},
   "outputs": [],
   "source": [
    "query = sc.read_h5ad('../results/06_human_Rivron.h5ad')\n",
    "query.obs['experiment'] = 'Rivron'\n",
    "query"
   ]
  },
  {
   "cell_type": "code",
   "execution_count": null,
   "id": "c4fd6495-1721-41ef-a1bf-44a1e2d96a8d",
   "metadata": {},
   "outputs": [],
   "source": [
    "lvae = scvi.model.SCANVI.load(\"../results/02_human_integration/05_scanvi_ns15/\")\n",
    "#lvae = scvi.model.SCANVI.load(\"../results/deprecated/human_integration/version_1/scanvi/\")"
   ]
  },
  {
   "cell_type": "code",
   "execution_count": null,
   "id": "d8038849-776d-426f-be8b-eaa11d8bfad3",
   "metadata": {},
   "outputs": [],
   "source": [
    "scvi.model.SCVI.prepare_query_anndata(query, lvae)"
   ]
  },
  {
   "cell_type": "code",
   "execution_count": null,
   "id": "72122b0d-99e7-4c2a-a51a-345ec88ff154",
   "metadata": {},
   "outputs": [],
   "source": [
    "lvae_q = scvi.model.SCANVI.load_query_data(query, lvae)"
   ]
  },
  {
   "cell_type": "code",
   "execution_count": null,
   "id": "34bf38ef-e77b-4f25-91ee-826a4d6944ce",
   "metadata": {},
   "outputs": [],
   "source": [
    "lvae_q.train(\n",
    "    max_epochs=100,\n",
    "    plan_kwargs=dict(weight_decay=0.0),\n",
    "    check_val_every_n_epoch=10,\n",
    "    early_stopping=True\n",
    ")"
   ]
  },
  {
   "cell_type": "code",
   "execution_count": null,
   "id": "0a55925d-7b9f-4fca-83ed-7d973e124091",
   "metadata": {},
   "outputs": [],
   "source": [
    "query.obsm[\"X_scANVI\"] = lvae_q.get_latent_representation()\n",
    "query.obs[\"predictions\"] = lvae_q.predict()\n",
    "query.obs['entropy'] = 1 - lvae_q.predict(soft=True).max(axis=1)"
   ]
  },
  {
   "cell_type": "code",
   "execution_count": null,
   "id": "df57611c-6e5f-4267-91f1-5c9bed05e7b7",
   "metadata": {},
   "outputs": [],
   "source": [
    "pd.crosstab(query.obs.predictions, query.obs.flow)"
   ]
  },
  {
   "cell_type": "code",
   "execution_count": null,
   "id": "b52007d3-79d4-4156-9c0d-9ec6fb47db03",
   "metadata": {},
   "outputs": [],
   "source": [
    "pd.crosstab(query.obs.predictions, query.obs.time)"
   ]
  },
  {
   "cell_type": "code",
   "execution_count": null,
   "id": "39a85554-2fc6-46e0-9dfb-9f6b4f1cb2ea",
   "metadata": {},
   "outputs": [],
   "source": [
    "sc.pp.highly_variable_genes(\n",
    "    query,\n",
    "    flavor=\"seurat_v3\",\n",
    "    n_top_genes=5_000,\n",
    "    layer=\"counts\",\n",
    "    batch_key=\"batch\",\n",
    "    subset=True,\n",
    ")\n",
    "sc.pp.neighbors(query)\n",
    "sc.tl.umap(query)"
   ]
  },
  {
   "cell_type": "code",
   "execution_count": null,
   "id": "17b7a84f-1f8d-4951-a212-f230f1c71680",
   "metadata": {},
   "outputs": [],
   "source": [
    "sc.pl.umap(query, color=['predictions','time', 'flow', 'entropy'], ncols=1)"
   ]
  },
  {
   "cell_type": "code",
   "execution_count": null,
   "id": "853e5af6-bb17-4f84-8516-ef9ff34cb517",
   "metadata": {},
   "outputs": [],
   "source": []
  }
 ],
 "metadata": {
  "kernelspec": {
   "display_name": "Python [conda env:conda-scvi-1.0.0]",
   "language": "python",
   "name": "conda-env-conda-scvi-1.0.0-py"
  },
  "language_info": {
   "codemirror_mode": {
    "name": "ipython",
    "version": 3
   },
   "file_extension": ".py",
   "mimetype": "text/x-python",
   "name": "python",
   "nbconvert_exporter": "python",
   "pygments_lexer": "ipython3",
   "version": "3.10.11"
  }
 },
 "nbformat": 4,
 "nbformat_minor": 5
}
