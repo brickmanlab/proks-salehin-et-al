{
 "cells": [
  {
   "cell_type": "markdown",
   "id": "f9ed6aec-e9ee-4a93-9601-043faace0e5e",
   "metadata": {},
   "source": [
    "---\n",
    "author: Nazmus Salehin\n",
    "date: 12-01-2024\n",
    "title: \"Human CellRank\"\n",
    "---"
   ]
  },
  {
   "cell_type": "code",
   "execution_count": 1,
   "id": "f70dd9eb-0760-44ba-b3dd-198085089340",
   "metadata": {},
   "outputs": [],
   "source": [
    "import cellrank as cr\n",
    "import scanpy as sc\n",
    "\n",
    "sc.settings.set_figure_params(frameon=False, dpi=100)\n",
    "cr.settings.verbosity = 2\n",
    "\n",
    "import warnings\n",
    "warnings.simplefilter(\"ignore\", category=UserWarning)\n",
    "\n",
    "import scvelo as scv\n",
    "scv.set_figure_params('scvelo')\n",
    "\n",
    "import pandas as pd\n",
    "import numpy as np\n",
    "import matplotlib.pyplot as plt\n",
    "import seaborn as sns"
   ]
  },
  {
   "cell_type": "code",
   "execution_count": 2,
   "id": "24490633-e35c-407b-a692-1481a875d955",
   "metadata": {},
   "outputs": [],
   "source": [
    "human_adata = sc.read('../results/02_human_integration/scvi/adata.h5ad')"
   ]
  },
  {
   "cell_type": "code",
   "execution_count": 3,
   "id": "787b5d37-105f-4894-b96d-7809a41e38e1",
   "metadata": {},
   "outputs": [
    {
     "data": {
      "text/html": [
       "<div>\n",
       "<style scoped>\n",
       "    .dataframe tbody tr th:only-of-type {\n",
       "        vertical-align: middle;\n",
       "    }\n",
       "\n",
       "    .dataframe tbody tr th {\n",
       "        vertical-align: top;\n",
       "    }\n",
       "\n",
       "    .dataframe thead th {\n",
       "        text-align: right;\n",
       "    }\n",
       "</style>\n",
       "<table border=\"1\" class=\"dataframe\">\n",
       "  <thead>\n",
       "    <tr style=\"text-align: right;\">\n",
       "      <th></th>\n",
       "      <th>day</th>\n",
       "      <th>ct</th>\n",
       "      <th>experiment</th>\n",
       "      <th>technology</th>\n",
       "      <th>n_counts</th>\n",
       "      <th>n_genes</th>\n",
       "      <th>ct_fine</th>\n",
       "      <th>batch</th>\n",
       "      <th>stage</th>\n",
       "      <th>timepoint</th>\n",
       "      <th>ct_orig</th>\n",
       "      <th>_scvi_batch</th>\n",
       "      <th>_scvi_labels</th>\n",
       "    </tr>\n",
       "    <tr>\n",
       "      <th>index</th>\n",
       "      <th></th>\n",
       "      <th></th>\n",
       "      <th></th>\n",
       "      <th></th>\n",
       "      <th></th>\n",
       "      <th></th>\n",
       "      <th></th>\n",
       "      <th></th>\n",
       "      <th></th>\n",
       "      <th></th>\n",
       "      <th></th>\n",
       "      <th></th>\n",
       "      <th></th>\n",
       "    </tr>\n",
       "  </thead>\n",
       "  <tbody>\n",
       "    <tr>\n",
       "      <th>ERX3015937_ERX3015937</th>\n",
       "      <td>5.0</td>\n",
       "      <td>Unknown</td>\n",
       "      <td>Meistermann et al., 2021</td>\n",
       "      <td>SMARTSeq2</td>\n",
       "      <td>708313.0</td>\n",
       "      <td>5761</td>\n",
       "      <td>Unknown</td>\n",
       "      <td>Meistermann et al., 2021</td>\n",
       "      <td>Unknown</td>\n",
       "      <td>E5.0</td>\n",
       "      <td>Unknown</td>\n",
       "      <td>0</td>\n",
       "      <td>0</td>\n",
       "    </tr>\n",
       "    <tr>\n",
       "      <th>ERX3015939_ERX3015939</th>\n",
       "      <td>5.0</td>\n",
       "      <td>Unknown</td>\n",
       "      <td>Meistermann et al., 2021</td>\n",
       "      <td>SMARTSeq2</td>\n",
       "      <td>402557.0</td>\n",
       "      <td>5689</td>\n",
       "      <td>Unknown</td>\n",
       "      <td>Meistermann et al., 2021</td>\n",
       "      <td>Unknown</td>\n",
       "      <td>E5.0</td>\n",
       "      <td>Unknown</td>\n",
       "      <td>0</td>\n",
       "      <td>0</td>\n",
       "    </tr>\n",
       "    <tr>\n",
       "      <th>ERX3015940_ERX3015940</th>\n",
       "      <td>5.0</td>\n",
       "      <td>Unknown</td>\n",
       "      <td>Meistermann et al., 2021</td>\n",
       "      <td>SMARTSeq2</td>\n",
       "      <td>511338.0</td>\n",
       "      <td>6039</td>\n",
       "      <td>Unknown</td>\n",
       "      <td>Meistermann et al., 2021</td>\n",
       "      <td>Unknown</td>\n",
       "      <td>E5.0</td>\n",
       "      <td>Unknown</td>\n",
       "      <td>0</td>\n",
       "      <td>0</td>\n",
       "    </tr>\n",
       "    <tr>\n",
       "      <th>ERX3015941_ERX3015941</th>\n",
       "      <td>5.0</td>\n",
       "      <td>Unknown</td>\n",
       "      <td>Meistermann et al., 2021</td>\n",
       "      <td>SMARTSeq2</td>\n",
       "      <td>994383.0</td>\n",
       "      <td>8383</td>\n",
       "      <td>Unknown</td>\n",
       "      <td>Meistermann et al., 2021</td>\n",
       "      <td>Unknown</td>\n",
       "      <td>E5.0</td>\n",
       "      <td>Unknown</td>\n",
       "      <td>0</td>\n",
       "      <td>0</td>\n",
       "    </tr>\n",
       "    <tr>\n",
       "      <th>ERX3015936_ERX3015936</th>\n",
       "      <td>5.0</td>\n",
       "      <td>Unknown</td>\n",
       "      <td>Meistermann et al., 2021</td>\n",
       "      <td>SMARTSeq2</td>\n",
       "      <td>1389486.0</td>\n",
       "      <td>7762</td>\n",
       "      <td>Unknown</td>\n",
       "      <td>Meistermann et al., 2021</td>\n",
       "      <td>Unknown</td>\n",
       "      <td>E5.0</td>\n",
       "      <td>Unknown</td>\n",
       "      <td>0</td>\n",
       "      <td>0</td>\n",
       "    </tr>\n",
       "  </tbody>\n",
       "</table>\n",
       "</div>"
      ],
      "text/plain": [
       "                       day       ct                experiment technology  \\\n",
       "index                                                                      \n",
       "ERX3015937_ERX3015937  5.0  Unknown  Meistermann et al., 2021  SMARTSeq2   \n",
       "ERX3015939_ERX3015939  5.0  Unknown  Meistermann et al., 2021  SMARTSeq2   \n",
       "ERX3015940_ERX3015940  5.0  Unknown  Meistermann et al., 2021  SMARTSeq2   \n",
       "ERX3015941_ERX3015941  5.0  Unknown  Meistermann et al., 2021  SMARTSeq2   \n",
       "ERX3015936_ERX3015936  5.0  Unknown  Meistermann et al., 2021  SMARTSeq2   \n",
       "\n",
       "                        n_counts  n_genes  ct_fine                     batch  \\\n",
       "index                                                                          \n",
       "ERX3015937_ERX3015937   708313.0     5761  Unknown  Meistermann et al., 2021   \n",
       "ERX3015939_ERX3015939   402557.0     5689  Unknown  Meistermann et al., 2021   \n",
       "ERX3015940_ERX3015940   511338.0     6039  Unknown  Meistermann et al., 2021   \n",
       "ERX3015941_ERX3015941   994383.0     8383  Unknown  Meistermann et al., 2021   \n",
       "ERX3015936_ERX3015936  1389486.0     7762  Unknown  Meistermann et al., 2021   \n",
       "\n",
       "                         stage timepoint  ct_orig  _scvi_batch  _scvi_labels  \n",
       "index                                                                         \n",
       "ERX3015937_ERX3015937  Unknown      E5.0  Unknown            0             0  \n",
       "ERX3015939_ERX3015939  Unknown      E5.0  Unknown            0             0  \n",
       "ERX3015940_ERX3015940  Unknown      E5.0  Unknown            0             0  \n",
       "ERX3015941_ERX3015941  Unknown      E5.0  Unknown            0             0  \n",
       "ERX3015936_ERX3015936  Unknown      E5.0  Unknown            0             0  "
      ]
     },
     "execution_count": 3,
     "metadata": {},
     "output_type": "execute_result"
    }
   ],
   "source": [
    "human_adata.obs.head()"
   ]
  },
  {
   "cell_type": "code",
   "execution_count": 4,
   "id": "8079fab0-80bc-4dbb-9c88-dd09a4c8484d",
   "metadata": {},
   "outputs": [
    {
     "name": "stderr",
     "output_type": "stream",
     "text": [
      "2024-01-12 13:25:32.739451: W tensorflow/compiler/tf2tensorrt/utils/py_utils.cc:38] TF-TRT Warning: Could not find TensorRT\n"
     ]
    },
    {
     "ename": "KeyError",
     "evalue": "\"`groups` key 'C_scANVI_nsamples' not found in `adata.obs`.\"",
     "output_type": "error",
     "traceback": [
      "\u001b[0;31m---------------------------------------------------------------------------\u001b[0m",
      "\u001b[0;31mKeyError\u001b[0m                                  Traceback (most recent call last)",
      "Cell \u001b[0;32mIn[4], line 4\u001b[0m\n\u001b[1;32m      1\u001b[0m sc\u001b[38;5;241m.\u001b[39mpp\u001b[38;5;241m.\u001b[39mneighbors(human_adata, use_rep\u001b[38;5;241m=\u001b[39m\u001b[38;5;124m'\u001b[39m\u001b[38;5;124mX_scVI\u001b[39m\u001b[38;5;124m'\u001b[39m)\n\u001b[1;32m      2\u001b[0m sc\u001b[38;5;241m.\u001b[39mtl\u001b[38;5;241m.\u001b[39mdiffmap(human_adata)\n\u001b[0;32m----> 4\u001b[0m \u001b[43msc\u001b[49m\u001b[38;5;241;43m.\u001b[39;49m\u001b[43mtl\u001b[49m\u001b[38;5;241;43m.\u001b[39;49m\u001b[43mpaga\u001b[49m\u001b[43m(\u001b[49m\u001b[43mhuman_adata\u001b[49m\u001b[43m,\u001b[49m\u001b[43m \u001b[49m\u001b[43mgroups\u001b[49m\u001b[38;5;241;43m=\u001b[39;49m\u001b[38;5;124;43m'\u001b[39;49m\u001b[38;5;124;43mC_scANVI_nsamples\u001b[39;49m\u001b[38;5;124;43m'\u001b[39;49m\u001b[43m)\u001b[49m\n\u001b[1;32m      5\u001b[0m sc\u001b[38;5;241m.\u001b[39mpl\u001b[38;5;241m.\u001b[39mpaga(human_adata, color\u001b[38;5;241m=\u001b[39m[\u001b[38;5;124m'\u001b[39m\u001b[38;5;124mC_scANVI_nsamples\u001b[39m\u001b[38;5;124m'\u001b[39m], frameon\u001b[38;5;241m=\u001b[39m\u001b[38;5;28;01mFalse\u001b[39;00m, fontoutline\u001b[38;5;241m=\u001b[39m\u001b[38;5;28;01mTrue\u001b[39;00m)\n\u001b[1;32m      6\u001b[0m sc\u001b[38;5;241m.\u001b[39mtl\u001b[38;5;241m.\u001b[39mdraw_graph(human_adata, init_pos\u001b[38;5;241m=\u001b[39m\u001b[38;5;124m'\u001b[39m\u001b[38;5;124mpaga\u001b[39m\u001b[38;5;124m'\u001b[39m, n_jobs\u001b[38;5;241m=\u001b[39m\u001b[38;5;241m10\u001b[39m)\n",
      "File \u001b[0;32m~/projects/data/Brickman/conda/envs/scvi-1.0.0/lib/python3.10/site-packages/scanpy/tools/_paga.py:114\u001b[0m, in \u001b[0;36mpaga\u001b[0;34m(adata, groups, use_rna_velocity, model, neighbors_key, copy)\u001b[0m\n\u001b[1;32m    109\u001b[0m     \u001b[38;5;28;01mraise\u001b[39;00m \u001b[38;5;167;01mValueError\u001b[39;00m(\n\u001b[1;32m    110\u001b[0m         \u001b[38;5;124m'\u001b[39m\u001b[38;5;124mYou need to run `tl.leiden` or `tl.louvain` to compute \u001b[39m\u001b[38;5;124m'\u001b[39m\n\u001b[1;32m    111\u001b[0m         \u001b[38;5;124m\"\u001b[39m\u001b[38;5;124mcommunity labels, or specify `groups=\u001b[39m\u001b[38;5;124m'\u001b[39m\u001b[38;5;124man_existing_key\u001b[39m\u001b[38;5;124m'\u001b[39m\u001b[38;5;124m`\u001b[39m\u001b[38;5;124m\"\u001b[39m\n\u001b[1;32m    112\u001b[0m     )\n\u001b[1;32m    113\u001b[0m \u001b[38;5;28;01melif\u001b[39;00m groups \u001b[38;5;129;01mnot\u001b[39;00m \u001b[38;5;129;01min\u001b[39;00m adata\u001b[38;5;241m.\u001b[39mobs\u001b[38;5;241m.\u001b[39mcolumns:\n\u001b[0;32m--> 114\u001b[0m     \u001b[38;5;28;01mraise\u001b[39;00m \u001b[38;5;167;01mKeyError\u001b[39;00m(\u001b[38;5;124mf\u001b[39m\u001b[38;5;124m'\u001b[39m\u001b[38;5;124m`groups` key \u001b[39m\u001b[38;5;132;01m{\u001b[39;00mgroups\u001b[38;5;132;01m!r}\u001b[39;00m\u001b[38;5;124m not found in `adata.obs`.\u001b[39m\u001b[38;5;124m'\u001b[39m)\n\u001b[1;32m    116\u001b[0m adata \u001b[38;5;241m=\u001b[39m adata\u001b[38;5;241m.\u001b[39mcopy() \u001b[38;5;28;01mif\u001b[39;00m copy \u001b[38;5;28;01melse\u001b[39;00m adata\n\u001b[1;32m    117\u001b[0m _utils\u001b[38;5;241m.\u001b[39msanitize_anndata(adata)\n",
      "\u001b[0;31mKeyError\u001b[0m: \"`groups` key 'C_scANVI_nsamples' not found in `adata.obs`.\""
     ]
    }
   ],
   "source": [
    "sc.pp.neighbors(human_adata, use_rep='X_scVI')\n",
    "sc.tl.diffmap(human_adata)\n",
    "\n",
    "sc.tl.paga(human_adata, groups='C_scANVI_nsamples')\n",
    "sc.pl.paga(human_adata, color=['C_scANVI_nsamples'], frameon=False, fontoutline=True)\n",
    "sc.tl.draw_graph(human_adata, init_pos='paga', n_jobs=10)"
   ]
  },
  {
   "cell_type": "code",
   "execution_count": null,
   "id": "46446eeb-6538-4fa5-bced-d838a0deedf1",
   "metadata": {},
   "outputs": [],
   "source": [
    "sc.pl.paga(human_adata, color=['C_scANVI_nsamples'], frameon=False, fontoutline=True, threshold=0.2)"
   ]
  },
  {
   "cell_type": "code",
   "execution_count": null,
   "id": "e95ca0b9-76d7-4f59-b88f-6fee88948ee5",
   "metadata": {},
   "outputs": [],
   "source": [
    "sc.pl.embedding(human_adata, basis=\"X_draw_graph_fa\", color=[\"day\"])"
   ]
  },
  {
   "cell_type": "markdown",
   "id": "29148987-0d06-47d9-967f-3c229989ac58",
   "metadata": {},
   "source": [
    "## Cellrank experimental time kernel"
   ]
  },
  {
   "cell_type": "code",
   "execution_count": null,
   "id": "72d6890c-e28c-4274-96d9-26cff5072035",
   "metadata": {},
   "outputs": [],
   "source": [
    "human_adata.obs.day.value_counts()"
   ]
  },
  {
   "cell_type": "code",
   "execution_count": null,
   "id": "ef550c79-aaca-4450-be56-c4d693c26361",
   "metadata": {},
   "outputs": [],
   "source": [
    "human_adata_8C_and_later = human_adata[human_adata.obs.day >= 3].copy()"
   ]
  },
  {
   "cell_type": "code",
   "execution_count": null,
   "id": "dcf3ef52-a804-4bc1-b8d9-2d0bd9c0e3de",
   "metadata": {},
   "outputs": [],
   "source": [
    "from cellrank.kernels import RealTimeKernel"
   ]
  },
  {
   "cell_type": "code",
   "execution_count": null,
   "id": "b8381c47-1934-4671-b6d4-794f4452b101",
   "metadata": {},
   "outputs": [],
   "source": [
    "human_adata.obs['day_categorical'] = human_adata.obs['day'].astype('category')"
   ]
  },
  {
   "cell_type": "code",
   "execution_count": null,
   "id": "90328c0f-f16f-4d0b-9c0a-9ae9cf956c93",
   "metadata": {},
   "outputs": [],
   "source": [
    "from moscot.problems.time import TemporalProblem"
   ]
  },
  {
   "cell_type": "code",
   "execution_count": null,
   "id": "5547b426-6778-4dae-a0f9-7f944b56a283",
   "metadata": {},
   "outputs": [],
   "source": [
    "tp = TemporalProblem(human_adata_8C_and_later)"
   ]
  },
  {
   "cell_type": "code",
   "execution_count": null,
   "id": "2b2ce8a3-e312-4999-b2c1-93010e62df83",
   "metadata": {},
   "outputs": [],
   "source": [
    "tp = tp.prepare(time_key=\"day_categorical\")"
   ]
  },
  {
   "cell_type": "code",
   "execution_count": null,
   "id": "942c377b-7efc-476d-9cca-68177dd9faa9",
   "metadata": {},
   "outputs": [],
   "source": [
    "tp = tp.solve(epsilon=1e-3, tau_a=0.95, scale_cost=\"mean\")"
   ]
  },
  {
   "cell_type": "code",
   "execution_count": null,
   "id": "0a2816ba-15ba-4b6f-a219-323aef37c7fb",
   "metadata": {},
   "outputs": [],
   "source": [
    "tmk = RealTimeKernel.from_moscot(tp)"
   ]
  },
  {
   "cell_type": "code",
   "execution_count": null,
   "id": "a76f4a2f-b316-466e-8d47-b171bcaf92d5",
   "metadata": {},
   "outputs": [],
   "source": [
    "tmk.compute_transition_matrix(self_transitions=\"all\", conn_weight=0.2, threshold=\"auto\")"
   ]
  },
  {
   "cell_type": "code",
   "execution_count": null,
   "id": "a1a08609-9535-44e0-8c2c-88d2def5aa06",
   "metadata": {},
   "outputs": [],
   "source": [
    "tmk.plot_random_walks(\n",
    "    max_iter=500,\n",
    "    start_ixs={\"day_categorical\": 3.0},\n",
    "    basis=\"draw_graph_fa\",\n",
    "    seed=0,\n",
    "    dpi=150,\n",
    "    size=30,\n",
    ")"
   ]
  },
  {
   "cell_type": "code",
   "execution_count": null,
   "id": "65528800-ea45-471c-9dbd-bcb5b70e6e35",
   "metadata": {},
   "outputs": [],
   "source": [
    "from cellrank.kernels import PseudotimeKernel\n",
    "pk = PseudotimeKernel(human_adata, time_key=\"day\")\n",
    "pk.compute_transition_matrix()"
   ]
  },
  {
   "cell_type": "code",
   "execution_count": null,
   "id": "20627559-96ca-4bba-a159-889f83c8d14c",
   "metadata": {},
   "outputs": [],
   "source": [
    "pk.plot_random_walks(\n",
    "    seed=0,\n",
    "    n_sims=100,\n",
    "    start_ixs={\"C_scANVI_nsamples\": \"Prelineage\"},\n",
    "    basis=\"X_draw_graph_fa\",\n",
    "    legend_loc=\"right\",\n",
    "    dpi=150,\n",
    ")"
   ]
  },
  {
   "cell_type": "code",
   "execution_count": null,
   "id": "da971fc8-09c7-4066-9835-398c4f3d3e29",
   "metadata": {},
   "outputs": [],
   "source": [
    "pk.plot_projection(basis=\"X_draw_graph_fa\", recompute=True, color='C_scANVI_nsamples')"
   ]
  }
 ],
 "metadata": {
  "kernelspec": {
   "display_name": "Python [conda env:conda-scvi-1.0.0]",
   "language": "python",
   "name": "conda-env-conda-scvi-1.0.0-py"
  },
  "language_info": {
   "codemirror_mode": {
    "name": "ipython",
    "version": 3
   },
   "file_extension": ".py",
   "mimetype": "text/x-python",
   "name": "python",
   "nbconvert_exporter": "python",
   "pygments_lexer": "ipython3",
   "version": "3.10.11"
  }
 },
 "nbformat": 4,
 "nbformat_minor": 5
}
