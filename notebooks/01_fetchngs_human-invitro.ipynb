{
 "cells": [
  {
   "cell_type": "markdown",
   "id": "b1a2eb51-9437-47cf-ae43-049d4e035a75",
   "metadata": {},
   "source": [
    "---\n",
    "title: 01 - NGS collection [human]\n",
    "author: Martin Proks\n",
    "date: 16-08-2023\n",
    "---"
   ]
  },
  {
   "cell_type": "code",
   "execution_count": 1,
   "id": "1fa18631-343c-4835-8b4b-c93e657e8465",
   "metadata": {},
   "outputs": [],
   "source": [
    "import pandas as pd"
   ]
  },
  {
   "cell_type": "markdown",
   "id": "57ae5ed5-6ee1-4e80-be11-973e8cc3f0c8",
   "metadata": {},
   "source": [
    "## Kagawa et al., 2022 [GSE177616]"
   ]
  },
  {
   "cell_type": "code",
   "execution_count": 33,
   "id": "7288a7c1-188b-422b-a7d0-e7e2a3dadfe1",
   "metadata": {},
   "outputs": [],
   "source": [
    "KAGAWA_URL='https://ftp.ncbi.nlm.nih.gov/geo/series/GSE177nnn/GSE177616/matrix/GSE177616_series_matrix.txt.gz'\n",
    "kagawa_metadata = pd.read_table(KAGAWA_URL, skiprows=16, nrows=1, index_col = 0).T"
   ]
  },
  {
   "cell_type": "code",
   "execution_count": 38,
   "id": "f1083da9-0631-4779-914e-49d1e1c70cd5",
   "metadata": {},
   "outputs": [],
   "source": [
    "kagawa_gsm = pd.DataFrame({'GSM': kagawa_metadata.index.values[0].split(' ')})"
   ]
  },
  {
   "cell_type": "code",
   "execution_count": 39,
   "id": "8b6589e8-017a-4823-a366-dd30455abd6e",
   "metadata": {},
   "outputs": [
    {
     "data": {
      "text/html": [
       "<div>\n",
       "<style scoped>\n",
       "    .dataframe tbody tr th:only-of-type {\n",
       "        vertical-align: middle;\n",
       "    }\n",
       "\n",
       "    .dataframe tbody tr th {\n",
       "        vertical-align: top;\n",
       "    }\n",
       "\n",
       "    .dataframe thead th {\n",
       "        text-align: right;\n",
       "    }\n",
       "</style>\n",
       "<table border=\"1\" class=\"dataframe\">\n",
       "  <thead>\n",
       "    <tr style=\"text-align: right;\">\n",
       "      <th></th>\n",
       "      <th>GSM</th>\n",
       "    </tr>\n",
       "  </thead>\n",
       "  <tbody>\n",
       "    <tr>\n",
       "      <th>0</th>\n",
       "      <td>GSM5375527</td>\n",
       "    </tr>\n",
       "    <tr>\n",
       "      <th>1</th>\n",
       "      <td>GSM5375528</td>\n",
       "    </tr>\n",
       "    <tr>\n",
       "      <th>2</th>\n",
       "      <td>GSM5375529</td>\n",
       "    </tr>\n",
       "    <tr>\n",
       "      <th>3</th>\n",
       "      <td>GSM5375530</td>\n",
       "    </tr>\n",
       "    <tr>\n",
       "      <th>4</th>\n",
       "      <td>GSM5375531</td>\n",
       "    </tr>\n",
       "    <tr>\n",
       "      <th>...</th>\n",
       "      <td>...</td>\n",
       "    </tr>\n",
       "    <tr>\n",
       "      <th>2711</th>\n",
       "      <td>GSM5378537</td>\n",
       "    </tr>\n",
       "    <tr>\n",
       "      <th>2712</th>\n",
       "      <td>GSM5378538</td>\n",
       "    </tr>\n",
       "    <tr>\n",
       "      <th>2713</th>\n",
       "      <td>GSM5378539</td>\n",
       "    </tr>\n",
       "    <tr>\n",
       "      <th>2714</th>\n",
       "      <td>GSM5378540</td>\n",
       "    </tr>\n",
       "    <tr>\n",
       "      <th>2715</th>\n",
       "      <td></td>\n",
       "    </tr>\n",
       "  </tbody>\n",
       "</table>\n",
       "<p>2716 rows × 1 columns</p>\n",
       "</div>"
      ],
      "text/plain": [
       "             GSM\n",
       "0     GSM5375527\n",
       "1     GSM5375528\n",
       "2     GSM5375529\n",
       "3     GSM5375530\n",
       "4     GSM5375531\n",
       "...          ...\n",
       "2711  GSM5378537\n",
       "2712  GSM5378538\n",
       "2713  GSM5378539\n",
       "2714  GSM5378540\n",
       "2715            \n",
       "\n",
       "[2716 rows x 1 columns]"
      ]
     },
     "execution_count": 39,
     "metadata": {},
     "output_type": "execute_result"
    }
   ],
   "source": [
    "kagawa_gsm"
   ]
  },
  {
   "cell_type": "code",
   "execution_count": 40,
   "id": "c69e4d26-7152-4204-bd7f-22d8b5846b36",
   "metadata": {},
   "outputs": [],
   "source": [
    "kagawa_gsm.to_csv(\"../pipeline/fetchngs/human_GSE177616.txt\", index=None,header=None)"
   ]
  },
  {
   "cell_type": "markdown",
   "id": "455f6cf6-528e-4238-8e60-7c49e851c4d9",
   "metadata": {},
   "source": [
    "```bash\n",
    "sh ~/Brickman/helper-scripts/nf-core_tower.sh \\\n",
    "    Kagawa_2022 \\\n",
    "    nextflow run nf-core/fetchngs \\\n",
    "    -r 1.10.0 \\\n",
    "    --input /projects/dan1/data/Brickman/projects/proks-salehin-et-al-2023/pipeline/fetchngs/human_GSE177616.txt\n",
    "```"
   ]
  },
  {
   "cell_type": "markdown",
   "id": "2d5f44e2-eff6-487a-aff3-db1073c9b864",
   "metadata": {},
   "source": [
    "```bash\n",
    "nf-core_tower.sh Meistermann_2021 nextflow run brickmanlab/scrnaseq \\\n",
    "    -r feature/smartseq \\\n",
    "    -c /projects/dan1/data/Brickman/projects/proks-salehin-et-al-2023/pipeline/smartseq.human.config \\\n",
    "    --input /scratch/Brickman/pipelines/Meistermann_2021/results/samplesheet/samplesheet.csv\n",
    "```"
   ]
  },
  {
   "cell_type": "code",
   "execution_count": null,
   "id": "b7f2af75-4845-4f42-9b8b-2b03c484794c",
   "metadata": {},
   "outputs": [],
   "source": []
  }
 ],
 "metadata": {
  "kernelspec": {
   "display_name": "brickman_scvi-1.0.0 [conda env:.conda-naz]",
   "language": "python",
   "name": "conda-env-.conda-naz-brickman_scvi-1.0.0"
  },
  "language_info": {
   "codemirror_mode": {
    "name": "ipython",
    "version": 3
   },
   "file_extension": ".py",
   "mimetype": "text/x-python",
   "name": "python",
   "nbconvert_exporter": "python",
   "pygments_lexer": "ipython3",
   "version": "3.10.11"
  }
 },
 "nbformat": 4,
 "nbformat_minor": 5
}
