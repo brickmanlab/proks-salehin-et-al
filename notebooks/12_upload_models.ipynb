{
 "cells": [
  {
   "cell_type": "markdown",
   "id": "beb17ff5-801e-4af6-932c-2c432d9eb0c1",
   "metadata": {},
   "source": [
    "---\n",
    "author: Martin Proks\n",
    "date: 06-02-2024\n",
    "title: Upload AI models\n",
    "---"
   ]
  },
  {
   "cell_type": "code",
   "execution_count": null,
   "id": "11901945-883c-4ca9-82fa-010c52e69817",
   "metadata": {},
   "outputs": [],
   "source": [
    "# !pip install huggingface_hub"
   ]
  },
  {
   "cell_type": "code",
   "execution_count": 1,
   "id": "e8528c26-74af-4aea-873b-cb69c594db0c",
   "metadata": {},
   "outputs": [],
   "source": [
    "DATASETS = [{\n",
    "    \"repo_name\": \"brickmanlab/mouse-scanvi\",\n",
    "    \"model_path\": \"../results/02_mouse_integration/scanvi_ns_15/\",\n",
    "    \"description\": \"Mouse scANVI reference model\",\n",
    "    \"references\": \"Proks, Salehin et al., biorXiv\",\n",
    "    \"training_data_url\": \"https://zenodo.org/records/10669600/files/01_mouse_reprocessed.h5ad?download=1\",\n",
    "    \"training_code_url\": \"https://github.com/brickmanlab/proks-salehin-et-al\",\n",
    "}, {\n",
    "    \"repo_name\": \"brickmanlab/human-scanvi\",\n",
    "    \"model_path\": \"../results/02_human_integration/05_scanvi_ns15/\",\n",
    "    \"description\": \"Human scANVI reference model\",\n",
    "    \"references\": \"Proks, Salehin et al., biorXiv\",\n",
    "    \"training_data_url\": \"https://zenodo.org/records/10669600/files/32_human_adata.h5ad?download=1\",\n",
    "    \"training_code_url\": \"https://github.com/brickmanlab/proks-salehin-et-al\",\n",
    "}]"
   ]
  },
  {
   "cell_type": "code",
   "execution_count": 2,
   "id": "089f48c0-6d93-4e7c-a7e6-b9ee553c6ed3",
   "metadata": {},
   "outputs": [
    {
     "name": "stderr",
     "output_type": "stream",
     "text": [
      "/home/fdb589/projects/data/Brickman/conda/envs/scvi-1.0.0/lib/python3.10/site-packages/scvi/_settings.py:63: UserWarning: Since v1.0.0, scvi-tools no longer uses a random seed by default. Run `scvi.settings.seed = 0` to reproduce results from previous versions.\n",
      "  self.seed = seed\n",
      "/home/fdb589/projects/data/Brickman/conda/envs/scvi-1.0.0/lib/python3.10/site-packages/scvi/_settings.py:70: UserWarning: Setting `dl_pin_memory_gpu_training` is deprecated in v1.0 and will be removed in v1.1. Please pass in `pin_memory` to the data loaders instead.\n",
      "  self.dl_pin_memory_gpu_training = (\n",
      "[rank: 0] Global seed set to 0\n"
     ]
    },
    {
     "name": "stdout",
     "output_type": "stream",
     "text": [
      "Last run with scvi-tools version: 1.0.0\n"
     ]
    }
   ],
   "source": [
    "import os\n",
    "\n",
    "import anndata\n",
    "import scanpy as sc\n",
    "import scvi\n",
    "import torch\n",
    "from scvi.hub import HubMetadata, HubModel, HubModelCardHelper\n",
    "\n",
    "scvi.settings.seed = 0\n",
    "print(\"Last run with scvi-tools version:\", scvi.__version__)"
   ]
  },
  {
   "cell_type": "code",
   "execution_count": 3,
   "id": "f99a8746-7c9e-4c3b-9b19-9f867f6a946b",
   "metadata": {},
   "outputs": [],
   "source": [
    "try:\n",
    "    os.environ['HF_TOKEN']\n",
    "except:\n",
    "    print(\"Make sure you setup `HF_TOKEN` in shell !\")"
   ]
  },
  {
   "cell_type": "code",
   "execution_count": 4,
   "id": "cbccfdf9-7557-4c7f-91d2-0d4d8171afde",
   "metadata": {},
   "outputs": [
    {
     "name": "stdout",
     "output_type": "stream",
     "text": [
      "\u001b[34mINFO    \u001b[0m File ..\u001b[35m/results/02_mouse_integration/scanvi_ns_15/\u001b[0m\u001b[95mmodel.pt\u001b[0m already downloaded                             \n",
      "\u001b[34mINFO    \u001b[0m File ..\u001b[35m/results/02_mouse_integration/scanvi_ns_15/\u001b[0m\u001b[95mmodel.pt\u001b[0m already downloaded                             \n"
     ]
    },
    {
     "data": {
      "application/vnd.jupyter.widget-view+json": {
       "model_id": "8630a345ac5045dfbba3a9533b73b84a",
       "version_major": 2,
       "version_minor": 0
      },
      "text/plain": [
       "model.pt:   0%|          | 0.00/8.35M [00:00<?, ?B/s]"
      ]
     },
     "metadata": {},
     "output_type": "display_data"
    },
    {
     "data": {
      "application/vnd.jupyter.widget-view+json": {
       "model_id": "87aa3fe814fe4e75b571eae205bbda7c",
       "version_major": 2,
       "version_minor": 0
      },
      "text/plain": [
       "adata.h5ad:   0%|          | 0.00/271M [00:00<?, ?B/s]"
      ]
     },
     "metadata": {},
     "output_type": "display_data"
    },
    {
     "name": "stdout",
     "output_type": "stream",
     "text": [
      "\u001b[34mINFO    \u001b[0m File ..\u001b[35m/results/02_human_integration/05_scanvi_ns15/\u001b[0m\u001b[95mmodel.pt\u001b[0m already downloaded                           \n",
      "\u001b[34mINFO    \u001b[0m File ..\u001b[35m/results/02_human_integration/05_scanvi_ns15/\u001b[0m\u001b[95mmodel.pt\u001b[0m already downloaded                           \n"
     ]
    },
    {
     "data": {
      "application/vnd.jupyter.widget-view+json": {
       "model_id": "a72b62cd3ea646cb9480cb1372303af5",
       "version_major": 2,
       "version_minor": 0
      },
      "text/plain": [
       "model.pt:   0%|          | 0.00/8.39M [00:00<?, ?B/s]"
      ]
     },
     "metadata": {},
     "output_type": "display_data"
    },
    {
     "data": {
      "application/vnd.jupyter.widget-view+json": {
       "model_id": "73ef54009db04bc7afb348d4862f69f0",
       "version_major": 2,
       "version_minor": 0
      },
      "text/plain": [
       "adata.h5ad:   0%|          | 0.00/331M [00:00<?, ?B/s]"
      ]
     },
     "metadata": {},
     "output_type": "display_data"
    }
   ],
   "source": [
    "for ds in DATASETS:\n",
    "    hm = HubMetadata.from_dir(ds['model_path'], anndata_version=anndata.__version__)\n",
    "    hmch = HubModelCardHelper.from_dir(\n",
    "        ds['model_path'],\n",
    "        license_info=\"cc-by-4.0\",\n",
    "        anndata_version=anndata.__version__,\n",
    "        data_modalities=[\"rna\"],\n",
    "        data_is_annotated=True,\n",
    "        description=ds['description'],\n",
    "        references=ds['references'],\n",
    "        model_parent_module=ds['training_data_url'],\n",
    "        training_data_url=ds['training_code_url']\n",
    "    )\n",
    "    hmo = HubModel(ds['model_path'], metadata=hm, model_card=hmch)\n",
    "\n",
    "    hmo.push_to_huggingface_hub(\n",
    "        repo_name=ds['repo_name'], repo_token=os.environ['HF_TOKEN'], repo_create=True\n",
    "    )"
   ]
  },
  {
   "cell_type": "code",
   "execution_count": null,
   "id": "e68d7d71-4401-445f-9b06-46f3551d546d",
   "metadata": {},
   "outputs": [],
   "source": []
  }
 ],
 "metadata": {
  "kernelspec": {
   "display_name": "Python [conda env:conda-scvi-1.0.0]",
   "language": "python",
   "name": "conda-env-conda-scvi-1.0.0-py"
  },
  "language_info": {
   "codemirror_mode": {
    "name": "ipython",
    "version": 3
   },
   "file_extension": ".py",
   "mimetype": "text/x-python",
   "name": "python",
   "nbconvert_exporter": "python",
   "pygments_lexer": "ipython3",
   "version": "3.10.11"
  }
 },
 "nbformat": 4,
 "nbformat_minor": 5
}
