{
 "cells": [
  {
   "cell_type": "markdown",
   "id": "72e84b59-2864-467f-bdb6-15025c14e454",
   "metadata": {},
   "source": [
    "---\n",
    "title: 05 - mouse classifier\n",
    "author: Martin Proks\n",
    "date: 20-09-2023\n",
    "---\n",
    "\n",
    "In this notebook we construct multiple classifier which will try to predict cell type (`ct`):\n",
    "\n",
    "<!-- - _naive_ (`sc.tl.score_genes` using known markers) -->\n",
    "- _SCANVI_\n",
    "- _XGBoost_\n",
    "    - scVI embedding space\n",
    "    - scANVI embedding space\n",
    "<!--     - scGen embedding space -->"
   ]
  },
  {
   "cell_type": "code",
   "execution_count": 1,
   "id": "5629c63f-b7e4-4c32-aa83-e2107893d8c0",
   "metadata": {},
   "outputs": [
    {
     "name": "stdout",
     "output_type": "stream",
     "text": [
      "/projects/dan1/data/Brickman/conda/envs/scvi-1.0.0/bin/pip\n"
     ]
    }
   ],
   "source": [
    "!which pip"
   ]
  },
  {
   "cell_type": "code",
   "execution_count": 2,
   "id": "183dbdbc-328b-4b2a-bdd5-6ceec5bd86eb",
   "metadata": {},
   "outputs": [
    {
     "name": "stderr",
     "output_type": "stream",
     "text": [
      "/projects/dan1/data/Brickman/conda/envs/scvi-1.0.0/lib/python3.10/site-packages/scvi/_settings.py:63: UserWarning: Since v1.0.0, scvi-tools no longer uses a random seed by default. Run `scvi.settings.seed = 0` to reproduce results from previous versions.\n",
      "  self.seed = seed\n",
      "/projects/dan1/data/Brickman/conda/envs/scvi-1.0.0/lib/python3.10/site-packages/scvi/_settings.py:70: UserWarning: Setting `dl_pin_memory_gpu_training` is deprecated in v1.0 and will be removed in v1.1. Please pass in `pin_memory` to the data loaders instead.\n",
      "  self.dl_pin_memory_gpu_training = (\n",
      "/projects/dan1/data/Brickman/conda/envs/scvi-1.0.0/lib/python3.10/site-packages/tqdm/auto.py:21: TqdmWarning: IProgress not found. Please update jupyter and ipywidgets. See https://ipywidgets.readthedocs.io/en/stable/user_install.html\n",
      "  from .autonotebook import tqdm as notebook_tqdm\n",
      "[rank: 0] Global seed set to 0\n"
     ]
    }
   ],
   "source": [
    "%matplotlib inline\n",
    "\n",
    "import scvi\n",
    "import scgen\n",
    "import pandas as pd\n",
    "import numpy as np\n",
    "import seaborn as sns\n",
    "import matplotlib.pyplot as plt\n",
    "\n",
    "from typing import Tuple\n",
    "\n",
    "from numba.core.errors import NumbaDeprecationWarning, NumbaPendingDeprecationWarning\n",
    "import warnings\n",
    "\n",
    "warnings.simplefilter('ignore', category=NumbaDeprecationWarning)\n",
    "warnings.simplefilter('ignore', category=NumbaPendingDeprecationWarning)\n",
    "warnings.simplefilter('ignore', category=FutureWarning)\n",
    "warnings.simplefilter('ignore', category=UserWarning)\n",
    "\n",
    "scvi.settings.seed = 0\n",
    "\n",
    "import os\n",
    "os.environ['CUDA_VISIBLE_DEVICES'] = '1,2'"
   ]
  },
  {
   "cell_type": "code",
   "execution_count": 3,
   "id": "c9dde576-5e89-4188-93df-21bab5b95829",
   "metadata": {},
   "outputs": [],
   "source": [
    "%run ../scripts/helpers.py"
   ]
  },
  {
   "cell_type": "code",
   "execution_count": 4,
   "id": "8650a022-2bfa-4a0e-9d3f-1956dcabe798",
   "metadata": {},
   "outputs": [],
   "source": [
    "from sklearn.metrics import accuracy_score, balanced_accuracy_score, f1_score\n",
    "\n",
    "\n",
    "def prediction_stats(label: str, model, y_test, y_pred, X, Y):\n",
    "    \n",
    "    stats = [ \n",
    "        label,\n",
    "        accuracy_score(y_test, y_pred),\n",
    "        balanced_accuracy_score(y_test, y_pred),\n",
    "        f1_score(y_test, y_pred, average=\"micro\"),\n",
    "        f1_score(y_test, y_pred, average=\"macro\"),\n",
    "        np.nan\n",
    "    ]\n",
    "\n",
    "    if model is None:\n",
    "        return stats\n",
    "\n",
    "    # Cross Validation\n",
    "    kfold = StratifiedKFold(n_splits=10, shuffle=True, random_state=42)\n",
    "    scores = cross_val_score(model, X, Y, cv = kfold, n_jobs = 8)\n",
    "    stats[-1] = scores.mean()\n",
    "    \n",
    "    return stats\n",
    "\n",
    "\n",
    "stats = []"
   ]
  },
  {
   "cell_type": "markdown",
   "id": "17802b8b-22f8-43ab-bd2f-e36c6a673712",
   "metadata": {},
   "source": [
    "## 1. scANVI"
   ]
  },
  {
   "cell_type": "code",
   "execution_count": 5,
   "id": "8b7a4ef8-b1ee-4ba8-9bfa-9b761c922145",
   "metadata": {},
   "outputs": [
    {
     "name": "stdout",
     "output_type": "stream",
     "text": [
      "\u001b[34mINFO    \u001b[0m File ..\u001b[35m/results/02_mouse_integration/scanvi/\u001b[0m\u001b[95mmodel.pt\u001b[0m already downloaded                                   \n"
     ]
    }
   ],
   "source": [
    "lvae = scvi.model.SCANVI.load(\"../results/02_mouse_integration/scanvi/\")"
   ]
  },
  {
   "cell_type": "code",
   "execution_count": 6,
   "id": "d1949dcc-ae72-49a2-a855-8631241701fa",
   "metadata": {},
   "outputs": [],
   "source": [
    "y_test = lvae.adata.obs.ct.values\n",
    "y_pred = lvae.predict(lvae.adata)\n",
    "\n",
    "stats.append(prediction_stats(\"scANVI\", None, y_test, y_pred, None, None))"
   ]
  },
  {
   "cell_type": "markdown",
   "id": "91b81a67-0ee7-4bfd-ace1-569b9ccbd2ca",
   "metadata": {},
   "source": [
    "## 2. scANVI (`n_samples_per_label=15`)"
   ]
  },
  {
   "cell_type": "code",
   "execution_count": 7,
   "id": "563dd42c-97ed-496d-a661-fb334ecb88f4",
   "metadata": {},
   "outputs": [
    {
     "name": "stdout",
     "output_type": "stream",
     "text": [
      "\u001b[34mINFO    \u001b[0m File ..\u001b[35m/results/02_mouse_integration/scvi/\u001b[0m\u001b[95mmodel.pt\u001b[0m already downloaded                                     \n",
      "\u001b[34mINFO    \u001b[0m Training for \u001b[1;36m20\u001b[0m epochs.                                                                                   \n"
     ]
    },
    {
     "name": "stderr",
     "output_type": "stream",
     "text": [
      "GPU available: True (cuda), used: True\n",
      "TPU available: False, using: 0 TPU cores\n",
      "IPU available: False, using: 0 IPUs\n",
      "HPU available: False, using: 0 HPUs\n",
      "LOCAL_RANK: 0 - CUDA_VISIBLE_DEVICES: [1,2]\n"
     ]
    },
    {
     "name": "stdout",
     "output_type": "stream",
     "text": [
      "Epoch 20/20: 100%|███████████████████████████| 20/20 [00:06<00:00,  3.11it/s, v_num=1, train_loss_step=5.75e+3, train_loss_epoch=5.12e+3]"
     ]
    },
    {
     "name": "stderr",
     "output_type": "stream",
     "text": [
      "`Trainer.fit` stopped: `max_epochs=20` reached.\n"
     ]
    },
    {
     "name": "stdout",
     "output_type": "stream",
     "text": [
      "Epoch 20/20: 100%|███████████████████████████| 20/20 [00:06<00:00,  3.15it/s, v_num=1, train_loss_step=5.75e+3, train_loss_epoch=5.12e+3]\n"
     ]
    }
   ],
   "source": [
    "vae = scvi.model.SCVI.load(\"../results/02_mouse_integration/scvi/\")\n",
    "lvae = scvi.model.SCANVI.from_scvi_model(vae, labels_key=\"ct\", unlabeled_category=\"Unknown\")\n",
    "lvae.train(max_epochs=20, n_samples_per_label=15)\n",
    "lvae.save(\"../results/02_mouse_integration/scanvi_ns_15/\", overwrite=True, save_anndata=True)"
   ]
  },
  {
   "cell_type": "code",
   "execution_count": 8,
   "id": "f87e4ea3-3a6a-4619-b7af-00752cd4c032",
   "metadata": {},
   "outputs": [],
   "source": [
    "y_test = lvae.adata.obs.ct.values\n",
    "y_pred = lvae.predict()\n",
    "\n",
    "stats.append(prediction_stats(\"scANVI_ns15\", None, y_test, y_pred, None, None))"
   ]
  },
  {
   "cell_type": "markdown",
   "id": "0b12a09b-6203-41db-b8f1-08a9f330b324",
   "metadata": {},
   "source": [
    "## 3. XGBoost"
   ]
  },
  {
   "cell_type": "code",
   "execution_count": 12,
   "id": "5c367d00-b033-48f0-b69b-d2f79e509826",
   "metadata": {},
   "outputs": [],
   "source": []
  },
  {
   "cell_type": "markdown",
   "id": "31e8927f-52fc-44c8-a392-34cc09622e5e",
   "metadata": {},
   "source": [
    "### 3.1. scVI"
   ]
  },
  {
   "cell_type": "code",
   "execution_count": 13,
   "id": "2e92e56f-b51f-4f25-904c-4770744ded54",
   "metadata": {},
   "outputs": [
    {
     "name": "stdout",
     "output_type": "stream",
     "text": [
      "\u001b[34mINFO    \u001b[0m File ..\u001b[35m/results/02_mouse_integration/scvi/\u001b[0m\u001b[95mmodel.pt\u001b[0m already downloaded                                     \n"
     ]
    }
   ],
   "source": [
    "vae = scvi.model.SCVI.load(\"../results/02_mouse_integration/scvi/\")"
   ]
  },
  {
   "cell_type": "code",
   "execution_count": 14,
   "id": "af81f0b8-6cc5-4c2c-9932-003ae3b0e368",
   "metadata": {},
   "outputs": [
    {
     "data": {
      "text/html": [
       "<div>\n",
       "<style scoped>\n",
       "    .dataframe tbody tr th:only-of-type {\n",
       "        vertical-align: middle;\n",
       "    }\n",
       "\n",
       "    .dataframe tbody tr th {\n",
       "        vertical-align: top;\n",
       "    }\n",
       "\n",
       "    .dataframe thead th {\n",
       "        text-align: right;\n",
       "    }\n",
       "</style>\n",
       "<table border=\"1\" class=\"dataframe\">\n",
       "  <thead>\n",
       "    <tr style=\"text-align: right;\">\n",
       "      <th></th>\n",
       "      <th>sox17</th>\n",
       "      <th>ppp1r42</th>\n",
       "      <th>arfgef1</th>\n",
       "      <th>prdm14</th>\n",
       "      <th>xkr9</th>\n",
       "      <th>msc</th>\n",
       "      <th>ube2w</th>\n",
       "      <th>gm7654</th>\n",
       "      <th>tmem70</th>\n",
       "      <th>ly96</th>\n",
       "      <th>...</th>\n",
       "      <th>stn1</th>\n",
       "      <th>gsto1</th>\n",
       "      <th>1700054a03rik</th>\n",
       "      <th>gm50273</th>\n",
       "      <th>habp2</th>\n",
       "      <th>ccdc186</th>\n",
       "      <th>afap1l2</th>\n",
       "      <th>pnlip</th>\n",
       "      <th>pnliprp2</th>\n",
       "      <th>target</th>\n",
       "    </tr>\n",
       "  </thead>\n",
       "  <tbody>\n",
       "    <tr>\n",
       "      <th>SRX259148</th>\n",
       "      <td>9.244410e-09</td>\n",
       "      <td>1.495744e-07</td>\n",
       "      <td>0.000106</td>\n",
       "      <td>0.000002</td>\n",
       "      <td>0.000030</td>\n",
       "      <td>2.020811e-04</td>\n",
       "      <td>0.000375</td>\n",
       "      <td>1.544236e-09</td>\n",
       "      <td>0.000513</td>\n",
       "      <td>0.000280</td>\n",
       "      <td>...</td>\n",
       "      <td>0.000278</td>\n",
       "      <td>0.004330</td>\n",
       "      <td>7.987154e-08</td>\n",
       "      <td>3.248621e-10</td>\n",
       "      <td>5.573803e-09</td>\n",
       "      <td>0.000101</td>\n",
       "      <td>5.110550e-08</td>\n",
       "      <td>1.434869e-09</td>\n",
       "      <td>4.117884e-05</td>\n",
       "      <td>16C</td>\n",
       "    </tr>\n",
       "    <tr>\n",
       "      <th>SRX259191</th>\n",
       "      <td>2.290104e-07</td>\n",
       "      <td>2.459044e-09</td>\n",
       "      <td>0.000065</td>\n",
       "      <td>0.000006</td>\n",
       "      <td>0.000080</td>\n",
       "      <td>4.674523e-05</td>\n",
       "      <td>0.000086</td>\n",
       "      <td>4.516714e-07</td>\n",
       "      <td>0.000462</td>\n",
       "      <td>0.000328</td>\n",
       "      <td>...</td>\n",
       "      <td>0.000394</td>\n",
       "      <td>0.001819</td>\n",
       "      <td>6.749668e-11</td>\n",
       "      <td>1.539256e-09</td>\n",
       "      <td>6.671179e-09</td>\n",
       "      <td>0.000118</td>\n",
       "      <td>2.692376e-07</td>\n",
       "      <td>8.009134e-07</td>\n",
       "      <td>9.071199e-05</td>\n",
       "      <td>8C</td>\n",
       "    </tr>\n",
       "    <tr>\n",
       "      <th>SRX259121</th>\n",
       "      <td>9.530742e-11</td>\n",
       "      <td>1.176371e-06</td>\n",
       "      <td>0.000106</td>\n",
       "      <td>0.000005</td>\n",
       "      <td>0.000014</td>\n",
       "      <td>4.688524e-04</td>\n",
       "      <td>0.000103</td>\n",
       "      <td>7.302969e-12</td>\n",
       "      <td>0.000299</td>\n",
       "      <td>0.000452</td>\n",
       "      <td>...</td>\n",
       "      <td>0.000032</td>\n",
       "      <td>0.001475</td>\n",
       "      <td>1.854037e-07</td>\n",
       "      <td>1.135729e-09</td>\n",
       "      <td>1.288587e-10</td>\n",
       "      <td>0.000048</td>\n",
       "      <td>1.281698e-08</td>\n",
       "      <td>7.423926e-10</td>\n",
       "      <td>6.965978e-06</td>\n",
       "      <td>16C</td>\n",
       "    </tr>\n",
       "    <tr>\n",
       "      <th>SRX259140</th>\n",
       "      <td>2.935074e-08</td>\n",
       "      <td>1.263999e-08</td>\n",
       "      <td>0.000069</td>\n",
       "      <td>0.000011</td>\n",
       "      <td>0.000058</td>\n",
       "      <td>8.229597e-05</td>\n",
       "      <td>0.000256</td>\n",
       "      <td>1.905268e-08</td>\n",
       "      <td>0.000314</td>\n",
       "      <td>0.000802</td>\n",
       "      <td>...</td>\n",
       "      <td>0.000497</td>\n",
       "      <td>0.003291</td>\n",
       "      <td>1.695690e-09</td>\n",
       "      <td>4.987342e-10</td>\n",
       "      <td>1.461652e-08</td>\n",
       "      <td>0.000127</td>\n",
       "      <td>1.668044e-07</td>\n",
       "      <td>5.001769e-08</td>\n",
       "      <td>9.694348e-05</td>\n",
       "      <td>16C</td>\n",
       "    </tr>\n",
       "    <tr>\n",
       "      <th>SRX259161</th>\n",
       "      <td>4.501800e-08</td>\n",
       "      <td>3.915447e-09</td>\n",
       "      <td>0.000240</td>\n",
       "      <td>0.000057</td>\n",
       "      <td>0.000007</td>\n",
       "      <td>3.080844e-07</td>\n",
       "      <td>0.000202</td>\n",
       "      <td>1.228954e-06</td>\n",
       "      <td>0.000794</td>\n",
       "      <td>0.000154</td>\n",
       "      <td>...</td>\n",
       "      <td>0.000211</td>\n",
       "      <td>0.000063</td>\n",
       "      <td>4.561012e-12</td>\n",
       "      <td>9.231247e-08</td>\n",
       "      <td>3.405940e-10</td>\n",
       "      <td>0.000431</td>\n",
       "      <td>3.755741e-05</td>\n",
       "      <td>2.560960e-06</td>\n",
       "      <td>7.125635e-07</td>\n",
       "      <td>4C</td>\n",
       "    </tr>\n",
       "  </tbody>\n",
       "</table>\n",
       "<p>5 rows × 3001 columns</p>\n",
       "</div>"
      ],
      "text/plain": [
       "                  sox17       ppp1r42   arfgef1    prdm14      xkr9  \\\n",
       "SRX259148  9.244410e-09  1.495744e-07  0.000106  0.000002  0.000030   \n",
       "SRX259191  2.290104e-07  2.459044e-09  0.000065  0.000006  0.000080   \n",
       "SRX259121  9.530742e-11  1.176371e-06  0.000106  0.000005  0.000014   \n",
       "SRX259140  2.935074e-08  1.263999e-08  0.000069  0.000011  0.000058   \n",
       "SRX259161  4.501800e-08  3.915447e-09  0.000240  0.000057  0.000007   \n",
       "\n",
       "                    msc     ube2w        gm7654    tmem70      ly96  ...  \\\n",
       "SRX259148  2.020811e-04  0.000375  1.544236e-09  0.000513  0.000280  ...   \n",
       "SRX259191  4.674523e-05  0.000086  4.516714e-07  0.000462  0.000328  ...   \n",
       "SRX259121  4.688524e-04  0.000103  7.302969e-12  0.000299  0.000452  ...   \n",
       "SRX259140  8.229597e-05  0.000256  1.905268e-08  0.000314  0.000802  ...   \n",
       "SRX259161  3.080844e-07  0.000202  1.228954e-06  0.000794  0.000154  ...   \n",
       "\n",
       "               stn1     gsto1  1700054a03rik       gm50273         habp2  \\\n",
       "SRX259148  0.000278  0.004330   7.987154e-08  3.248621e-10  5.573803e-09   \n",
       "SRX259191  0.000394  0.001819   6.749668e-11  1.539256e-09  6.671179e-09   \n",
       "SRX259121  0.000032  0.001475   1.854037e-07  1.135729e-09  1.288587e-10   \n",
       "SRX259140  0.000497  0.003291   1.695690e-09  4.987342e-10  1.461652e-08   \n",
       "SRX259161  0.000211  0.000063   4.561012e-12  9.231247e-08  3.405940e-10   \n",
       "\n",
       "            ccdc186       afap1l2         pnlip      pnliprp2  target  \n",
       "SRX259148  0.000101  5.110550e-08  1.434869e-09  4.117884e-05     16C  \n",
       "SRX259191  0.000118  2.692376e-07  8.009134e-07  9.071199e-05      8C  \n",
       "SRX259121  0.000048  1.281698e-08  7.423926e-10  6.965978e-06     16C  \n",
       "SRX259140  0.000127  1.668044e-07  5.001769e-08  9.694348e-05     16C  \n",
       "SRX259161  0.000431  3.755741e-05  2.560960e-06  7.125635e-07      4C  \n",
       "\n",
       "[5 rows x 3001 columns]"
      ]
     },
     "execution_count": 14,
     "metadata": {},
     "output_type": "execute_result"
    }
   ],
   "source": [
    "vae_df = pd.DataFrame(vae.get_normalized_expression(return_mean=True))\n",
    "vae_df['target'] = vae.adata.obs.ct\n",
    "vae_df.head()"
   ]
  },
  {
   "cell_type": "code",
   "execution_count": 15,
   "id": "6c877403-f1fa-4169-957f-6a93fd9be19f",
   "metadata": {},
   "outputs": [],
   "source": [
    "X_train, y_train, X_test, y_test = train_test_split_by_group(vae_df)"
   ]
  },
  {
   "cell_type": "code",
   "execution_count": 16,
   "id": "c04ae077-1cb3-4735-bd18-be502bb20e6e",
   "metadata": {},
   "outputs": [
    {
     "name": "stdout",
     "output_type": "stream",
     "text": [
      "[0]\tvalidation_0-merror:0.03004\tvalidation_0-mlogloss:1.09462\tvalidation_1-merror:0.08128\tvalidation_1-mlogloss:1.19250\n",
      "[1]\tvalidation_0-merror:0.01877\tvalidation_0-mlogloss:0.77131\tvalidation_1-merror:0.05419\tvalidation_1-mlogloss:0.88954\n",
      "[2]\tvalidation_0-merror:0.01690\tvalidation_0-mlogloss:0.56525\tvalidation_1-merror:0.05172\tvalidation_1-mlogloss:0.69790\n",
      "[3]\tvalidation_0-merror:0.01189\tvalidation_0-mlogloss:0.42255\tvalidation_1-merror:0.04433\tvalidation_1-mlogloss:0.56222\n",
      "[4]\tvalidation_0-merror:0.00876\tvalidation_0-mlogloss:0.32044\tvalidation_1-merror:0.04680\tvalidation_1-mlogloss:0.46083\n",
      "[5]\tvalidation_0-merror:0.00626\tvalidation_0-mlogloss:0.24549\tvalidation_1-merror:0.04926\tvalidation_1-mlogloss:0.38825\n",
      "[6]\tvalidation_0-merror:0.00438\tvalidation_0-mlogloss:0.18819\tvalidation_1-merror:0.04926\tvalidation_1-mlogloss:0.33157\n",
      "[7]\tvalidation_0-merror:0.00375\tvalidation_0-mlogloss:0.14573\tvalidation_1-merror:0.04926\tvalidation_1-mlogloss:0.29007\n",
      "[8]\tvalidation_0-merror:0.00188\tvalidation_0-mlogloss:0.11385\tvalidation_1-merror:0.04926\tvalidation_1-mlogloss:0.25384\n",
      "[9]\tvalidation_0-merror:0.00125\tvalidation_0-mlogloss:0.08912\tvalidation_1-merror:0.05172\tvalidation_1-mlogloss:0.22724\n",
      "[10]\tvalidation_0-merror:0.00125\tvalidation_0-mlogloss:0.07097\tvalidation_1-merror:0.04926\tvalidation_1-mlogloss:0.20505\n",
      "[11]\tvalidation_0-merror:0.00000\tvalidation_0-mlogloss:0.05642\tvalidation_1-merror:0.04433\tvalidation_1-mlogloss:0.18941\n",
      "[12]\tvalidation_0-merror:0.00000\tvalidation_0-mlogloss:0.04556\tvalidation_1-merror:0.04187\tvalidation_1-mlogloss:0.17663\n",
      "[13]\tvalidation_0-merror:0.00000\tvalidation_0-mlogloss:0.03727\tvalidation_1-merror:0.04187\tvalidation_1-mlogloss:0.16720\n",
      "[14]\tvalidation_0-merror:0.00000\tvalidation_0-mlogloss:0.03082\tvalidation_1-merror:0.04187\tvalidation_1-mlogloss:0.16092\n",
      "[15]\tvalidation_0-merror:0.00000\tvalidation_0-mlogloss:0.02581\tvalidation_1-merror:0.03941\tvalidation_1-mlogloss:0.15553\n",
      "[16]\tvalidation_0-merror:0.00000\tvalidation_0-mlogloss:0.02199\tvalidation_1-merror:0.03941\tvalidation_1-mlogloss:0.14887\n",
      "[17]\tvalidation_0-merror:0.00000\tvalidation_0-mlogloss:0.01899\tvalidation_1-merror:0.03941\tvalidation_1-mlogloss:0.14508\n",
      "[18]\tvalidation_0-merror:0.00000\tvalidation_0-mlogloss:0.01656\tvalidation_1-merror:0.03941\tvalidation_1-mlogloss:0.14449\n",
      "[19]\tvalidation_0-merror:0.00000\tvalidation_0-mlogloss:0.01463\tvalidation_1-merror:0.03941\tvalidation_1-mlogloss:0.14215\n",
      "[20]\tvalidation_0-merror:0.00000\tvalidation_0-mlogloss:0.01305\tvalidation_1-merror:0.03695\tvalidation_1-mlogloss:0.14105\n",
      "[21]\tvalidation_0-merror:0.00000\tvalidation_0-mlogloss:0.01174\tvalidation_1-merror:0.03941\tvalidation_1-mlogloss:0.14084\n",
      "[22]\tvalidation_0-merror:0.00000\tvalidation_0-mlogloss:0.01067\tvalidation_1-merror:0.03941\tvalidation_1-mlogloss:0.14050\n",
      "[23]\tvalidation_0-merror:0.00000\tvalidation_0-mlogloss:0.00981\tvalidation_1-merror:0.03941\tvalidation_1-mlogloss:0.14013\n",
      "[24]\tvalidation_0-merror:0.00000\tvalidation_0-mlogloss:0.00909\tvalidation_1-merror:0.03941\tvalidation_1-mlogloss:0.14064\n",
      "[25]\tvalidation_0-merror:0.00000\tvalidation_0-mlogloss:0.00851\tvalidation_1-merror:0.03941\tvalidation_1-mlogloss:0.14045\n",
      "[26]\tvalidation_0-merror:0.00000\tvalidation_0-mlogloss:0.00804\tvalidation_1-merror:0.03941\tvalidation_1-mlogloss:0.14129\n",
      "[27]\tvalidation_0-merror:0.00000\tvalidation_0-mlogloss:0.00768\tvalidation_1-merror:0.03941\tvalidation_1-mlogloss:0.14126\n",
      "[28]\tvalidation_0-merror:0.00000\tvalidation_0-mlogloss:0.00735\tvalidation_1-merror:0.03941\tvalidation_1-mlogloss:0.14149\n",
      "[29]\tvalidation_0-merror:0.00000\tvalidation_0-mlogloss:0.00707\tvalidation_1-merror:0.03941\tvalidation_1-mlogloss:0.14218\n",
      "[30]\tvalidation_0-merror:0.00000\tvalidation_0-mlogloss:0.00686\tvalidation_1-merror:0.03941\tvalidation_1-mlogloss:0.14375\n",
      "[31]\tvalidation_0-merror:0.00000\tvalidation_0-mlogloss:0.00665\tvalidation_1-merror:0.03941\tvalidation_1-mlogloss:0.14360\n",
      "[32]\tvalidation_0-merror:0.00000\tvalidation_0-mlogloss:0.00648\tvalidation_1-merror:0.03941\tvalidation_1-mlogloss:0.14413\n"
     ]
    },
    {
     "data": {
      "image/png": "[encoded data removed]",
      "text/plain": [
       "<Figure size 2000x500 with 2 Axes>"
      ]
     },
     "metadata": {},
     "output_type": "display_data"
    }
   ],
   "source": [
    "vae_xgboost = train_xgboost(vae_df, X_train, y_train, X_test, y_test)"
   ]
  },
  {
   "cell_type": "code",
   "execution_count": 17,
   "id": "30b5fcbb-74fb-4197-9b97-4429f09334bd",
   "metadata": {},
   "outputs": [],
   "source": [
    "y_pred = vae_xgboost.predict(X_test)"
   ]
  },
  {
   "cell_type": "code",
   "execution_count": 18,
   "id": "f9ea7094-ba25-44bf-b668-3d86017417a1",
   "metadata": {},
   "outputs": [],
   "source": [
    "stats.append(prediction_stats(\"XGB_scVI\", vae_xgboost, y_test, y_pred, vae_df.values[:, :-1], vae_df['target'].cat.codes.to_numpy()))"
   ]
  },
  {
   "cell_type": "code",
   "execution_count": 19,
   "id": "b87098eb-0351-4940-9dc3-859f29a5c28d",
   "metadata": {},
   "outputs": [],
   "source": [
    "vae_xgboost.save_model(\"../results/02_mouse_integration/05_scVI_xgboost.json\")"
   ]
  },
  {
   "cell_type": "markdown",
   "id": "36be0dfc-4088-495d-857f-7a7e0ffb2161",
   "metadata": {},
   "source": [
    "### 3.2. scANVI"
   ]
  },
  {
   "cell_type": "code",
   "execution_count": 20,
   "id": "c21b36f6-dca2-4f2e-8195-2536d4a5fb65",
   "metadata": {},
   "outputs": [
    {
     "name": "stdout",
     "output_type": "stream",
     "text": [
      "\u001b[34mINFO    \u001b[0m File ..\u001b[35m/results/02_mouse_integration/scanvi/\u001b[0m\u001b[95mmodel.pt\u001b[0m already downloaded                                   \n"
     ]
    }
   ],
   "source": [
    "lvae = scvi.model.SCANVI.load(\"../results/02_mouse_integration/scanvi/\")"
   ]
  },
  {
   "cell_type": "code",
   "execution_count": 21,
   "id": "1659a101-a828-4907-9abd-d3002f37083c",
   "metadata": {},
   "outputs": [
    {
     "data": {
      "text/html": [
       "<div>\n",
       "<style scoped>\n",
       "    .dataframe tbody tr th:only-of-type {\n",
       "        vertical-align: middle;\n",
       "    }\n",
       "\n",
       "    .dataframe tbody tr th {\n",
       "        vertical-align: top;\n",
       "    }\n",
       "\n",
       "    .dataframe thead th {\n",
       "        text-align: right;\n",
       "    }\n",
       "</style>\n",
       "<table border=\"1\" class=\"dataframe\">\n",
       "  <thead>\n",
       "    <tr style=\"text-align: right;\">\n",
       "      <th></th>\n",
       "      <th>sox17</th>\n",
       "      <th>ppp1r42</th>\n",
       "      <th>arfgef1</th>\n",
       "      <th>prdm14</th>\n",
       "      <th>xkr9</th>\n",
       "      <th>msc</th>\n",
       "      <th>ube2w</th>\n",
       "      <th>gm7654</th>\n",
       "      <th>tmem70</th>\n",
       "      <th>ly96</th>\n",
       "      <th>...</th>\n",
       "      <th>stn1</th>\n",
       "      <th>gsto1</th>\n",
       "      <th>1700054a03rik</th>\n",
       "      <th>gm50273</th>\n",
       "      <th>habp2</th>\n",
       "      <th>ccdc186</th>\n",
       "      <th>afap1l2</th>\n",
       "      <th>pnlip</th>\n",
       "      <th>pnliprp2</th>\n",
       "      <th>target</th>\n",
       "    </tr>\n",
       "  </thead>\n",
       "  <tbody>\n",
       "    <tr>\n",
       "      <th>SRX259148</th>\n",
       "      <td>1.499321e-08</td>\n",
       "      <td>7.591232e-08</td>\n",
       "      <td>0.000068</td>\n",
       "      <td>0.000003</td>\n",
       "      <td>0.000065</td>\n",
       "      <td>0.000326</td>\n",
       "      <td>0.000131</td>\n",
       "      <td>1.483101e-08</td>\n",
       "      <td>0.000298</td>\n",
       "      <td>0.000150</td>\n",
       "      <td>...</td>\n",
       "      <td>0.000185</td>\n",
       "      <td>0.005562</td>\n",
       "      <td>8.425851e-07</td>\n",
       "      <td>4.370481e-09</td>\n",
       "      <td>1.569241e-09</td>\n",
       "      <td>0.000072</td>\n",
       "      <td>4.824862e-08</td>\n",
       "      <td>1.690867e-09</td>\n",
       "      <td>0.000051</td>\n",
       "      <td>16C</td>\n",
       "    </tr>\n",
       "    <tr>\n",
       "      <th>SRX259191</th>\n",
       "      <td>1.535953e-07</td>\n",
       "      <td>3.323944e-08</td>\n",
       "      <td>0.000084</td>\n",
       "      <td>0.000012</td>\n",
       "      <td>0.000095</td>\n",
       "      <td>0.000061</td>\n",
       "      <td>0.000062</td>\n",
       "      <td>1.126642e-06</td>\n",
       "      <td>0.000531</td>\n",
       "      <td>0.000390</td>\n",
       "      <td>...</td>\n",
       "      <td>0.000336</td>\n",
       "      <td>0.002567</td>\n",
       "      <td>1.206273e-08</td>\n",
       "      <td>3.697671e-08</td>\n",
       "      <td>8.405232e-09</td>\n",
       "      <td>0.000134</td>\n",
       "      <td>1.122398e-06</td>\n",
       "      <td>5.098362e-07</td>\n",
       "      <td>0.000258</td>\n",
       "      <td>8C</td>\n",
       "    </tr>\n",
       "    <tr>\n",
       "      <th>SRX259121</th>\n",
       "      <td>2.234061e-10</td>\n",
       "      <td>1.818486e-07</td>\n",
       "      <td>0.000059</td>\n",
       "      <td>0.000002</td>\n",
       "      <td>0.000023</td>\n",
       "      <td>0.000644</td>\n",
       "      <td>0.000123</td>\n",
       "      <td>3.998329e-11</td>\n",
       "      <td>0.000119</td>\n",
       "      <td>0.000196</td>\n",
       "      <td>...</td>\n",
       "      <td>0.000069</td>\n",
       "      <td>0.001645</td>\n",
       "      <td>4.700184e-07</td>\n",
       "      <td>2.258681e-09</td>\n",
       "      <td>1.102188e-10</td>\n",
       "      <td>0.000037</td>\n",
       "      <td>5.974784e-09</td>\n",
       "      <td>1.568855e-09</td>\n",
       "      <td>0.000009</td>\n",
       "      <td>16C</td>\n",
       "    </tr>\n",
       "    <tr>\n",
       "      <th>SRX259140</th>\n",
       "      <td>8.150251e-08</td>\n",
       "      <td>4.920110e-08</td>\n",
       "      <td>0.000055</td>\n",
       "      <td>0.000010</td>\n",
       "      <td>0.000060</td>\n",
       "      <td>0.000158</td>\n",
       "      <td>0.000128</td>\n",
       "      <td>1.852338e-07</td>\n",
       "      <td>0.000286</td>\n",
       "      <td>0.000275</td>\n",
       "      <td>...</td>\n",
       "      <td>0.000263</td>\n",
       "      <td>0.004427</td>\n",
       "      <td>1.616031e-07</td>\n",
       "      <td>1.186041e-08</td>\n",
       "      <td>5.657514e-09</td>\n",
       "      <td>0.000073</td>\n",
       "      <td>3.052841e-07</td>\n",
       "      <td>3.905111e-08</td>\n",
       "      <td>0.000125</td>\n",
       "      <td>16C</td>\n",
       "    </tr>\n",
       "    <tr>\n",
       "      <th>SRX259161</th>\n",
       "      <td>2.039545e-07</td>\n",
       "      <td>1.044988e-07</td>\n",
       "      <td>0.000329</td>\n",
       "      <td>0.000031</td>\n",
       "      <td>0.000166</td>\n",
       "      <td>0.000001</td>\n",
       "      <td>0.000171</td>\n",
       "      <td>3.242764e-05</td>\n",
       "      <td>0.000807</td>\n",
       "      <td>0.000285</td>\n",
       "      <td>...</td>\n",
       "      <td>0.000279</td>\n",
       "      <td>0.000124</td>\n",
       "      <td>4.134634e-10</td>\n",
       "      <td>1.175266e-07</td>\n",
       "      <td>7.103967e-09</td>\n",
       "      <td>0.000540</td>\n",
       "      <td>9.310104e-05</td>\n",
       "      <td>2.019131e-06</td>\n",
       "      <td>0.000002</td>\n",
       "      <td>4C</td>\n",
       "    </tr>\n",
       "  </tbody>\n",
       "</table>\n",
       "<p>5 rows × 3001 columns</p>\n",
       "</div>"
      ],
      "text/plain": [
       "                  sox17       ppp1r42   arfgef1    prdm14      xkr9       msc  \\\n",
       "SRX259148  1.499321e-08  7.591232e-08  0.000068  0.000003  0.000065  0.000326   \n",
       "SRX259191  1.535953e-07  3.323944e-08  0.000084  0.000012  0.000095  0.000061   \n",
       "SRX259121  2.234061e-10  1.818486e-07  0.000059  0.000002  0.000023  0.000644   \n",
       "SRX259140  8.150251e-08  4.920110e-08  0.000055  0.000010  0.000060  0.000158   \n",
       "SRX259161  2.039545e-07  1.044988e-07  0.000329  0.000031  0.000166  0.000001   \n",
       "\n",
       "              ube2w        gm7654    tmem70      ly96  ...      stn1  \\\n",
       "SRX259148  0.000131  1.483101e-08  0.000298  0.000150  ...  0.000185   \n",
       "SRX259191  0.000062  1.126642e-06  0.000531  0.000390  ...  0.000336   \n",
       "SRX259121  0.000123  3.998329e-11  0.000119  0.000196  ...  0.000069   \n",
       "SRX259140  0.000128  1.852338e-07  0.000286  0.000275  ...  0.000263   \n",
       "SRX259161  0.000171  3.242764e-05  0.000807  0.000285  ...  0.000279   \n",
       "\n",
       "              gsto1  1700054a03rik       gm50273         habp2   ccdc186  \\\n",
       "SRX259148  0.005562   8.425851e-07  4.370481e-09  1.569241e-09  0.000072   \n",
       "SRX259191  0.002567   1.206273e-08  3.697671e-08  8.405232e-09  0.000134   \n",
       "SRX259121  0.001645   4.700184e-07  2.258681e-09  1.102188e-10  0.000037   \n",
       "SRX259140  0.004427   1.616031e-07  1.186041e-08  5.657514e-09  0.000073   \n",
       "SRX259161  0.000124   4.134634e-10  1.175266e-07  7.103967e-09  0.000540   \n",
       "\n",
       "                afap1l2         pnlip  pnliprp2  target  \n",
       "SRX259148  4.824862e-08  1.690867e-09  0.000051     16C  \n",
       "SRX259191  1.122398e-06  5.098362e-07  0.000258      8C  \n",
       "SRX259121  5.974784e-09  1.568855e-09  0.000009     16C  \n",
       "SRX259140  3.052841e-07  3.905111e-08  0.000125     16C  \n",
       "SRX259161  9.310104e-05  2.019131e-06  0.000002      4C  \n",
       "\n",
       "[5 rows x 3001 columns]"
      ]
     },
     "execution_count": 21,
     "metadata": {},
     "output_type": "execute_result"
    }
   ],
   "source": [
    "lvae_df = pd.DataFrame(lvae.get_normalized_expression(return_mean=True))\n",
    "lvae_df['target'] = lvae.adata.obs.ct\n",
    "lvae_df.head()"
   ]
  },
  {
   "cell_type": "code",
   "execution_count": 22,
   "id": "891e0521-7d3b-407c-b382-4cc6e1479caf",
   "metadata": {},
   "outputs": [],
   "source": [
    "X_train, y_train, X_test, y_test = train_test_split_by_group(lvae_df)"
   ]
  },
  {
   "cell_type": "code",
   "execution_count": 23,
   "id": "1fcb5609-0be3-4105-95da-69b722fe101d",
   "metadata": {},
   "outputs": [
    {
     "name": "stdout",
     "output_type": "stream",
     "text": [
      "[0]\tvalidation_0-merror:0.03504\tvalidation_0-mlogloss:1.11435\tvalidation_1-merror:0.16502\tvalidation_1-mlogloss:1.35171\n",
      "[1]\tvalidation_0-merror:0.02566\tvalidation_0-mlogloss:0.78891\tvalidation_1-merror:0.12315\tvalidation_1-mlogloss:1.04526\n",
      "[2]\tvalidation_0-merror:0.01815\tvalidation_0-mlogloss:0.58309\tvalidation_1-merror:0.11084\tvalidation_1-mlogloss:0.85486\n",
      "[3]\tvalidation_0-merror:0.01314\tvalidation_0-mlogloss:0.43796\tvalidation_1-merror:0.09852\tvalidation_1-mlogloss:0.72215\n",
      "[4]\tvalidation_0-merror:0.01064\tvalidation_0-mlogloss:0.33298\tvalidation_1-merror:0.10099\tvalidation_1-mlogloss:0.62165\n",
      "[5]\tvalidation_0-merror:0.00688\tvalidation_0-mlogloss:0.25603\tvalidation_1-merror:0.09852\tvalidation_1-mlogloss:0.54944\n",
      "[6]\tvalidation_0-merror:0.00501\tvalidation_0-mlogloss:0.19739\tvalidation_1-merror:0.09606\tvalidation_1-mlogloss:0.49209\n",
      "[7]\tvalidation_0-merror:0.00250\tvalidation_0-mlogloss:0.15305\tvalidation_1-merror:0.09852\tvalidation_1-mlogloss:0.44675\n",
      "[8]\tvalidation_0-merror:0.00250\tvalidation_0-mlogloss:0.12090\tvalidation_1-merror:0.09606\tvalidation_1-mlogloss:0.41005\n",
      "[9]\tvalidation_0-merror:0.00188\tvalidation_0-mlogloss:0.09542\tvalidation_1-merror:0.09852\tvalidation_1-mlogloss:0.38280\n",
      "[10]\tvalidation_0-merror:0.00125\tvalidation_0-mlogloss:0.07578\tvalidation_1-merror:0.10099\tvalidation_1-mlogloss:0.36633\n",
      "[11]\tvalidation_0-merror:0.00000\tvalidation_0-mlogloss:0.06099\tvalidation_1-merror:0.10099\tvalidation_1-mlogloss:0.35114\n",
      "[12]\tvalidation_0-merror:0.00000\tvalidation_0-mlogloss:0.04939\tvalidation_1-merror:0.09852\tvalidation_1-mlogloss:0.34063\n",
      "[13]\tvalidation_0-merror:0.00000\tvalidation_0-mlogloss:0.04041\tvalidation_1-merror:0.10345\tvalidation_1-mlogloss:0.33141\n",
      "[14]\tvalidation_0-merror:0.00000\tvalidation_0-mlogloss:0.03370\tvalidation_1-merror:0.10099\tvalidation_1-mlogloss:0.32415\n",
      "[15]\tvalidation_0-merror:0.00000\tvalidation_0-mlogloss:0.02832\tvalidation_1-merror:0.10099\tvalidation_1-mlogloss:0.31757\n",
      "[16]\tvalidation_0-merror:0.00000\tvalidation_0-mlogloss:0.02422\tvalidation_1-merror:0.09852\tvalidation_1-mlogloss:0.30989\n",
      "[17]\tvalidation_0-merror:0.00000\tvalidation_0-mlogloss:0.02089\tvalidation_1-merror:0.09852\tvalidation_1-mlogloss:0.30725\n",
      "[18]\tvalidation_0-merror:0.00000\tvalidation_0-mlogloss:0.01818\tvalidation_1-merror:0.10099\tvalidation_1-mlogloss:0.30426\n",
      "[19]\tvalidation_0-merror:0.00000\tvalidation_0-mlogloss:0.01608\tvalidation_1-merror:0.09852\tvalidation_1-mlogloss:0.30231\n",
      "[20]\tvalidation_0-merror:0.00000\tvalidation_0-mlogloss:0.01431\tvalidation_1-merror:0.09852\tvalidation_1-mlogloss:0.29995\n",
      "[21]\tvalidation_0-merror:0.00000\tvalidation_0-mlogloss:0.01292\tvalidation_1-merror:0.09606\tvalidation_1-mlogloss:0.29890\n",
      "[22]\tvalidation_0-merror:0.00000\tvalidation_0-mlogloss:0.01174\tvalidation_1-merror:0.09852\tvalidation_1-mlogloss:0.29805\n",
      "[23]\tvalidation_0-merror:0.00000\tvalidation_0-mlogloss:0.01074\tvalidation_1-merror:0.09606\tvalidation_1-mlogloss:0.29816\n",
      "[24]\tvalidation_0-merror:0.00000\tvalidation_0-mlogloss:0.00989\tvalidation_1-merror:0.09606\tvalidation_1-mlogloss:0.29815\n",
      "[25]\tvalidation_0-merror:0.00000\tvalidation_0-mlogloss:0.00927\tvalidation_1-merror:0.09852\tvalidation_1-mlogloss:0.29669\n",
      "[26]\tvalidation_0-merror:0.00000\tvalidation_0-mlogloss:0.00875\tvalidation_1-merror:0.09852\tvalidation_1-mlogloss:0.29431\n",
      "[27]\tvalidation_0-merror:0.00000\tvalidation_0-mlogloss:0.00831\tvalidation_1-merror:0.09852\tvalidation_1-mlogloss:0.29328\n",
      "[28]\tvalidation_0-merror:0.00000\tvalidation_0-mlogloss:0.00794\tvalidation_1-merror:0.10099\tvalidation_1-mlogloss:0.29464\n",
      "[29]\tvalidation_0-merror:0.00000\tvalidation_0-mlogloss:0.00760\tvalidation_1-merror:0.09852\tvalidation_1-mlogloss:0.29632\n",
      "[30]\tvalidation_0-merror:0.00000\tvalidation_0-mlogloss:0.00732\tvalidation_1-merror:0.09852\tvalidation_1-mlogloss:0.29805\n",
      "[31]\tvalidation_0-merror:0.00000\tvalidation_0-mlogloss:0.00708\tvalidation_1-merror:0.10099\tvalidation_1-mlogloss:0.29762\n",
      "[32]\tvalidation_0-merror:0.00000\tvalidation_0-mlogloss:0.00684\tvalidation_1-merror:0.10099\tvalidation_1-mlogloss:0.29781\n",
      "[33]\tvalidation_0-merror:0.00000\tvalidation_0-mlogloss:0.00666\tvalidation_1-merror:0.10099\tvalidation_1-mlogloss:0.29910\n",
      "[34]\tvalidation_0-merror:0.00000\tvalidation_0-mlogloss:0.00649\tvalidation_1-merror:0.10099\tvalidation_1-mlogloss:0.29847\n",
      "[35]\tvalidation_0-merror:0.00000\tvalidation_0-mlogloss:0.00634\tvalidation_1-merror:0.10099\tvalidation_1-mlogloss:0.29821\n",
      "[36]\tvalidation_0-merror:0.00000\tvalidation_0-mlogloss:0.00619\tvalidation_1-merror:0.10099\tvalidation_1-mlogloss:0.29706\n"
     ]
    },
    {
     "data": {
      "image/png": "[encoded data removed]",
      "text/plain": [
       "<Figure size 2000x500 with 2 Axes>"
      ]
     },
     "metadata": {},
     "output_type": "display_data"
    }
   ],
   "source": [
    "lvae_xgboost = train_xgboost(lvae_df, X_train, y_train, X_test, y_test)"
   ]
  },
  {
   "cell_type": "code",
   "execution_count": 24,
   "id": "55348b34-21f5-4431-8ef4-703647ca78b0",
   "metadata": {},
   "outputs": [],
   "source": [
    "y_pred = lvae_xgboost.predict(X_test)"
   ]
  },
  {
   "cell_type": "code",
   "execution_count": 25,
   "id": "e7861199-10c4-4b7a-9dab-0652484036df",
   "metadata": {},
   "outputs": [],
   "source": [
    "stats.append(prediction_stats(\"XGB_scANVI\", lvae_xgboost, y_test, y_pred, lvae_df.values[:, :-1], lvae_df['target'].cat.codes.to_numpy()))"
   ]
  },
  {
   "cell_type": "code",
   "execution_count": 26,
   "id": "16620a43-8bdf-4a11-a4c6-eaaf02f58f8a",
   "metadata": {},
   "outputs": [],
   "source": [
    "lvae_xgboost.save_model(\"../results/02_mouse_integration/05_scANVI_xgboost.json\")"
   ]
  },
  {
   "cell_type": "markdown",
   "id": "59b423f8-7e51-4b7c-9c5f-cbf2eed3266a",
   "metadata": {},
   "source": [
    "### 3.3. scGEN"
   ]
  },
  {
   "cell_type": "code",
   "execution_count": 27,
   "id": "84b8e5f3-2f4c-48b8-90c1-b6b4e0231f3e",
   "metadata": {},
   "outputs": [
    {
     "name": "stdout",
     "output_type": "stream",
     "text": [
      "\u001b[34mINFO    \u001b[0m File ..\u001b[35m/results/02_mouse_integration/scgen/\u001b[0m\u001b[95mmodel.pt\u001b[0m already downloaded                                    \n"
     ]
    }
   ],
   "source": [
    "mscgen = scgen.SCGEN.load(\"../results/02_mouse_integration/scgen/\")"
   ]
  },
  {
   "cell_type": "code",
   "execution_count": 28,
   "id": "cbbb7799-0ae6-4185-b024-b5c7d78cc0b8",
   "metadata": {},
   "outputs": [
    {
     "data": {
      "text/html": [
       "<div>\n",
       "<style scoped>\n",
       "    .dataframe tbody tr th:only-of-type {\n",
       "        vertical-align: middle;\n",
       "    }\n",
       "\n",
       "    .dataframe tbody tr th {\n",
       "        vertical-align: top;\n",
       "    }\n",
       "\n",
       "    .dataframe thead th {\n",
       "        text-align: right;\n",
       "    }\n",
       "</style>\n",
       "<table border=\"1\" class=\"dataframe\">\n",
       "  <thead>\n",
       "    <tr style=\"text-align: right;\">\n",
       "      <th></th>\n",
       "      <th>sox17</th>\n",
       "      <th>ppp1r42</th>\n",
       "      <th>arfgef1</th>\n",
       "      <th>prdm14</th>\n",
       "      <th>xkr9</th>\n",
       "      <th>msc</th>\n",
       "      <th>ube2w</th>\n",
       "      <th>gm7654</th>\n",
       "      <th>tmem70</th>\n",
       "      <th>ly96</th>\n",
       "      <th>...</th>\n",
       "      <th>stn1</th>\n",
       "      <th>gsto1</th>\n",
       "      <th>1700054a03rik</th>\n",
       "      <th>gm50273</th>\n",
       "      <th>habp2</th>\n",
       "      <th>ccdc186</th>\n",
       "      <th>afap1l2</th>\n",
       "      <th>pnlip</th>\n",
       "      <th>pnliprp2</th>\n",
       "      <th>target</th>\n",
       "    </tr>\n",
       "  </thead>\n",
       "  <tbody>\n",
       "    <tr>\n",
       "      <th>SRX259148</th>\n",
       "      <td>0.129524</td>\n",
       "      <td>-0.009126</td>\n",
       "      <td>0.580587</td>\n",
       "      <td>-0.027672</td>\n",
       "      <td>0.165227</td>\n",
       "      <td>0.593042</td>\n",
       "      <td>0.868470</td>\n",
       "      <td>-0.005957</td>\n",
       "      <td>1.724664</td>\n",
       "      <td>1.235015</td>\n",
       "      <td>...</td>\n",
       "      <td>1.047719</td>\n",
       "      <td>3.994854</td>\n",
       "      <td>0.026034</td>\n",
       "      <td>0.019212</td>\n",
       "      <td>-0.022841</td>\n",
       "      <td>0.752102</td>\n",
       "      <td>0.036959</td>\n",
       "      <td>0.001139</td>\n",
       "      <td>0.642708</td>\n",
       "      <td>16C</td>\n",
       "    </tr>\n",
       "    <tr>\n",
       "      <th>SRX259191</th>\n",
       "      <td>0.042759</td>\n",
       "      <td>-0.009889</td>\n",
       "      <td>0.608965</td>\n",
       "      <td>0.035671</td>\n",
       "      <td>0.257579</td>\n",
       "      <td>0.512698</td>\n",
       "      <td>0.708813</td>\n",
       "      <td>-0.007634</td>\n",
       "      <td>1.550365</td>\n",
       "      <td>1.364577</td>\n",
       "      <td>...</td>\n",
       "      <td>1.072520</td>\n",
       "      <td>3.394770</td>\n",
       "      <td>0.016012</td>\n",
       "      <td>0.020248</td>\n",
       "      <td>-0.048329</td>\n",
       "      <td>0.858443</td>\n",
       "      <td>0.036058</td>\n",
       "      <td>0.028643</td>\n",
       "      <td>0.485618</td>\n",
       "      <td>8C</td>\n",
       "    </tr>\n",
       "    <tr>\n",
       "      <th>SRX259121</th>\n",
       "      <td>-0.062429</td>\n",
       "      <td>-0.002099</td>\n",
       "      <td>0.516726</td>\n",
       "      <td>-0.141183</td>\n",
       "      <td>0.291033</td>\n",
       "      <td>0.251529</td>\n",
       "      <td>0.438559</td>\n",
       "      <td>-0.008837</td>\n",
       "      <td>1.417975</td>\n",
       "      <td>1.416850</td>\n",
       "      <td>...</td>\n",
       "      <td>0.471408</td>\n",
       "      <td>2.301015</td>\n",
       "      <td>0.038988</td>\n",
       "      <td>0.019344</td>\n",
       "      <td>0.005064</td>\n",
       "      <td>0.552338</td>\n",
       "      <td>-0.009445</td>\n",
       "      <td>-0.026622</td>\n",
       "      <td>0.361133</td>\n",
       "      <td>16C</td>\n",
       "    </tr>\n",
       "    <tr>\n",
       "      <th>SRX259140</th>\n",
       "      <td>-0.067408</td>\n",
       "      <td>-0.014072</td>\n",
       "      <td>0.476634</td>\n",
       "      <td>0.038267</td>\n",
       "      <td>0.143380</td>\n",
       "      <td>0.544186</td>\n",
       "      <td>0.797441</td>\n",
       "      <td>-0.009345</td>\n",
       "      <td>1.724418</td>\n",
       "      <td>1.436977</td>\n",
       "      <td>...</td>\n",
       "      <td>0.957134</td>\n",
       "      <td>3.538107</td>\n",
       "      <td>0.023010</td>\n",
       "      <td>0.025978</td>\n",
       "      <td>-0.022783</td>\n",
       "      <td>0.754117</td>\n",
       "      <td>0.064578</td>\n",
       "      <td>0.004726</td>\n",
       "      <td>0.577420</td>\n",
       "      <td>16C</td>\n",
       "    </tr>\n",
       "    <tr>\n",
       "      <th>SRX259161</th>\n",
       "      <td>0.009253</td>\n",
       "      <td>0.033485</td>\n",
       "      <td>1.305035</td>\n",
       "      <td>0.533173</td>\n",
       "      <td>-0.025159</td>\n",
       "      <td>0.184909</td>\n",
       "      <td>1.239522</td>\n",
       "      <td>0.022633</td>\n",
       "      <td>2.215558</td>\n",
       "      <td>1.189655</td>\n",
       "      <td>...</td>\n",
       "      <td>1.302740</td>\n",
       "      <td>1.088298</td>\n",
       "      <td>0.003135</td>\n",
       "      <td>0.037767</td>\n",
       "      <td>0.004102</td>\n",
       "      <td>1.716617</td>\n",
       "      <td>0.146538</td>\n",
       "      <td>0.081518</td>\n",
       "      <td>0.166842</td>\n",
       "      <td>4C</td>\n",
       "    </tr>\n",
       "  </tbody>\n",
       "</table>\n",
       "<p>5 rows × 3001 columns</p>\n",
       "</div>"
      ],
      "text/plain": [
       "              sox17   ppp1r42   arfgef1    prdm14      xkr9       msc  \\\n",
       "SRX259148  0.129524 -0.009126  0.580587 -0.027672  0.165227  0.593042   \n",
       "SRX259191  0.042759 -0.009889  0.608965  0.035671  0.257579  0.512698   \n",
       "SRX259121 -0.062429 -0.002099  0.516726 -0.141183  0.291033  0.251529   \n",
       "SRX259140 -0.067408 -0.014072  0.476634  0.038267  0.143380  0.544186   \n",
       "SRX259161  0.009253  0.033485  1.305035  0.533173 -0.025159  0.184909   \n",
       "\n",
       "              ube2w    gm7654    tmem70      ly96  ...      stn1     gsto1  \\\n",
       "SRX259148  0.868470 -0.005957  1.724664  1.235015  ...  1.047719  3.994854   \n",
       "SRX259191  0.708813 -0.007634  1.550365  1.364577  ...  1.072520  3.394770   \n",
       "SRX259121  0.438559 -0.008837  1.417975  1.416850  ...  0.471408  2.301015   \n",
       "SRX259140  0.797441 -0.009345  1.724418  1.436977  ...  0.957134  3.538107   \n",
       "SRX259161  1.239522  0.022633  2.215558  1.189655  ...  1.302740  1.088298   \n",
       "\n",
       "           1700054a03rik   gm50273     habp2   ccdc186   afap1l2     pnlip  \\\n",
       "SRX259148       0.026034  0.019212 -0.022841  0.752102  0.036959  0.001139   \n",
       "SRX259191       0.016012  0.020248 -0.048329  0.858443  0.036058  0.028643   \n",
       "SRX259121       0.038988  0.019344  0.005064  0.552338 -0.009445 -0.026622   \n",
       "SRX259140       0.023010  0.025978 -0.022783  0.754117  0.064578  0.004726   \n",
       "SRX259161       0.003135  0.037767  0.004102  1.716617  0.146538  0.081518   \n",
       "\n",
       "           pnliprp2  target  \n",
       "SRX259148  0.642708     16C  \n",
       "SRX259191  0.485618      8C  \n",
       "SRX259121  0.361133     16C  \n",
       "SRX259140  0.577420     16C  \n",
       "SRX259161  0.166842      4C  \n",
       "\n",
       "[5 rows x 3001 columns]"
      ]
     },
     "execution_count": 28,
     "metadata": {},
     "output_type": "execute_result"
    }
   ],
   "source": [
    "mscgen_df = pd.DataFrame(mscgen.get_decoded_expression(), \n",
    "                         index=mscgen.adata.obs_names, columns=mscgen.adata.var_names)\n",
    "mscgen_df['target'] = mscgen.adata.obs['ct']\n",
    "mscgen_df.head()"
   ]
  },
  {
   "cell_type": "code",
   "execution_count": 29,
   "id": "6072fd37-3f6d-4c3b-bf76-cc6fa81ade9e",
   "metadata": {},
   "outputs": [],
   "source": [
    "X_train, y_train, X_test, y_test = train_test_split_by_group(mscgen_df)"
   ]
  },
  {
   "cell_type": "code",
   "execution_count": 30,
   "id": "53f6acc0-f089-4f54-842e-33d6895609e7",
   "metadata": {},
   "outputs": [
    {
     "name": "stdout",
     "output_type": "stream",
     "text": [
      "[0]\tvalidation_0-merror:0.02753\tvalidation_0-mlogloss:1.10220\tvalidation_1-merror:0.07882\tvalidation_1-mlogloss:1.17242\n",
      "[1]\tvalidation_0-merror:0.01815\tvalidation_0-mlogloss:0.77531\tvalidation_1-merror:0.07389\tvalidation_1-mlogloss:0.88407\n",
      "[2]\tvalidation_0-merror:0.01252\tvalidation_0-mlogloss:0.56490\tvalidation_1-merror:0.06650\tvalidation_1-mlogloss:0.69409\n",
      "[3]\tvalidation_0-merror:0.00876\tvalidation_0-mlogloss:0.42008\tvalidation_1-merror:0.06404\tvalidation_1-mlogloss:0.56456\n",
      "[4]\tvalidation_0-merror:0.00688\tvalidation_0-mlogloss:0.31672\tvalidation_1-merror:0.06158\tvalidation_1-mlogloss:0.46782\n",
      "[5]\tvalidation_0-merror:0.00501\tvalidation_0-mlogloss:0.24033\tvalidation_1-merror:0.06158\tvalidation_1-mlogloss:0.40182\n",
      "[6]\tvalidation_0-merror:0.00375\tvalidation_0-mlogloss:0.18417\tvalidation_1-merror:0.06404\tvalidation_1-mlogloss:0.35392\n",
      "[7]\tvalidation_0-merror:0.00125\tvalidation_0-mlogloss:0.14143\tvalidation_1-merror:0.06158\tvalidation_1-mlogloss:0.31127\n",
      "[8]\tvalidation_0-merror:0.00063\tvalidation_0-mlogloss:0.10950\tvalidation_1-merror:0.05911\tvalidation_1-mlogloss:0.28430\n",
      "[9]\tvalidation_0-merror:0.00063\tvalidation_0-mlogloss:0.08584\tvalidation_1-merror:0.05419\tvalidation_1-mlogloss:0.26294\n",
      "[10]\tvalidation_0-merror:0.00000\tvalidation_0-mlogloss:0.06750\tvalidation_1-merror:0.05419\tvalidation_1-mlogloss:0.24574\n",
      "[11]\tvalidation_0-merror:0.00000\tvalidation_0-mlogloss:0.05349\tvalidation_1-merror:0.05419\tvalidation_1-mlogloss:0.23149\n",
      "[12]\tvalidation_0-merror:0.00000\tvalidation_0-mlogloss:0.04296\tvalidation_1-merror:0.05172\tvalidation_1-mlogloss:0.22194\n",
      "[13]\tvalidation_0-merror:0.00000\tvalidation_0-mlogloss:0.03500\tvalidation_1-merror:0.05419\tvalidation_1-mlogloss:0.21303\n",
      "[14]\tvalidation_0-merror:0.00000\tvalidation_0-mlogloss:0.02891\tvalidation_1-merror:0.05172\tvalidation_1-mlogloss:0.20760\n",
      "[15]\tvalidation_0-merror:0.00000\tvalidation_0-mlogloss:0.02419\tvalidation_1-merror:0.05172\tvalidation_1-mlogloss:0.20254\n",
      "[16]\tvalidation_0-merror:0.00000\tvalidation_0-mlogloss:0.02050\tvalidation_1-merror:0.05419\tvalidation_1-mlogloss:0.20035\n",
      "[17]\tvalidation_0-merror:0.00000\tvalidation_0-mlogloss:0.01761\tvalidation_1-merror:0.05419\tvalidation_1-mlogloss:0.19680\n",
      "[18]\tvalidation_0-merror:0.00000\tvalidation_0-mlogloss:0.01529\tvalidation_1-merror:0.05419\tvalidation_1-mlogloss:0.19592\n",
      "[19]\tvalidation_0-merror:0.00000\tvalidation_0-mlogloss:0.01347\tvalidation_1-merror:0.05419\tvalidation_1-mlogloss:0.19497\n",
      "[20]\tvalidation_0-merror:0.00000\tvalidation_0-mlogloss:0.01202\tvalidation_1-merror:0.05419\tvalidation_1-mlogloss:0.19207\n",
      "[21]\tvalidation_0-merror:0.00000\tvalidation_0-mlogloss:0.01080\tvalidation_1-merror:0.05419\tvalidation_1-mlogloss:0.19109\n",
      "[22]\tvalidation_0-merror:0.00000\tvalidation_0-mlogloss:0.00985\tvalidation_1-merror:0.05419\tvalidation_1-mlogloss:0.19257\n",
      "[23]\tvalidation_0-merror:0.00000\tvalidation_0-mlogloss:0.00908\tvalidation_1-merror:0.05419\tvalidation_1-mlogloss:0.19313\n",
      "[24]\tvalidation_0-merror:0.00000\tvalidation_0-mlogloss:0.00847\tvalidation_1-merror:0.05419\tvalidation_1-mlogloss:0.19265\n",
      "[25]\tvalidation_0-merror:0.00000\tvalidation_0-mlogloss:0.00794\tvalidation_1-merror:0.05419\tvalidation_1-mlogloss:0.19297\n",
      "[26]\tvalidation_0-merror:0.00000\tvalidation_0-mlogloss:0.00753\tvalidation_1-merror:0.05419\tvalidation_1-mlogloss:0.19289\n",
      "[27]\tvalidation_0-merror:0.00000\tvalidation_0-mlogloss:0.00718\tvalidation_1-merror:0.05419\tvalidation_1-mlogloss:0.19182\n",
      "[28]\tvalidation_0-merror:0.00000\tvalidation_0-mlogloss:0.00689\tvalidation_1-merror:0.05419\tvalidation_1-mlogloss:0.19347\n",
      "[29]\tvalidation_0-merror:0.00000\tvalidation_0-mlogloss:0.00664\tvalidation_1-merror:0.05419\tvalidation_1-mlogloss:0.19384\n",
      "[30]\tvalidation_0-merror:0.00000\tvalidation_0-mlogloss:0.00646\tvalidation_1-merror:0.05419\tvalidation_1-mlogloss:0.19353\n"
     ]
    },
    {
     "data": {
      "image/png": "[encoded data removed]",
      "text/plain": [
       "<Figure size 2000x500 with 2 Axes>"
      ]
     },
     "metadata": {},
     "output_type": "display_data"
    }
   ],
   "source": [
    "mscgen_xgboost = train_xgboost(mscgen_df, X_train, y_train, X_test, y_test)"
   ]
  },
  {
   "cell_type": "code",
   "execution_count": 31,
   "id": "f167c607-e0f7-479d-99db-39ceb23747a2",
   "metadata": {},
   "outputs": [],
   "source": [
    "stats.append(prediction_stats(\"XGB_scGEN\", mscgen_xgboost, y_test, y_pred, mscgen_df.values[:, :-1], mscgen_df['target'].cat.codes.to_numpy()))"
   ]
  },
  {
   "cell_type": "code",
   "execution_count": 32,
   "id": "4e8c67b6-dc14-4f31-918f-ac625ca2a5ee",
   "metadata": {},
   "outputs": [],
   "source": [
    "mscgen_xgboost.save_model(\"../results/02_mouse_integration/05_scGEN_xgboost.json\")"
   ]
  },
  {
   "cell_type": "markdown",
   "id": "f43376c9-5365-495c-90dd-9633e8c1f06f",
   "metadata": {},
   "source": [
    "## 4. Summary"
   ]
  },
  {
   "cell_type": "code",
   "execution_count": 33,
   "id": "fe70f55a-1fad-4109-a954-ef7825728857",
   "metadata": {},
   "outputs": [
    {
     "data": {
      "text/html": [
       "<div>\n",
       "<style scoped>\n",
       "    .dataframe tbody tr th:only-of-type {\n",
       "        vertical-align: middle;\n",
       "    }\n",
       "\n",
       "    .dataframe tbody tr th {\n",
       "        vertical-align: top;\n",
       "    }\n",
       "\n",
       "    .dataframe thead th {\n",
       "        text-align: right;\n",
       "    }\n",
       "</style>\n",
       "<table border=\"1\" class=\"dataframe\">\n",
       "  <thead>\n",
       "    <tr style=\"text-align: right;\">\n",
       "      <th></th>\n",
       "      <th>accuracy</th>\n",
       "      <th>balanced_accuracy</th>\n",
       "      <th>f1_micro</th>\n",
       "      <th>f1_macro</th>\n",
       "      <th>cv_accuracy</th>\n",
       "    </tr>\n",
       "    <tr>\n",
       "      <th>method</th>\n",
       "      <th></th>\n",
       "      <th></th>\n",
       "      <th></th>\n",
       "      <th></th>\n",
       "      <th></th>\n",
       "    </tr>\n",
       "  </thead>\n",
       "  <tbody>\n",
       "    <tr>\n",
       "      <th>scANVI</th>\n",
       "      <td>0.830339</td>\n",
       "      <td>0.649818</td>\n",
       "      <td>0.830339</td>\n",
       "      <td>0.634290</td>\n",
       "      <td>NaN</td>\n",
       "    </tr>\n",
       "    <tr>\n",
       "      <th>scANVI_ns15</th>\n",
       "      <td>0.793413</td>\n",
       "      <td>0.879503</td>\n",
       "      <td>0.793413</td>\n",
       "      <td>0.777624</td>\n",
       "      <td>NaN</td>\n",
       "    </tr>\n",
       "    <tr>\n",
       "      <th>XGB_scVI</th>\n",
       "      <td>0.960591</td>\n",
       "      <td>0.963041</td>\n",
       "      <td>0.960591</td>\n",
       "      <td>0.967656</td>\n",
       "      <td>0.935637</td>\n",
       "    </tr>\n",
       "    <tr>\n",
       "      <th>XGB_scANVI</th>\n",
       "      <td>0.901478</td>\n",
       "      <td>0.917235</td>\n",
       "      <td>0.901478</td>\n",
       "      <td>0.923392</td>\n",
       "      <td>0.920664</td>\n",
       "    </tr>\n",
       "    <tr>\n",
       "      <th>XGB_scGEN</th>\n",
       "      <td>0.901478</td>\n",
       "      <td>0.917235</td>\n",
       "      <td>0.901478</td>\n",
       "      <td>0.923392</td>\n",
       "      <td>0.942602</td>\n",
       "    </tr>\n",
       "  </tbody>\n",
       "</table>\n",
       "</div>"
      ],
      "text/plain": [
       "             accuracy  balanced_accuracy  f1_micro  f1_macro  cv_accuracy\n",
       "method                                                                   \n",
       "scANVI       0.830339           0.649818  0.830339  0.634290          NaN\n",
       "scANVI_ns15  0.793413           0.879503  0.793413  0.777624          NaN\n",
       "XGB_scVI     0.960591           0.963041  0.960591  0.967656     0.935637\n",
       "XGB_scANVI   0.901478           0.917235  0.901478  0.923392     0.920664\n",
       "XGB_scGEN    0.901478           0.917235  0.901478  0.923392     0.942602"
      ]
     },
     "execution_count": 33,
     "metadata": {},
     "output_type": "execute_result"
    }
   ],
   "source": [
    "stats_df = pd.DataFrame(stats, columns=['method', 'accuracy', 'balanced_accuracy', 'f1_micro', 'f1_macro', 'cv_accuracy']).set_index('method')\n",
    "stats_df.to_csv(\"../results/05_mouse_classifier_stats.csv\")\n",
    "\n",
    "stats_df"
   ]
  },
  {
   "cell_type": "code",
   "execution_count": 34,
   "id": "549e48ff-cf68-4be1-8c82-811386a6a78a",
   "metadata": {},
   "outputs": [
    {
     "data": {
      "text/plain": [
       "<matplotlib.legend.Legend at 0x7f01bfb91390>"
      ]
     },
     "execution_count": 34,
     "metadata": {},
     "output_type": "execute_result"
    },
    {
     "data": {
      "image/png": "[encoded data removed]",
      "text/plain": [
       "<Figure size 640x480 with 1 Axes>"
      ]
     },
     "metadata": {},
     "output_type": "display_data"
    }
   ],
   "source": [
    "stats_df.plot(kind='bar')\n",
    "plt.gca().spines[['right', 'top']].set_visible(False)\n",
    "plt.gca().legend(title='Metrics', bbox_to_anchor=(0.99, 1.02), loc='upper left')"
   ]
  },
  {
   "cell_type": "code",
   "execution_count": null,
   "id": "83a21373-a8a9-4d7c-a871-c8ce0d845773",
   "metadata": {},
   "outputs": [],
   "source": []
  }
 ],
 "metadata": {
  "kernelspec": {
   "display_name": "Python [conda env:conda-scvi-1.0.0-2]",
   "language": "python",
   "name": "conda-env-conda-scvi-1.0.0-2-py"
  },
  "language_info": {
   "codemirror_mode": {
    "name": "ipython",
    "version": 3
   },
   "file_extension": ".py",
   "mimetype": "text/x-python",
   "name": "python",
   "nbconvert_exporter": "python",
   "pygments_lexer": "ipython3",
   "version": "3.10.11"
  }
 },
 "nbformat": 4,
 "nbformat_minor": 5
}
