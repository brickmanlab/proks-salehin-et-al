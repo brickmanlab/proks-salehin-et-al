{
 "cells": [
  {
   "cell_type": "markdown",
   "id": "72e84b59-2864-467f-bdb6-15025c14e454",
   "metadata": {},
   "source": [
    "---\n",
    "title: 02 - mouse tunning\n",
    "author: Martin Proks\n",
    "date: 07-07-2023\n",
    "---\n",
    "\n",
    "This notebook contains multiple methods on how we trained the model. We summarize below which params were helpful in generating better integration.\n",
    "\n",
    "- `n_layers`: should be 2 - 3\n",
    "- `gene_dispersion`: `gene` proved to be the best\n",
    "- `gene_likelihood`: `nb` prefered over `zinb`\n",
    "- `dropout_rate`: smaller penalization keeps datapoints closer (`0.005`)"
   ]
  },
  {
   "cell_type": "code",
   "execution_count": null,
   "id": "4fd2e039-f9d0-43ae-8ab9-c1838e41971a",
   "metadata": {},
   "outputs": [],
   "source": [
    "!which pip"
   ]
  },
  {
   "cell_type": "code",
   "execution_count": null,
   "id": "c22e4df9-1ecd-4a55-a3ec-3b72a5af966b",
   "metadata": {},
   "outputs": [],
   "source": [
    "import scvi\n",
    "import scanpy as sc\n",
    "import numpy as np\n",
    "import matplotlib.pyplot as plt\n",
    "\n",
    "\n",
    "from rich import print\n",
    "from scib_metrics.benchmark import Benchmarker\n",
    "from scvi.model.utils import mde\n",
    "\n",
    "\n",
    "import warnings\n",
    "from lightning_fabric.plugins.environments.slurm import PossibleUserWarning\n",
    "warnings.simplefilter(action='ignore', category=PossibleUserWarning)\n",
    "warnings.simplefilter(action='ignore', category=UserWarning)\n",
    "warnings.simplefilter(action='ignore', category=FutureWarning)\n",
    "\n",
    "scvi.settings.seed = 42"
   ]
  },
  {
   "cell_type": "code",
   "execution_count": null,
   "id": "d5415625-55b1-411c-bca6-0c322683fad2",
   "metadata": {},
   "outputs": [],
   "source": [
    "sc.set_figure_params(figsize=(10, 6))\n",
    "\n",
    "%config InlineBackend.print_figure_kwargs={'facecolor' : \"w\"}\n",
    "%config InlineBackend.figure_format='retina'"
   ]
  },
  {
   "cell_type": "code",
   "execution_count": null,
   "id": "a9e6d4e1-0ef9-4cab-a2c6-6e65a460cac2",
   "metadata": {},
   "outputs": [],
   "source": [
    "adata = sc.read(\"../data/processed/01_mouse_reprocessed.h5ad\")\n",
    "adata"
   ]
  },
  {
   "cell_type": "code",
   "execution_count": null,
   "id": "abddb5b3-9fdf-4d38-9c16-f32abc81d4e6",
   "metadata": {},
   "outputs": [],
   "source": [
    "adata.obs.experiment.unique().tolist()"
   ]
  },
  {
   "cell_type": "code",
   "execution_count": null,
   "id": "5e599b05-4811-4138-ac4e-df4612cd7b04",
   "metadata": {},
   "outputs": [],
   "source": [
    "sc.pp.highly_variable_genes(\n",
    "    adata,\n",
    "    flavor=\"seurat_v3\",\n",
    "    n_top_genes=3_000,\n",
    "    layer=\"counts\",\n",
    "    batch_key=\"batch\",\n",
    "    subset=True,\n",
    ")"
   ]
  },
  {
   "cell_type": "markdown",
   "id": "a35914b6-4664-4161-9db9-b13779066bc7",
   "metadata": {
    "jp-MarkdownHeadingCollapsed": true
   },
   "source": [
    "## 2. Pimp my model: brute-force\n",
    "\n",
    "In this method we brute-force params. At each iteration we generate PAGA graph which we use to check if the integration\n",
    "connects the correct cell types."
   ]
  },
  {
   "cell_type": "code",
   "execution_count": null,
   "id": "f4bd84be-0eb6-427c-9c5a-832fa8385898",
   "metadata": {},
   "outputs": [],
   "source": [
    "import itertools\n",
    "import pandas as pd"
   ]
  },
  {
   "cell_type": "code",
   "execution_count": null,
   "id": "ba8a3225-67c4-42f2-b425-f490a8ba4dba",
   "metadata": {},
   "outputs": [],
   "source": [
    "ref_df = pd.DataFrame(0, index=adata.obs.ct.cat.categories, columns=adata.obs.ct.cat.categories)\n",
    "ref_df.loc['Zygote', '2C'] = 1\n",
    "ref_df.loc['2C', '4C'] = 1\n",
    "ref_df.loc['4C', '8C'] = 1\n",
    "ref_df.loc['16C', 'E3.25-ICM'] = 1\n",
    "ref_df.loc['E3.25-ICM', 'E3.5-ICM'] = 1\n",
    "# df.loc['E3.5-ICM', 'E3.5-PrE'] = 1\n",
    "# df.loc['E3.5-ICM', 'E3.5-EPI'] = 1\n",
    "# df.loc['E3.5-ICM', 'E3.5-TE'] = 1\n",
    "\n",
    "ref_df.loc['E3.5-EPI', 'E4.5-EPI'] = 1\n",
    "ref_df.loc['E3.5-PrE', 'E4.5-PrE'] = 1\n",
    "ref_df.loc['E3.5-TE', 'E4.5-TE'] = 1"
   ]
  },
  {
   "cell_type": "code",
   "execution_count": null,
   "id": "f8c3f2eb-4980-4458-8f5e-4e57dd4e52d0",
   "metadata": {},
   "outputs": [],
   "source": [
    "scvi.model.SCVI.setup_anndata(adata, layer=\"counts\", batch_key=\"batch\")"
   ]
  },
  {
   "cell_type": "code",
   "execution_count": null,
   "id": "8801882a-699a-467f-9d98-820ed4a1b32d",
   "metadata": {},
   "outputs": [],
   "source": [
    "params = [[\"nb\", \"zinb\"], [\"gene\", \"gene-batch\"], [32, 64, 128], list(range(2,6))]"
   ]
  },
  {
   "cell_type": "code",
   "execution_count": null,
   "id": "ea26b6b5-21e0-49b9-8866-9e3668c5e791",
   "metadata": {
    "scrolled": true
   },
   "outputs": [],
   "source": [
    "tracked_params = []\n",
    "\n",
    "for items in list(itertools.product(*params)):\n",
    "    gene_likelihood, dispersion, n_layers, n_hidden = items\n",
    "    \n",
    "    # SCVI\n",
    "    vae = scvi.model.SCVI(\n",
    "        adata, \n",
    "        n_layers=n_layers, \n",
    "        n_hidden=n_hidden, \n",
    "        dispersion=dispersion, \n",
    "        gene_likelihood=gene_likelihood\n",
    "    )\n",
    "    vae.train(use_gpu=1, max_epochs=400, early_stopping=True)\n",
    "    \n",
    "    # SCANVI\n",
    "    lvae = scvi.model.SCANVI.from_scvi_model(\n",
    "        vae,\n",
    "        adata=adata,\n",
    "        labels_key=\"ct\",\n",
    "        unlabeled_category=\"Unknown\",\n",
    "    )\n",
    "    lvae.train(max_epochs=10)\n",
    "    adata.obsm[\"X_scANVI\"] = lvae.get_latent_representation(adata)\n",
    "\n",
    "    try:\n",
    "        sc.pp.neighbors(adata, use_rep='X_scANVI')\n",
    "        sc.tl.diffmap(adata)\n",
    "        sc.tl.paga(adata, groups='ct')\n",
    "        sc.pl.paga(adata, color=['ct'], frameon=False, fontoutline=True)\n",
    "        sc.tl.draw_graph(adata, init_pos='paga', n_jobs=10)\n",
    "        df = pd.DataFrame(\n",
    "            adata.uns['paga']['connectivities'].A, \n",
    "            index=adata.obs.ct.cat.categories, \n",
    "            columns=adata.obs.ct.cat.categories\n",
    "        )\n",
    "        # maximize the connectivity, even though the interaction\n",
    "        # is around 0.5\n",
    "        df = df.round()\n",
    "\n",
    "        n_ref = np.sum(ref_df.values * ref_df.values)\n",
    "        \n",
    "        tracked_params.append(list(items) + [n_ref] + [\"success\"])\n",
    "    except TypeError as e:\n",
    "        # TypeError: sparse matrix length is ambiguous; use getnnz() or shape[0]\n",
    "        # This error comes from PAGA, usually the integration was a fail\n",
    "        tracked_params.append(list(items) + [0] + [\"failed\"])"
   ]
  },
  {
   "cell_type": "code",
   "execution_count": null,
   "id": "0a5004f3-d1ab-458e-9b5c-60314dc980b6",
   "metadata": {},
   "outputs": [],
   "source": [
    "opt_params = pd.DataFrame(tracked_params, \n",
    "                          columns=['gene_likelihood', 'dispersion', 'n_layers', 'n_hidden', 'paga', 'run']) \\\n",
    "            .query('run == \"success\"') \\\n",
    "            # .query('n_layers >= 64')\n",
    "opt_params.to_csv(\"../results/02_mouse_integration/opt_params.csv\")\n",
    "opt_params"
   ]
  },
  {
   "cell_type": "markdown",
   "id": "b249bc2a-7335-4783-bcf7-32db846f3b02",
   "metadata": {},
   "source": [
    "## 3. Pimp my model: ray tunner"
   ]
  },
  {
   "cell_type": "code",
   "execution_count": null,
   "id": "d971eb44-2e17-4249-bc7a-2a8537843178",
   "metadata": {},
   "outputs": [],
   "source": [
    "import ray\n",
    "import jax\n",
    "import os\n",
    "\n",
    "from ray import tune\n",
    "from scvi import autotune\n",
    "\n",
    "os.environ['CUDA_VISIBLE_DEVICES'] = '1,2'"
   ]
  },
  {
   "cell_type": "code",
   "execution_count": null,
   "id": "00a41552-8c0c-4549-900e-82eee893866a",
   "metadata": {},
   "outputs": [],
   "source": [
    "jax.devices()"
   ]
  },
  {
   "cell_type": "code",
   "execution_count": null,
   "id": "adf93c8e-e2cd-4a92-b0f0-70df457d8683",
   "metadata": {},
   "outputs": [],
   "source": [
    "ref_tuner = sc.AnnData(adata.layers[\"counts\"])\n",
    "ref_tuner.obs = adata.obs[[\"total_counts\", \"technology\", \"batch\"]].copy()\n",
    "\n",
    "model_cls = scvi.model.SCVI\n",
    "model_cls.setup_anndata(ref_tuner, \n",
    "                        batch_key=\"batch\")\n",
    "\n",
    "scvi_tuner = autotune.ModelTuner(model_cls)"
   ]
  },
  {
   "cell_type": "code",
   "execution_count": null,
   "id": "02877ec3-1a64-49ef-9e58-434e6bd2d5a6",
   "metadata": {},
   "outputs": [],
   "source": [
    "scvi_tuner.info()"
   ]
  },
  {
   "cell_type": "code",
   "execution_count": null,
   "id": "b17222eb-bd6a-4c17-8649-81072a17b11c",
   "metadata": {},
   "outputs": [],
   "source": [
    "search_space = {\n",
    "    \"gene_likelihood\": tune.choice([\"nb\", \"zinb\"]),\n",
    "    \"dispersion\": tune.choice([\"gene\", \"gene-batch\"]),\n",
    "    \"n_hidden\": tune.choice([128, 144, 256]),\n",
    "    \"n_layers\": tune.choice([2, 3, 4, 5]),\n",
    "    \"lr\": tune.loguniform(1e-4, 0.6),\n",
    "}"
   ]
  },
  {
   "cell_type": "code",
   "execution_count": null,
   "id": "3217893e-1cfa-4683-ba2c-83ecc00335fc",
   "metadata": {},
   "outputs": [],
   "source": [
    "ray.init(\n",
    "    log_to_driver=False,\n",
    "    num_cpus=10,\n",
    "    num_gpus=2,\n",
    ")"
   ]
  },
  {
   "cell_type": "code",
   "execution_count": null,
   "id": "bc4e9c19-a143-416c-81c4-a59512ea4dd6",
   "metadata": {
    "scrolled": true
   },
   "outputs": [],
   "source": [
    "results = scvi_tuner.fit(\n",
    "    ref_tuner,\n",
    "    metric=\"validation_loss\",\n",
    "    search_space=search_space,\n",
    "    num_samples=50,\n",
    "    max_epochs=100,\n",
    ")"
   ]
  },
  {
   "cell_type": "code",
   "execution_count": null,
   "id": "0dd8870f-7254-4b92-8db2-6fa98322ff77",
   "metadata": {},
   "outputs": [],
   "source": [
    "print(results.model_kwargs)\n",
    "print(results.train_kwargs)\n",
    "print(results.metric)"
   ]
  },
  {
   "cell_type": "code",
   "execution_count": null,
   "id": "6b776338-249e-4a77-b33d-e02b311e0aa4",
   "metadata": {},
   "outputs": [],
   "source": [
    "import pandas as pd\n",
    "\n",
    "\n",
    "training = pd.DataFrame([\n",
    "    [x.metrics['validation_loss']] + x.path.split(',')[1:]\n",
    "    for x in results.results if 'validation_loss' in x.metrics\n",
    "]).sort_values(by=0)\n",
    "\n",
    "training.to_csv(\"../results/02_mouse_integration/tunning.csv\")\n",
    "display(training.head(10))"
   ]
  },
  {
   "cell_type": "code",
   "execution_count": null,
   "id": "9f6e92c9-e8c4-4263-b66a-0e76920ae48f",
   "metadata": {},
   "outputs": [],
   "source": []
  }
 ],
 "metadata": {
  "kernelspec": {
   "display_name": "Python [conda env:conda-scvi-1.0.0]",
   "language": "python",
   "name": "conda-env-conda-scvi-1.0.0-py"
  },
  "language_info": {
   "codemirror_mode": {
    "name": "ipython",
    "version": 3
   },
   "file_extension": ".py",
   "mimetype": "text/x-python",
   "name": "python",
   "nbconvert_exporter": "python",
   "pygments_lexer": "ipython3",
   "version": "3.10.11"
  }
 },
 "nbformat": 4,
 "nbformat_minor": 5
}
